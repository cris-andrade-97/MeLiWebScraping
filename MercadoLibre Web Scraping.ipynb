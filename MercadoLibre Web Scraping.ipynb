{
 "cells": [
  {
   "cell_type": "code",
   "execution_count": 2,
   "id": "13b61c2e",
   "metadata": {},
   "outputs": [],
   "source": [
    "import pandas as pd\n",
    "from bs4 import BeautifulSoup\n",
    "import requests\n",
    "import time"
   ]
  },
  {
   "cell_type": "code",
   "execution_count": 2,
   "id": "6aef2c15",
   "metadata": {
    "scrolled": false
   },
   "outputs": [],
   "source": [
    "HEADERS = {\"User-Agent\": \"Mozilla/5.0 (Windows NT 10.0; Win64; x64) AppleWebKit/537.36 (KHTML, like Gecko) Chrome/115.0.0.0 Safari/537.36\"}"
   ]
  },
  {
   "cell_type": "code",
   "execution_count": 3,
   "id": "34cde755",
   "metadata": {
    "scrolled": true
   },
   "outputs": [
    {
     "name": "stdout",
     "output_type": "stream",
     "text": [
      "Páginas visitadas:  38\n"
     ]
    }
   ],
   "source": [
    "listaURL = []\n",
    "pagina = 0\n",
    "cantidad = 1\n",
    "\n",
    "while True:   \n",
    "    \n",
    "    url = 'https://listado.mercadolibre.com.ar/computacion/monitores-accesorios/monitores/nuevo/monitor-led_Desde_'+str(cantidad)+'_NoIndex_True'\n",
    "    page = requests.get(url,headers=HEADERS)\n",
    "    \n",
    "    if page.status_code >= 400:\n",
    "        break\n",
    "    else:    \n",
    "        pagina += 1\n",
    "        soup = BeautifulSoup(page.content,'html.parser')    \n",
    "    \n",
    "        for x in soup.find_all('a',class_ = 'ui-search-item__group__element shops__items-group-details ui-search-link'):\n",
    "            if 'click1' not in str(x['href']):\n",
    "                listaURL.append(x['href'])\n",
    "    \n",
    "        cantidad += 50\n",
    "        \n",
    "        time.sleep(4)\n",
    "\n",
    "\n",
    "cantidad = None\n",
    "\n",
    "print('Páginas visitadas: ', pagina)"
   ]
  },
  {
   "cell_type": "code",
   "execution_count": 20,
   "id": "b8b14fde",
   "metadata": {
    "scrolled": true
   },
   "outputs": [
    {
     "data": {
      "text/plain": [
       "1824"
      ]
     },
     "execution_count": 20,
     "metadata": {},
     "output_type": "execute_result"
    }
   ],
   "source": [
    "cabeceras = ['Marca','Modelo','Tamaño de la pantalla','Tipo de resolución','Tipo de pantalla','Frecuencia de actualización recomendada','Precio','Link']\n",
    "\n",
    "# df = pd.DataFrame(columns = ['Marca','Modelo','Tamaño de la pantalla','Tipo de resolución','Tipo de pantalla','Frecuencia de actualización','Precio','Link'])\n",
    "df = pd.read_csv('Monitores LED y LCD - Mercado Libre Argentina - Agosto 2023.csv',index_col=0)\n",
    "listaURL = pd.read_csv('linksArticulos.csv')\n",
    "len(listaURL)"
   ]
  },
  {
   "cell_type": "code",
   "execution_count": null,
   "id": "475d7446",
   "metadata": {
    "scrolled": true
   },
   "outputs": [],
   "source": [
    "for articuloURL in listaURL[1241:]['links']:\n",
    "    page = requests.get(articuloURL,headers=HEADERS)\n",
    "    timeoutException = False\n",
    "    specsContent = ['','','','','','',0,'']\n",
    "    rows = []    \n",
    "    while True:            \n",
    "        if len(rows)>0:\n",
    "            break\n",
    "        else:\n",
    "            try:\n",
    "                page = requests.get(articuloURL,headers=HEADERS,timeout=5)                \n",
    "            except:\n",
    "                timeoutException = True\n",
    "                print('Request timeout. Going to the next URL...')\n",
    "                break\n",
    "            soup = BeautifulSoup(page.text,'html')\n",
    "            rows = soup.find_all('tr',class_ = 'andes-table__row ui-vpp-striped-specs__row')\n",
    "            time.sleep(3)\n",
    "                      \n",
    "    if page.status_code == 200 and not timeoutException:\n",
    "\n",
    "        for x in rows:\n",
    "            cabecera = str(x.find('th').text.strip())            \n",
    "            if cabecera in cabeceras:\n",
    "                dato = str(x.find('td').text.strip())\n",
    "                if cabecera == 'Marca':\n",
    "                    specsContent[0] = dato\n",
    "                elif cabecera == 'Modelo':\n",
    "                    specsContent[1] = dato\n",
    "                elif cabecera == 'Tamaño de la pantalla':\n",
    "                    specsContent[2] = dato\n",
    "                elif cabecera == 'Tipo de resolución':\n",
    "                    specsContent[3] = dato\n",
    "                elif cabecera == 'Tipo de pantalla':\n",
    "                    specsContent[4] = dato\n",
    "                elif 'Frecuencia de actualización' in cabecera:\n",
    "                    specsContent[5] = dato\n",
    "\n",
    "        try:          \n",
    "            specsContent[6]=int(str(soup.find('span',class_='andes-money-amount__fraction').text.strip()).replace('.',''))\n",
    "        except:\n",
    "            specsContent[6]= -1\n",
    "        \n",
    "        specsContent[7] = str(articuloURL)\n",
    "        \n",
    "        df.loc[df.shape[0]] = specsContent\n",
    "        df.to_csv('Monitores LED y LCD - Mercado Libre Argentina - Agosto 2023.csv')"
   ]
  },
  {
   "cell_type": "code",
   "execution_count": 7,
   "id": "eb8a015b",
   "metadata": {},
   "outputs": [
    {
     "name": "stdout",
     "output_type": "stream",
     "text": [
      "Cantidad de registros: 1241\n"
     ]
    }
   ],
   "source": [
    "print('Cantidad de registros:',str(len(df)))"
   ]
  },
  {
   "cell_type": "code",
   "execution_count": 14,
   "id": "d6589710",
   "metadata": {},
   "outputs": [
    {
     "data": {
      "text/plain": [
       "1241    https://articulo.mercadolibre.com.ar/MLA-90777...\n",
       "1242    https://articulo.mercadolibre.com.ar/MLA-84671...\n",
       "1243    https://articulo.mercadolibre.com.ar/MLA-93524...\n",
       "1244    https://www.mercadolibre.com.ar/monitor-philip...\n",
       "1245    https://articulo.mercadolibre.com.ar/MLA-75207...\n",
       "                              ...                        \n",
       "1819    https://articulo.mercadolibre.com.ar/MLA-87848...\n",
       "1820    https://articulo.mercadolibre.com.ar/MLA-91795...\n",
       "1821    https://articulo.mercadolibre.com.ar/MLA-87848...\n",
       "1822    https://articulo.mercadolibre.com.ar/MLA-86747...\n",
       "1823    https://articulo.mercadolibre.com.ar/MLA-13724...\n",
       "Name: links, Length: 583, dtype: object"
      ]
     },
     "execution_count": 14,
     "metadata": {},
     "output_type": "execute_result"
    }
   ],
   "source": [
    "listaURL[1241:]"
   ]
  },
  {
   "cell_type": "code",
   "execution_count": 18,
   "id": "509cde3b",
   "metadata": {
    "scrolled": true
   },
   "outputs": [
    {
     "data": {
      "text/html": [
       "<div>\n",
       "<style scoped>\n",
       "    .dataframe tbody tr th:only-of-type {\n",
       "        vertical-align: middle;\n",
       "    }\n",
       "\n",
       "    .dataframe tbody tr th {\n",
       "        vertical-align: top;\n",
       "    }\n",
       "\n",
       "    .dataframe thead th {\n",
       "        text-align: right;\n",
       "    }\n",
       "</style>\n",
       "<table border=\"1\" class=\"dataframe\">\n",
       "  <thead>\n",
       "    <tr style=\"text-align: right;\">\n",
       "      <th></th>\n",
       "      <th>Unnamed: 0</th>\n",
       "      <th>Marca</th>\n",
       "      <th>Modelo</th>\n",
       "      <th>Tamaño de la pantalla</th>\n",
       "      <th>Tipo de resolución</th>\n",
       "      <th>Tipo de pantalla</th>\n",
       "      <th>Frecuencia de actualización</th>\n",
       "      <th>Precio</th>\n",
       "      <th>Link</th>\n",
       "    </tr>\n",
       "  </thead>\n",
       "  <tbody>\n",
       "    <tr>\n",
       "      <th>0</th>\n",
       "      <td>0</td>\n",
       "      <td>Philips</td>\n",
       "      <td>271E1SCA/55</td>\n",
       "      <td>27 \"</td>\n",
       "      <td>Full HD</td>\n",
       "      <td>LCD</td>\n",
       "      <td>75 Hz</td>\n",
       "      <td>185999</td>\n",
       "      <td>https://www.mercadolibre.com.ar/monitor-gamer-...</td>\n",
       "    </tr>\n",
       "    <tr>\n",
       "      <th>1</th>\n",
       "      <td>1</td>\n",
       "      <td>Samsung</td>\n",
       "      <td>F24T35</td>\n",
       "      <td>24 \"</td>\n",
       "      <td>Full HD</td>\n",
       "      <td>LED</td>\n",
       "      <td>75 Hz</td>\n",
       "      <td>86999</td>\n",
       "      <td>https://www.mercadolibre.com.ar/monitor-gamer-...</td>\n",
       "    </tr>\n",
       "    <tr>\n",
       "      <th>2</th>\n",
       "      <td>2</td>\n",
       "      <td>Samsung</td>\n",
       "      <td>F22T35</td>\n",
       "      <td>22 \"</td>\n",
       "      <td>Full HD</td>\n",
       "      <td>LED</td>\n",
       "      <td>75 Hz</td>\n",
       "      <td>75999</td>\n",
       "      <td>https://www.mercadolibre.com.ar/monitor-gamer-...</td>\n",
       "    </tr>\n",
       "    <tr>\n",
       "      <th>3</th>\n",
       "      <td>3</td>\n",
       "      <td>Noblex</td>\n",
       "      <td>MK24X7100</td>\n",
       "      <td>23.8 \"</td>\n",
       "      <td>Full HD</td>\n",
       "      <td>LED</td>\n",
       "      <td>75 Hz</td>\n",
       "      <td>66990</td>\n",
       "      <td>https://www.mercadolibre.com.ar/monitor-led-no...</td>\n",
       "    </tr>\n",
       "    <tr>\n",
       "      <th>4</th>\n",
       "      <td>4</td>\n",
       "      <td>Philips</td>\n",
       "      <td>221V8</td>\n",
       "      <td>21.5 \"</td>\n",
       "      <td>Full HD</td>\n",
       "      <td>LCD</td>\n",
       "      <td>75 Hz</td>\n",
       "      <td>51499</td>\n",
       "      <td>https://www.mercadolibre.com.ar/monitor-gamer-...</td>\n",
       "    </tr>\n",
       "    <tr>\n",
       "      <th>...</th>\n",
       "      <td>...</td>\n",
       "      <td>...</td>\n",
       "      <td>...</td>\n",
       "      <td>...</td>\n",
       "      <td>...</td>\n",
       "      <td>...</td>\n",
       "      <td>...</td>\n",
       "      <td>...</td>\n",
       "      <td>...</td>\n",
       "    </tr>\n",
       "    <tr>\n",
       "      <th>1236</th>\n",
       "      <td>1236</td>\n",
       "      <td>LG</td>\n",
       "      <td>LED</td>\n",
       "      <td>22 \"</td>\n",
       "      <td>Full HD</td>\n",
       "      <td>LED</td>\n",
       "      <td>60 Hz</td>\n",
       "      <td>78990</td>\n",
       "      <td>https://articulo.mercadolibre.com.ar/MLA-11687...</td>\n",
       "    </tr>\n",
       "    <tr>\n",
       "      <th>1237</th>\n",
       "      <td>1237</td>\n",
       "      <td>Philips</td>\n",
       "      <td>193V5LSB2</td>\n",
       "      <td>18.5 \"</td>\n",
       "      <td>Full HD</td>\n",
       "      <td>LED</td>\n",
       "      <td>60 Hz</td>\n",
       "      <td>54999</td>\n",
       "      <td>https://articulo.mercadolibre.com.ar/MLA-77841...</td>\n",
       "    </tr>\n",
       "    <tr>\n",
       "      <th>1238</th>\n",
       "      <td>1238</td>\n",
       "      <td>HP</td>\n",
       "      <td>P204</td>\n",
       "      <td>19.5 \"</td>\n",
       "      <td>HD+</td>\n",
       "      <td>LCD</td>\n",
       "      <td>60 Hz</td>\n",
       "      <td>73631</td>\n",
       "      <td>https://articulo.mercadolibre.com.ar/MLA-87011...</td>\n",
       "    </tr>\n",
       "    <tr>\n",
       "      <th>1239</th>\n",
       "      <td>1239</td>\n",
       "      <td>LG</td>\n",
       "      <td>20MK400H</td>\n",
       "      <td>19.5 \"</td>\n",
       "      <td>XWGA</td>\n",
       "      <td>LED</td>\n",
       "      <td>60 Hz</td>\n",
       "      <td>76649</td>\n",
       "      <td>https://articulo.mercadolibre.com.ar/MLA-11391...</td>\n",
       "    </tr>\n",
       "    <tr>\n",
       "      <th>1240</th>\n",
       "      <td>1240</td>\n",
       "      <td>Samsung</td>\n",
       "      <td>C24F390FH</td>\n",
       "      <td>24 \"</td>\n",
       "      <td>Full HD</td>\n",
       "      <td>LED</td>\n",
       "      <td>60 Hz</td>\n",
       "      <td>195032</td>\n",
       "      <td>https://articulo.mercadolibre.com.ar/MLA-13623...</td>\n",
       "    </tr>\n",
       "  </tbody>\n",
       "</table>\n",
       "<p>1241 rows × 9 columns</p>\n",
       "</div>"
      ],
      "text/plain": [
       "      Unnamed: 0    Marca       Modelo Tamaño de la pantalla  \\\n",
       "0              0  Philips  271E1SCA/55                  27 \"   \n",
       "1              1  Samsung       F24T35                  24 \"   \n",
       "2              2  Samsung       F22T35                  22 \"   \n",
       "3              3   Noblex    MK24X7100                23.8 \"   \n",
       "4              4  Philips        221V8                21.5 \"   \n",
       "...          ...      ...          ...                   ...   \n",
       "1236        1236       LG          LED                  22 \"   \n",
       "1237        1237  Philips    193V5LSB2                18.5 \"   \n",
       "1238        1238       HP         P204                19.5 \"   \n",
       "1239        1239       LG     20MK400H                19.5 \"   \n",
       "1240        1240  Samsung    C24F390FH                  24 \"   \n",
       "\n",
       "     Tipo de resolución Tipo de pantalla Frecuencia de actualización  Precio  \\\n",
       "0               Full HD              LCD                       75 Hz  185999   \n",
       "1               Full HD              LED                       75 Hz   86999   \n",
       "2               Full HD              LED                       75 Hz   75999   \n",
       "3               Full HD              LED                       75 Hz   66990   \n",
       "4               Full HD              LCD                       75 Hz   51499   \n",
       "...                 ...              ...                         ...     ...   \n",
       "1236            Full HD              LED                       60 Hz   78990   \n",
       "1237            Full HD              LED                       60 Hz   54999   \n",
       "1238                HD+              LCD                       60 Hz   73631   \n",
       "1239               XWGA              LED                       60 Hz   76649   \n",
       "1240            Full HD              LED                       60 Hz  195032   \n",
       "\n",
       "                                                   Link  \n",
       "0     https://www.mercadolibre.com.ar/monitor-gamer-...  \n",
       "1     https://www.mercadolibre.com.ar/monitor-gamer-...  \n",
       "2     https://www.mercadolibre.com.ar/monitor-gamer-...  \n",
       "3     https://www.mercadolibre.com.ar/monitor-led-no...  \n",
       "4     https://www.mercadolibre.com.ar/monitor-gamer-...  \n",
       "...                                                 ...  \n",
       "1236  https://articulo.mercadolibre.com.ar/MLA-11687...  \n",
       "1237  https://articulo.mercadolibre.com.ar/MLA-77841...  \n",
       "1238  https://articulo.mercadolibre.com.ar/MLA-87011...  \n",
       "1239  https://articulo.mercadolibre.com.ar/MLA-11391...  \n",
       "1240  https://articulo.mercadolibre.com.ar/MLA-13623...  \n",
       "\n",
       "[1241 rows x 9 columns]"
      ]
     },
     "execution_count": 18,
     "metadata": {},
     "output_type": "execute_result"
    }
   ],
   "source": [
    "df"
   ]
  },
  {
   "cell_type": "code",
   "execution_count": null,
   "id": "26ae40fa",
   "metadata": {},
   "outputs": [],
   "source": []
  }
 ],
 "metadata": {
  "kernelspec": {
   "display_name": "Python 3 (ipykernel)",
   "language": "python",
   "name": "python3"
  },
  "language_info": {
   "codemirror_mode": {
    "name": "ipython",
    "version": 3
   },
   "file_extension": ".py",
   "mimetype": "text/x-python",
   "name": "python",
   "nbconvert_exporter": "python",
   "pygments_lexer": "ipython3",
   "version": "3.9.12"
  }
 },
 "nbformat": 4,
 "nbformat_minor": 5
}
