{
 "cells": [
  {
   "cell_type": "markdown",
   "id": "eaf51fac",
   "metadata": {},
   "source": [
    "# Limpieza y normalización de datos con Pandas"
   ]
  },
  {
   "cell_type": "markdown",
   "id": "e65c8d9a",
   "metadata": {},
   "source": [
    "<p>Una vez extraído los datos de la página web en cuestión, procederemos a limpiar campo por campo. También, deberemos normalizar los datos ya que, como se observará más adelante, cada vendedor escribe los datos de manera diferente o, de plano, no  los escribe.</p>"
   ]
  },
  {
   "cell_type": "markdown",
   "id": "5cb32534",
   "metadata": {},
   "source": [
    "## Importamos la única librería que usaremos"
   ]
  },
  {
   "cell_type": "markdown",
   "id": "b923338e",
   "metadata": {},
   "source": [
    "<p>Sólo usaremos Pandas para limpiar nuestro set de datos.</p>"
   ]
  },
  {
   "cell_type": "code",
   "execution_count": 1,
   "id": "0eac4c97",
   "metadata": {},
   "outputs": [],
   "source": [
    "import pandas as pd"
   ]
  },
  {
   "cell_type": "markdown",
   "id": "62ec60a0",
   "metadata": {},
   "source": [
    "## Leemos el .CSV que generamos en el apartado de Web Scraping"
   ]
  },
  {
   "cell_type": "code",
   "execution_count": 2,
   "id": "28a4c3bb",
   "metadata": {},
   "outputs": [],
   "source": [
    "df = pd.read_csv('Monitores Nuevos - Registros sucios - Mercado Libre Argentina - Agosto 2023.csv',index_col= 0)"
   ]
  },
  {
   "cell_type": "markdown",
   "id": "372707bc",
   "metadata": {},
   "source": [
    "## Cantidad de registros antes de la limpieza:"
   ]
  },
  {
   "cell_type": "markdown",
   "id": "b9c48140",
   "metadata": {},
   "source": [
    "<p>Es necesario documentar cuántos registros habían antes de limpiar.</p>"
   ]
  },
  {
   "cell_type": "code",
   "execution_count": 3,
   "id": "eeac5bdf",
   "metadata": {},
   "outputs": [
    {
     "data": {
      "text/plain": [
       "1824"
      ]
     },
     "execution_count": 3,
     "metadata": {},
     "output_type": "execute_result"
    }
   ],
   "source": [
    "cantidadInicial = len(df)\n",
    "cantidadInicial"
   ]
  },
  {
   "cell_type": "markdown",
   "id": "dfc43185",
   "metadata": {},
   "source": [
    "## Limpiando el campo 'Marca'"
   ]
  },
  {
   "cell_type": "markdown",
   "id": "142a7028",
   "metadata": {},
   "source": [
    "<p>Empezamos por el primer campo, que es 'Marca'. Cada marca debe ser única, debe haber una marca, debe parecer marca o de lo contrario se quita todo el registro.</p>\n",
    "\n",
    "<p>Primero, buscamos todos los valores únicos de la columna para observarlos:</p>"
   ]
  },
  {
   "cell_type": "code",
   "execution_count": 4,
   "id": "5aa8a3ef",
   "metadata": {
    "scrolled": false
   },
   "outputs": [
    {
     "data": {
      "text/plain": [
       "array(['Philips', 'Samsung', 'Noblex', 'Asus', 'LG', 'Dell', 'Hikvision',\n",
       "       'BenQ', 'ViewSonic', 'Gigabyte', 'AOC', 'Daewoo', 'Level Up',\n",
       "       'Redragon', 'Gfast', 'HDC', 'Acer', 'CX', 'HP', 'Viotek', 'Gadnic',\n",
       "       'Ozone', 'BeOne', 'Lenovo', 'HKC Antteq', 'Nixzen', 'Suono',\n",
       "       'Microfast', 'G-FAST', 'MSI', 'Westinghouse', 'Noxido', 'Kodak',\n",
       "       'iQual', 'HKC', 'Coradir', 'E-View', 'Tedge', 'JBMI', 'ZKTeco',\n",
       "       'Etheos', 'CHECKPOINT', 'Hollsen', 'Enova', 'Kanji', 'Naxido',\n",
       "       'Genérico Chino', 'Visit the MOSISO Store', 'Baseus', 'Sceptre',\n",
       "       'LG MONITOR', 'Mtek', 'WESAPPINC', '3nStar',\n",
       "       'Visit the FORITO Store', 'AOpen', 'Lilliput', 'HS', 'NEC',\n",
       "       'Dahua', 'Aorus', 'Genérica', 'Apple', 'Hewlett Packard'],\n",
       "      dtype=object)"
      ]
     },
     "execution_count": 4,
     "metadata": {},
     "output_type": "execute_result"
    }
   ],
   "source": [
    "df['Marca'].unique()"
   ]
  },
  {
   "cell_type": "markdown",
   "id": "15aa2079",
   "metadata": {},
   "source": [
    "<p>No hay marcas nulas (aparecerían como nan) y, por lo tanto, no se aplicará la función de retirar registros nulos aquí."
   ]
  },
  {
   "cell_type": "markdown",
   "id": "5b62bc73",
   "metadata": {},
   "source": [
    "### Retiramos los registros con marcas que no lo son"
   ]
  },
  {
   "cell_type": "markdown",
   "id": "c2644f75",
   "metadata": {},
   "source": [
    "<p>Los registros que contengan estas \"marcas\", se retiran por completo.</p>"
   ]
  },
  {
   "cell_type": "code",
   "execution_count": 5,
   "id": "c23eaebe",
   "metadata": {},
   "outputs": [],
   "source": [
    "df = df[(df['Marca']!= 'Visit the MOSISO Store')]\n",
    "df = df[(df['Marca']!= 'Genérica')]\n",
    "df = df[(df['Marca']!= 'Visit the FORITO Store')]\n",
    "df = df[(df['Marca']!= 'Genérico Chino')]"
   ]
  },
  {
   "cell_type": "markdown",
   "id": "aefd9e6b",
   "metadata": {},
   "source": [
    "### Armamos la función para agrupar ciertas marcas en otras"
   ]
  },
  {
   "cell_type": "markdown",
   "id": "16bff59b",
   "metadata": {},
   "source": [
    "<p>Algunos vendedores escribieron la misma marca de diferentes formas. Para ello, se creó esta función para reemplazar las ocurrencias por una sola opción.</p>"
   ]
  },
  {
   "cell_type": "code",
   "execution_count": 6,
   "id": "ab1622f4",
   "metadata": {},
   "outputs": [],
   "source": [
    "def agruparMarcas(entrada):\n",
    "    if str(entrada) == 'LG MONITOR':\n",
    "        return 'LG'\n",
    "    elif str(entrada) == 'Hewlett Packard':\n",
    "        return 'HP'\n",
    "    elif str(entrada) == 'HKC Antteq':\n",
    "        return 'HKC'\n",
    "    else:\n",
    "        return entrada"
   ]
  },
  {
   "cell_type": "markdown",
   "id": "ef606a8d",
   "metadata": {},
   "source": [
    "<p>Se aplica esta función al campo 'Marca' y continuamos con el siguiente campo.</p>"
   ]
  },
  {
   "cell_type": "code",
   "execution_count": 7,
   "id": "9e1c0885",
   "metadata": {},
   "outputs": [],
   "source": [
    "df['Marca'] = df['Marca'].apply(agruparMarcas)"
   ]
  },
  {
   "cell_type": "markdown",
   "id": "96aeac7b",
   "metadata": {},
   "source": [
    "## Limpiando el campo 'Modelo'"
   ]
  },
  {
   "cell_type": "markdown",
   "id": "48b7612d",
   "metadata": {},
   "source": [
    "<p>Puede ser un desafío juzgar qué es modelo y qué no, sobretodo por la cantidad de datos únicos. Pero, si vemos que la mayoría de ellos consta de una combinación de números y letras en un orden particular, podremos detectar modelos que no lo son.</p>"
   ]
  },
  {
   "cell_type": "code",
   "execution_count": 8,
   "id": "8e03b8a6",
   "metadata": {
    "scrolled": true
   },
   "outputs": [
    {
     "data": {
      "text/plain": [
       "array(['271E1SCA/55', 'F24T35', 'F22T35', 'MK24X7100', '221V8',\n",
       "       '241V8L/77', '193V5LSB2', '193V5LHSB2', 'VA24EHE', '19M38A',\n",
       "       'E2220H', '24MK430H', '20MK400H', '272V8LA/55', '27UL500',\n",
       "       '27MK400H', 'DS-D5019QE-B', 'GW2780', '26WQ500', 'LF22T350FHLCZB',\n",
       "       'LF24T350FHLCZB', 'VA27EHE', 'C24RG5', 'DS-D5024FN',\n",
       "       'VX2418-P-MHD', '32MN500M', 'G27FC', 'G2790VX', 'DW-MON19',\n",
       "       'S27A70', '24GN600', 'MK22X7100', 'GW2480', '241V8L/55',\n",
       "       '27-UP6580', 'FHD 240', 'MK27X7100', 'DW-MON22', 'VP228HE',\n",
       "       'VP249QGR', 'GM3CS27', 'DS-D5027FN', '24-UP5500', 'G3',\n",
       "       'F27T350FHL', 'T-220', '29WQ600-WO.AWNEDSN', 'VG278QR', 'GW2283',\n",
       "       'VX3218-PC-MHD', 'HM-27WQ144', 'RG50', 'LS32BM500', 'V206HQL Abi',\n",
       "       'LED', 'PF185M', 'P22va G4', 'V206HQL', 'SUW49CB', '27MK400H-B',\n",
       "       'P2222H', 'G4D41N-F', 'FLAT M7', 'S28AG70', 'G5 Odyssey',\n",
       "       'DSP25PRO', 'FHD', '27-UP6680', 'PG259QNR', 'MB168B', '22MK600M',\n",
       "       'AG275QXL', 'S32BM500', '49WL95C', 'EL2870U', 'BEMON-19',\n",
       "       '28MQ780', '32GP850', 'KG241Q Pbiip', 'S22e-20', 'M27F', 'F2145M',\n",
       "       '25UM58', 'NX-MON12', '34GL750', 'V247Y Abi', 'AG323FCXE',\n",
       "       'XG270QC', 'P2422H', 'C27G2ZE', 'P2018H', 'P19b G4', 'SNMO-1000',\n",
       "       'Monitor Gamer', 'T-195', 'C27RG50FQ',\n",
       "       'Monitor Pantalla PC Gamer 24 Pulgadas 75 Hz HDMI VGA', 'M5',\n",
       "       'VA2261h-2', 'LF22T350FH', '19M38AB', 'VA2718-SH', 'V194',\n",
       "       'P22v G4', '27gp950-b', '34WP500-B', 'VA1903H', 'C49J890DKL',\n",
       "       'G271C', '22BL450Y-B', 'WH22FX9019', 'NX195D', '27GL650F',\n",
       "       'E2724HS', 'P204', 'WE-24MT005', 'V227Q BBI', '24MK600M', 'F238M',\n",
       "       'LS27BG400ELCZB', '27QN880', 'iQ25', '24BK550Y', '32UN550-W',\n",
       "       'G27F', 'VX2718-2KPC-MHD', 'KG241Q Sbmiipx', 'Odyssey CRG5',\n",
       "       'LS22F350FH', 'D19-10', 'S19A330', 'S24F350FH', 'VG278Q', 'Gamer',\n",
       "       'VG27VQ', 'V226HQL', '24GL600F', '243V5LHSB', 'VA2447-MH',\n",
       "       'C24F390FH', 'Optix MAG301RF', 'CDR 20WH', '343E2E/55',\n",
       "       'WM27PX9019', 'Vx2718-pc-mhd', 'VA32UQ', '24-UP4480', 'CDR 20WHF',\n",
       "       'G24F 2', 'VX2716', 'VX2418C', 'V247Y ABI', 'C32T550',\n",
       "       'S22A33ANHL', '32UN880', 'N223', 'VA2055Sm', 'M8', '34WL85C',\n",
       "       'LS55BG970NLXZB', 'E1920H', 'XG2705', '1951AXA', 'MNT24/01',\n",
       "       '193V5LHSB2/77', 'ODYSSEY G4', 'DW-MNK19', '271AXA', '19Resist',\n",
       "       'GM270F165', 'MB16AC', '62bamar4ar', 'S22F350FH', 'ZD22-2K',\n",
       "       'DB10D', 'VA2415-H', 'VG248QG', 'MLEDPL19', 'VG24VQ', 'MOX-350',\n",
       "       '32UK550', 'Ergonomico', 'U2718Q', 'XG251G', '32UN550', 'XG240R',\n",
       "       'L23', 'LF22T350FHLXZX', 'KJ-24MT005', '32GN500', 'VX2416',\n",
       "       'NX-MON24-RCA-VGA-HDMI', '22MN430H', '19IR', 'PF236K', '343E2E',\n",
       "       'VP228HE-J', 'NX238W', 'P204v', 'D22-20', '2151AXA',\n",
       "       'LF24T350FHLXPE', 'iQ24H', 'iQ19', 'E2420H', 'LF24T3650FHL',\n",
       "       'C27FG73FQ', '66D2KAC6AR', '24 Pulgadas', 'Home24', 'Led pc gamer',\n",
       "       '20MK400HB', 'S43BM700UL', 'S32BM700UL', 'XG27UQR', 'M28U',\n",
       "       '98UM5J-B', 'LS32BM500ELX', 'FLAT M5', '1851AXA', 'FI25F',\n",
       "       'E225W-19203R', 'M5 LS32BM500ELXZB', '24GN60R-B', '19CAP',\n",
       "       'M25F165', 'VA2215-H', 'XG270', '19M38B', '8541635194', 'PF215M',\n",
       "       'TCM005', 'M22f', 'G27F 2', 'LS27AM500NLX', '27UK600-W', 'XB283k',\n",
       "       'VA2405-h', 'CV27F', 'C305B-200UN', 'S32AM502HN', '22D300H',\n",
       "       'CF390', '25', 'G27C5', '22CWA', 'LS27AM500NLXZS', 'S2740L',\n",
       "       'GM3CC236', '91MK22X7100', '20M38A-B', 'LC24RG50FZLCZB', 'P203',\n",
       "       'C27G55T', '27HC5R X', 'RM-7028S', 'TCM008VH', 'PD2700Q',\n",
       "       '24GN60R', 'HS-326', 'T350F', 'XL2411K', 'C24G1', '193V5LHSB/55',\n",
       "       'HP 27\"', 'S2716DG', '24MP400', 'EA224WMI', 'PG248Q', 'Samsung',\n",
       "       'KG241Q', 'Agon PRO AG254FG', 'XG2530', 'E249W', 'E205W-16003R',\n",
       "       'TVMulti55', 'HS-327', 'LF27T350FH', '19M38A B', 'LF22T350',\n",
       "       'LF24T350', 'AW2521HF', 'LC24F390FHLX', 'Smart Monitor M5',\n",
       "       '28MQ780-B', 'G9', '27uk650-w', 'VG27VH1B', '32GN600-B', '16T2',\n",
       "       'C27F390FH', 'VA24DQ', 'TVINTERACT75', '223V5LHSB2', 'TVMulti65',\n",
       "       'Flagship', 'AW2518H', 'AG271QX', 'C32JG50QQ', 'S32BM801UL',\n",
       "       'Home19', 'LC49G95TS', 'U2520D', '27UD68-W', 'PA248Q', 'VG2440',\n",
       "       'DHI-LM24-B200S', '185', 'LG 27UD58-B', '24MP59G', 'G27C4',\n",
       "       'PG348Q', 'N246V', 'AD27QD', '32GP850-B', 'ls19c300b', 'Q2963PQ',\n",
       "       '27', '29UM69G', 'LS22F350FHLX', 'C24F390FHL',\n",
       "       'C6522QT 65\" Class 4K UHD', 'P2722H', 'Designo MX25AQ', 'VG278HE',\n",
       "       '27GP750', 'VIOTEK GNV29CB', 'C2723H', 'N270H', 'E2020H',\n",
       "       'UP2716D', 'P2418HT', 'RM-1730S', 'S2719DGF', 'XDR NANO', 'P2416D',\n",
       "       'TVINTERACT65', '91MK24X7100', 'TVINTERACT55', 'VZ27AQ',\n",
       "       '49WL95C-W', 'S2422HG', 'CFG73', 'XDR STANDARD', 'V270',\n",
       "       'C24RG50FQL', '24\" 1080P Home', '35WN75C', 'F22T45',\n",
       "       'LF22T350FHLXPE', 'T23I-20', 'S19A330NHL', 'P2419H', 'E233',\n",
       "       'V190', '20MK400H-B', '24BK550Y-B', 'S19F355HNL',\n",
       "       'V206HQL Abi UM.IV6AA.A09', 'LC24F390FHLXZB', 'LF27T350FHLCZB',\n",
       "       '32MN500M-B', '22MP410-B', '24MK600M-B', 'DS-D5022FNC',\n",
       "       '27UL500-W', '221V8/77', '27GL650F-B', 'LS27AG30ANLXZB'],\n",
       "      dtype=object)"
      ]
     },
     "execution_count": 8,
     "metadata": {},
     "output_type": "execute_result"
    }
   ],
   "source": [
    "df['Modelo'].unique()"
   ]
  },
  {
   "cell_type": "markdown",
   "id": "a35a8da1",
   "metadata": {},
   "source": [
    "<p>No se detectaron modelos nulos.</p>"
   ]
  },
  {
   "cell_type": "markdown",
   "id": "4289b98c",
   "metadata": {},
   "source": [
    "### Retiramos los registros cuyos modelos no parecen serlo"
   ]
  },
  {
   "cell_type": "markdown",
   "id": "5e0d7b7e",
   "metadata": {},
   "source": [
    "<p>Tras un tiempo contemplando cada modelo, se establece que los siguientes no son correctos y, por tanto, todos los registros que los contengan deben ser retirados.</p>"
   ]
  },
  {
   "cell_type": "code",
   "execution_count": 9,
   "id": "4062771d",
   "metadata": {},
   "outputs": [],
   "source": [
    "df = df[(df['Modelo']!= 'Monitor Gamer')]\n",
    "df = df[(df['Modelo']!= 'Monitor Pantalla PC Gamer 24 Pulgadas 75 Hz HDMI VGA')]\n",
    "df = df[(df['Modelo']!= 'HP 27\"')]\n",
    "df = df[(df['Modelo']!= 'Samsung')]\n",
    "df = df[(df['Modelo']!= '24 Pulgadas')]\n",
    "df = df[(df['Modelo']!= 'Ergonomico')]\n",
    "df = df[(df['Modelo']!= '24\" 1080P Home')]\n",
    "df = df[(df['Modelo']!= '185')]\n",
    "df = df[(df['Modelo']!= '27')]\n",
    "df = df[(df['Modelo']!= '25')]\n",
    "df = df[(df['Modelo']!= 'LED')]\n",
    "df = df[(df['Modelo']!= 'FHD')]\n",
    "df = df[(df['Modelo']!= 'Gamer')]\n",
    "df = df[(df['Modelo']!= 'Led pc gamer')]"
   ]
  },
  {
   "cell_type": "markdown",
   "id": "dc5a1e19",
   "metadata": {},
   "source": [
    "## Limpiando el campo 'Tamaño de la pantalla'"
   ]
  },
  {
   "cell_type": "markdown",
   "id": "e115bd5c",
   "metadata": {},
   "source": [
    "<p>La mayoría de los vendedores escribieron el número de pulgadas seguido por comillas dobles. Mientras que otros usaron la palabra 'pulgadas' o la unidad en inglés 'in'. Esto se normalizará más adelante.</p>"
   ]
  },
  {
   "cell_type": "code",
   "execution_count": 10,
   "id": "83bb6212",
   "metadata": {
    "scrolled": false
   },
   "outputs": [
    {
     "data": {
      "text/plain": [
       "array(['27 \"', '24 \"', '22 \"', '23.8 \"', '21.5 \"', '18.5 \"', '19 \"',\n",
       "       '19.5 \"', '25.7 \"', '23.5 \"', '31.5 \"', '21.45 \"', '25 \"', '29 \"',\n",
       "       '32 \"', '49 \"', '28 \"', '24.5 \"', '15.6 \"', '27.9 \"', '27.6 \"',\n",
       "       '23.6 \"', '12.1 \"', '34 \"', '20 \"', '26.9 \"', '27 in', '30 \"',\n",
       "       '55 \"', '10 \"', '19 pulgadas', '43 \"', '98 \"', '15 \"', '10.1 \"',\n",
       "       '22 in', '24 in', '25 pulgadas', '75 \"', '65 \"', '27 pulgadas',\n",
       "       '34 in', '29 in', '7 \"', nan, '35 \"', '23 \"', '17.3 \"',\n",
       "       '24 pulgadas'], dtype=object)"
      ]
     },
     "execution_count": 10,
     "metadata": {},
     "output_type": "execute_result"
    }
   ],
   "source": [
    "df['Tamaño de la pantalla'].unique()"
   ]
  },
  {
   "cell_type": "markdown",
   "id": "c657f23b",
   "metadata": {},
   "source": [
    "### Retiramos los registros que no tengan tamaño"
   ]
  },
  {
   "cell_type": "markdown",
   "id": "593b10c0",
   "metadata": {},
   "source": [
    "<p>Aquí se detectaron campos nulos. Ya podemos aplicar la función incorporada en Pandas para retirar registros con el campo especificado.</p>"
   ]
  },
  {
   "cell_type": "code",
   "execution_count": 11,
   "id": "defccc0a",
   "metadata": {},
   "outputs": [],
   "source": [
    "df.dropna(subset=['Tamaño de la pantalla'], inplace = True)"
   ]
  },
  {
   "cell_type": "markdown",
   "id": "efb168ef",
   "metadata": {},
   "source": [
    "### Retiramos los registros que tengan un tamaño no aplicable a un monitor de escritorio"
   ]
  },
  {
   "cell_type": "markdown",
   "id": "84ae5c36",
   "metadata": {},
   "source": [
    "<p>Se convino que un monitor de escritorio empieza a partir de pulgadas mayores a 17.3 \". Luego, de 30 \" hacia arriba, se examina al azar las publicaciones para ver si seguimos hablando de monitores de escritorio, o si son televisores o si son algo más.</p>\n",
    "\n",
    "<p>Al final, se llegó a la conclusión de retirar los siguientes registros con los siguientes tamaños de pantalla:</p>"
   ]
  },
  {
   "cell_type": "code",
   "execution_count": 12,
   "id": "3b4634db",
   "metadata": {},
   "outputs": [],
   "source": [
    "# Tamaños muy pequeños para un monitor de escritorio\n",
    "df = df[(df['Tamaño de la pantalla'] != '0 \"')]\n",
    "df = df[(df['Tamaño de la pantalla'] != '7 \"')]\n",
    "df = df[(df['Tamaño de la pantalla'] != '10 \"')]\n",
    "df = df[(df['Tamaño de la pantalla'] != '10.1 \"')]\n",
    "df = df[(df['Tamaño de la pantalla'] != '12.1 \"')]\n",
    "df = df[(df['Tamaño de la pantalla'] != '15 \"')]\n",
    "df = df[(df['Tamaño de la pantalla'] != '15.6 \"')]\n",
    "df = df[(df['Tamaño de la pantalla'] != '17.3 \"')]\n",
    "\n",
    "# Pizarras interactivas\n",
    "df = df[(df['Tamaño de la pantalla'] != '55 \"')]\n",
    "df = df[(df['Tamaño de la pantalla'] != '65 \"')]\n",
    "df = df[(df['Tamaño de la pantalla'] != '75 \"')]\n",
    "\n",
    "# Pantalla para publicidad callejera\n",
    "df = df[(df['Tamaño de la pantalla'] != '98 \"')]"
   ]
  },
  {
   "cell_type": "markdown",
   "id": "c1d3b9ba",
   "metadata": {},
   "source": [
    "### Armamos la función para convertir los tamaños a número"
   ]
  },
  {
   "cell_type": "markdown",
   "id": "de3c9699",
   "metadata": {},
   "source": [
    "Se crea esta función que transforma todos los tamaños a número flotante."
   ]
  },
  {
   "cell_type": "code",
   "execution_count": 13,
   "id": "fe682b13",
   "metadata": {},
   "outputs": [],
   "source": [
    "def convertirTamanioANumero(entrada):\n",
    "    if 'pulgadas' in str(entrada):\n",
    "        return float(entrada.replace(' pulgadas',''))\n",
    "    elif 'in' in str(entrada):\n",
    "        return float(entrada.replace(' in',''))\n",
    "    elif '\"' in str(entrada):\n",
    "        return float(entrada.replace(' \"',''))"
   ]
  },
  {
   "cell_type": "markdown",
   "id": "5e3be25a",
   "metadata": {},
   "source": [
    "Se aplica la función 'convertirTamanioANumero' sobre el campo 'Tamaño de la pantalla' y continuamos al siguiente campo."
   ]
  },
  {
   "cell_type": "code",
   "execution_count": 14,
   "id": "42138f14",
   "metadata": {},
   "outputs": [],
   "source": [
    "df['Tamaño de la pantalla'] = df['Tamaño de la pantalla'].apply(convertirTamanioANumero)"
   ]
  },
  {
   "cell_type": "markdown",
   "id": "93aceba7",
   "metadata": {},
   "source": [
    "## Limpiando el campo 'Tipo de resolución'"
   ]
  },
  {
   "cell_type": "markdown",
   "id": "87a3b786",
   "metadata": {},
   "source": [
    "Los vendedores nuevamente escriben un dato de varias formas diferentes y, por lo tanto, hay que normalizar."
   ]
  },
  {
   "cell_type": "code",
   "execution_count": 15,
   "id": "c8cb38fb",
   "metadata": {
    "scrolled": false
   },
   "outputs": [
    {
     "data": {
      "text/plain": [
       "array(['Full HD', 'WXGA', 'HD', '4K', 'WFHD', nan, 'QHD', 'HD+', 'SDQHD',\n",
       "       '2K', 'WQHD', '1366 px x 768 px', '1920 px x 1080 px', '1920x1080',\n",
       "       'Fhd', '1366x768', '1600 x 900 a 60 Hz', 'XWGA', 'DQHD', 'UWFHD',\n",
       "       '6K', '5K', '1080p'], dtype=object)"
      ]
     },
     "execution_count": 15,
     "metadata": {},
     "output_type": "execute_result"
    }
   ],
   "source": [
    "df['Tipo de resolución'].unique()"
   ]
  },
  {
   "cell_type": "markdown",
   "id": "c5b173dd",
   "metadata": {},
   "source": [
    "### Normalizamos resoluciones según la VESA (Video Electronics Standards Association), más resoluciones establecidas de facto"
   ]
  },
  {
   "cell_type": "markdown",
   "id": "e8cf430f",
   "metadata": {},
   "source": [
    "<p>Se dispuso de la siguiente tabla en <a href='https://en.wikipedia.org/wiki/Computer_display_standard#Standards'>Wikipedia en inglés</a>  para normalizar muchas de las resoluciones de pantalla mediante estándares de la VESA. Otras resoluciones no normalizadas son usadas pero no por eso vamos a quitarlas. Dichas resoluciones son <b>de facto</b> y son establecidas por grandes fabricantes como LG o Samsung.</p>\n",
    "<br>\n",
    "<p>Se armó un dictionary para cambiar cada valor actual por otro de la siguiente manera:</p>"
   ]
  },
  {
   "cell_type": "code",
   "execution_count": 16,
   "id": "d3831ab6",
   "metadata": {},
   "outputs": [],
   "source": [
    "normalizacion_resoluciones = {  \n",
    "    'HD': 'HD',\n",
    "    'HD+': 'HD+',\n",
    "    '1600 x 900 a 60 Hz': 'HD+',\n",
    "    'Full HD': 'FHD',\n",
    "    '1080p': 'FHD',    \n",
    "    '1920 px x 1080 px': 'FHD',\n",
    "    '1920x1080':'FHD',\n",
    "    'Fhd': 'FHD',\n",
    "    '1366x768': 'WXGA',\n",
    "    'WXGA': 'WXGA',\n",
    "    '1366 px x 768 px': 'WXGA',\n",
    "    'XWGA': 'WXGA', # Corrección en el orden de las siglas\n",
    "    'WUXGA': 'WUXGA',\n",
    "    'WQHD': 'QHD',\n",
    "    'QHD':'QHD',\n",
    "    '2K': 'QHD',\n",
    "    '4K': 'UHD 4K',\n",
    "    '5K': 'UHD 5K',\n",
    "    '6K': 'UHD 6K',        \n",
    "    'SDQHD': 'SDQHD', # Resolución de facto usada por LG\n",
    "    'DQHD': 'DQHD', # Resolución de facto usada por Samsung\n",
    "    'UWFHD': 'Ultrawide FHD', # Resolución sin un nombre formal pero reconocida por la VESA\n",
    "    'WFHD':'Ultrawide FHD'\n",
    "}"
   ]
  },
  {
   "cell_type": "markdown",
   "id": "b21f2b7f",
   "metadata": {},
   "source": [
    "Aplicamos la función que reemplaza cada ocurrencia por el valor asociado en el dictionary."
   ]
  },
  {
   "cell_type": "code",
   "execution_count": 17,
   "id": "497f7f10",
   "metadata": {},
   "outputs": [],
   "source": [
    "df['Tipo de resolución'] = df['Tipo de resolución'].map(normalizacion_resoluciones)"
   ]
  },
  {
   "cell_type": "markdown",
   "id": "3c71e198",
   "metadata": {},
   "source": [
    "### Retiramos los registros sin resolución"
   ]
  },
  {
   "cell_type": "markdown",
   "id": "afdc5345",
   "metadata": {},
   "source": [
    "Se detectaron campos nulos y deberán retirarse todos los registros asociados."
   ]
  },
  {
   "cell_type": "code",
   "execution_count": 18,
   "id": "be9a70be",
   "metadata": {},
   "outputs": [],
   "source": [
    "df.dropna(subset=['Tipo de resolución'], inplace=True)"
   ]
  },
  {
   "cell_type": "markdown",
   "id": "4ad8ac61",
   "metadata": {},
   "source": [
    "## Limpiando el campo 'Tipo de pantalla'"
   ]
  },
  {
   "cell_type": "markdown",
   "id": "d4537769",
   "metadata": {},
   "source": [
    "Continuando con el campo 'Tipo de pantalla', vemos que podemos unir varios tipos en una sola categoría haciendo una serie de supuestos que se redactarán más adelante."
   ]
  },
  {
   "cell_type": "code",
   "execution_count": 34,
   "id": "e4742e2b",
   "metadata": {
    "scrolled": true
   },
   "outputs": [
    {
     "data": {
      "text/plain": [
       "array(['LCD/LED', 'LCD TFT', 'LED VA', 'LED IPS', 'QLED'], dtype=object)"
      ]
     },
     "execution_count": 34,
     "metadata": {},
     "output_type": "execute_result"
    }
   ],
   "source": [
    "df['Tipo de pantalla'].unique()"
   ]
  },
  {
   "cell_type": "markdown",
   "id": "6ae1ddcc",
   "metadata": {},
   "source": [
    "### Normalizamos los tipos de pantalla usando un dictionary siguiendo una serie de supuestos"
   ]
  },
  {
   "cell_type": "markdown",
   "id": "c111aae0",
   "metadata": {},
   "source": [
    "Supuestos a la hora de normalizar los tipos de pantalla:\n",
    "<!--<ul>\n",
    "    <li>Se asume que <b>todos</b> los monitores LED son LED puro. Por eso, todos ellos estarán en la gran categoría LED.</li>\n",
    "    <li>Se asume que <b>todos</b> los monitores LCD ya tienen retroiluminación LED. Por eso, todos ellos serán nombrados bajo la gran categoría LCD salvo la variante con TFT que mantendrá su propia categoría por ser táctil.</li>\n",
    "    <li>Se asume que <b>todos</b> los monitores con tecnología VA (Vertical Alignment) tienen retroiluminación LED. Por eso, todos ellos estarán en la categoría LED VA.</li>\n",
    "    <li>Se asume que <b>todos</b> los monitores con tecnología IPS (In-Plane Switching) tienen retroiluminación LED. Por eso, todos ellos estarán en la categoría LED IPS.</li>    \n",
    "</ul>-->\n",
    "<ul>\n",
    "    <li>Se asume que <b>todos</b> los monitores de la lista son <b>nuevos</b> debido a que se aplicó ese filtro de búsqueda a la hora de hacer Web Scraping.</li>\n",
    "    <li>Se asume que si un monitor es <b>nuevo</b>, se fabricó en los últimos cinco años.</li>   \n",
    "    <li>Se asume que <b>todos</b> los monitores <b>LCD</b> ya tienen retroiluminación LED debido a que a partir del año 2013 se empezó a reemplazar el CCFL (lámparas fluorescentes de cátodo frío) por los LED para retroiluminar. <a href='https://www.portatilmovil.com/es/blog/post/mi-pantalla-del-portatil-es-led-o-lcd-ventajas-y-deventajas.html'>[1]</a></li>\n",
    "    <li>Se asume que <b>algunos</b> vendedores publicaron su monitor como <b>LED</b> cuando en realidad es LCD con retroiluminación <b>LED</b>. Debido a la imposibilidad de saber qué quisieron decir esos vendedores realmente, se agruparán las categorías <b>LCD</b> y <b>LED</b> en una sola llamada <b>LCD/LED</b>.</li>\n",
    "    <li>Se asume que <b>todos</b> los monitores con tecnología VA (Vertical Alignment) tienen retroiluminación LED. Por eso, todos ellos estarán en la categoría <b>LED VA</b>.</li>\n",
    "    <li>Se asume que <b>todos</b> los monitores con tecnología IPS (In-Plane Switching) tienen retroiluminación LED. Por eso, todos ellos estarán en la categoría <b>LED IPS</b>.</li>    \n",
    "</ul>\n",
    "<br>\n",
    "En cuanto a la categoría <b>QLED</b>, se investigó en la página oficial de Samsung y se determinó que no sería correcto agruparlo en la categoría <b>LCD/LED</b> debido a que hay una gran diferencia entre una tecnología y la otra. <a href='https://www.samsung.com/ar/tvs/tv-buying-guide/what-is-qled-tv/'>[2]</a>"
   ]
  },
  {
   "cell_type": "code",
   "execution_count": 20,
   "id": "5c12ffbc",
   "metadata": {},
   "outputs": [],
   "source": [
    "'''normalizacion_tipo_pantalla = {\n",
    "    'LCD' : 'LCD',\n",
    "    'LCD con retroiluminación LED':'LCD',\n",
    "    'LCD/LED' : 'LCD',\n",
    "    'LED' : 'LED',\n",
    "    'LCD TFT' : 'LCD TFT',\n",
    "    'LED VA' : 'LED VA',    \n",
    "    'VA' : 'LED VA',\n",
    "    'IPS LED' : 'LED IPS',\n",
    "    'IPS' : 'LED IPS',\n",
    "    'QLED' : 'QLED'    \n",
    "}'''\n",
    "normalizacion_tipo_pantalla = {\n",
    "    'LCD' : 'LCD/LED',\n",
    "    'LCD con retroiluminación LED':'LCD/LED',\n",
    "    'LCD/LED' : 'LCD/LED',\n",
    "    'LED' : 'LCD/LED',\n",
    "    'LCD TFT' : 'LCD TFT',\n",
    "    'LED VA' : 'LED VA',    \n",
    "    'VA' : 'LED VA',\n",
    "    'IPS LED' : 'LED IPS',\n",
    "    'IPS' : 'LED IPS',\n",
    "    'QLED' : 'QLED'    \n",
    "}"
   ]
  },
  {
   "cell_type": "markdown",
   "id": "9ab082dd",
   "metadata": {},
   "source": [
    "Aplicamos la función que reemplaza cada ocurrencia por el valor asociado en el dictionary."
   ]
  },
  {
   "cell_type": "code",
   "execution_count": 21,
   "id": "48a79eec",
   "metadata": {},
   "outputs": [],
   "source": [
    "df['Tipo de pantalla'] = df['Tipo de pantalla'].map(normalizacion_tipo_pantalla)"
   ]
  },
  {
   "cell_type": "markdown",
   "id": "b5424891",
   "metadata": {},
   "source": [
    "### Retiramos los registros sin tipo de pantalla"
   ]
  },
  {
   "cell_type": "code",
   "execution_count": 22,
   "id": "9637f80f",
   "metadata": {},
   "outputs": [],
   "source": [
    "df.dropna(subset=['Tipo de pantalla'], inplace = True)"
   ]
  },
  {
   "cell_type": "markdown",
   "id": "0476ae6f",
   "metadata": {},
   "source": [
    "## Limpiando el campo 'Frecuencia de actualización'"
   ]
  },
  {
   "cell_type": "markdown",
   "id": "74e78a8f",
   "metadata": {},
   "source": [
    "Todos los datos de esta columna están normalizados (salvo los nulos) y la mayoría ellos tienen valores coherentes."
   ]
  },
  {
   "cell_type": "code",
   "execution_count": 23,
   "id": "7dccc992",
   "metadata": {
    "scrolled": false
   },
   "outputs": [
    {
     "data": {
      "text/plain": [
       "array(['75 Hz', '60 Hz', nan, '144 Hz', '165 Hz', '100 Hz', '360 Hz',\n",
       "       '170 Hz', '240 Hz', '30 Hz', '120 Hz', '200 Hz', '56 Hz', '47 Hz',\n",
       "       '1 Hz'], dtype=object)"
      ]
     },
     "execution_count": 23,
     "metadata": {},
     "output_type": "execute_result"
    }
   ],
   "source": [
    "df['Frecuencia de actualización'].unique()"
   ]
  },
  {
   "cell_type": "markdown",
   "id": "95c1351a",
   "metadata": {},
   "source": [
    "### Corregimos el valor irrisorio para un monitor"
   ]
  },
  {
   "cell_type": "markdown",
   "id": "ff7075ba",
   "metadata": {},
   "source": [
    "Se presume que por error de tipeo por parte del vendedor, le dio a su monitor una frecuencia de 1 Hz; un valor impensado para un monitor. Se busca el monitor en cuestión para investigarlo y así rescatar un registro de la eliminación."
   ]
  },
  {
   "cell_type": "code",
   "execution_count": 24,
   "id": "da130275",
   "metadata": {},
   "outputs": [
    {
     "data": {
      "text/html": [
       "<div>\n",
       "<style scoped>\n",
       "    .dataframe tbody tr th:only-of-type {\n",
       "        vertical-align: middle;\n",
       "    }\n",
       "\n",
       "    .dataframe tbody tr th {\n",
       "        vertical-align: top;\n",
       "    }\n",
       "\n",
       "    .dataframe thead th {\n",
       "        text-align: right;\n",
       "    }\n",
       "</style>\n",
       "<table border=\"1\" class=\"dataframe\">\n",
       "  <thead>\n",
       "    <tr style=\"text-align: right;\">\n",
       "      <th></th>\n",
       "      <th>Marca</th>\n",
       "      <th>Modelo</th>\n",
       "      <th>Tamaño de la pantalla</th>\n",
       "      <th>Tipo de resolución</th>\n",
       "      <th>Tipo de pantalla</th>\n",
       "      <th>Frecuencia de actualización</th>\n",
       "      <th>Precio</th>\n",
       "      <th>Link</th>\n",
       "    </tr>\n",
       "  </thead>\n",
       "  <tbody>\n",
       "    <tr>\n",
       "      <th>1814</th>\n",
       "      <td>Samsung</td>\n",
       "      <td>LC24RG50FZLCZB</td>\n",
       "      <td>24.0</td>\n",
       "      <td>FHD</td>\n",
       "      <td>LCD/LED</td>\n",
       "      <td>1 Hz</td>\n",
       "      <td>147344</td>\n",
       "      <td>https://articulo.mercadolibre.com.ar/MLA-82399...</td>\n",
       "    </tr>\n",
       "  </tbody>\n",
       "</table>\n",
       "</div>"
      ],
      "text/plain": [
       "        Marca          Modelo  Tamaño de la pantalla Tipo de resolución  \\\n",
       "1814  Samsung  LC24RG50FZLCZB                   24.0                FHD   \n",
       "\n",
       "     Tipo de pantalla Frecuencia de actualización  Precio  \\\n",
       "1814          LCD/LED                        1 Hz  147344   \n",
       "\n",
       "                                                   Link  \n",
       "1814  https://articulo.mercadolibre.com.ar/MLA-82399...  "
      ]
     },
     "execution_count": 24,
     "metadata": {},
     "output_type": "execute_result"
    }
   ],
   "source": [
    "df[(df['Frecuencia de actualización'] == '1 Hz')]"
   ]
  },
  {
   "cell_type": "markdown",
   "id": "27b2ad47",
   "metadata": {},
   "source": [
    "Haciendo uso del modelo y la marca, se buscó <a href='https://www.samsung.com/ar/monitors/gaming/odyssey-crg5-24-inch-144hz-freesync-curved-lc24rg50fzlczb/'>este monitor</a> por internet y se descubrió que tiene una frecuencia de 144 Hz. Se corrige mediante una asignación."
   ]
  },
  {
   "cell_type": "code",
   "execution_count": 25,
   "id": "bc817543",
   "metadata": {},
   "outputs": [],
   "source": [
    "df.loc[1814,'Frecuencia de actualización'] = '144 Hz'"
   ]
  },
  {
   "cell_type": "markdown",
   "id": "2d9f7fd6",
   "metadata": {},
   "source": [
    "### Retiramos los registros con frecuencia ausente"
   ]
  },
  {
   "cell_type": "code",
   "execution_count": 26,
   "id": "a8c0f407",
   "metadata": {
    "scrolled": true
   },
   "outputs": [],
   "source": [
    "df.dropna(subset=['Frecuencia de actualización'], inplace=True)"
   ]
  },
  {
   "cell_type": "markdown",
   "id": "f9a4ba12",
   "metadata": {},
   "source": [
    "### Definimos la función para convertir todas las frecuencias a números enteros"
   ]
  },
  {
   "cell_type": "markdown",
   "id": "19782569",
   "metadata": {},
   "source": [
    "Se retira la unidad de frecuencia Hz y se convierte a int."
   ]
  },
  {
   "cell_type": "code",
   "execution_count": 27,
   "id": "d38e97ac",
   "metadata": {},
   "outputs": [],
   "source": [
    "def convertirFrecANumero(entrada):\n",
    "    return int(entrada.replace(' Hz',''))"
   ]
  },
  {
   "cell_type": "markdown",
   "id": "58104732",
   "metadata": {},
   "source": [
    "Aplicamos la función a toda la columna y pasamos al último campo."
   ]
  },
  {
   "cell_type": "code",
   "execution_count": 28,
   "id": "4cb17729",
   "metadata": {},
   "outputs": [],
   "source": [
    "df['Frecuencia de actualización'] = df['Frecuencia de actualización'].apply(convertirFrecANumero)"
   ]
  },
  {
   "cell_type": "markdown",
   "id": "9c4fb228",
   "metadata": {},
   "source": [
    "## Limpiando el campo 'Precio'"
   ]
  },
  {
   "cell_type": "markdown",
   "id": "2c41b50e",
   "metadata": {},
   "source": [
    "<p>Durante el scraping, alguna publicación pudo haberse pausado y su precio no estar disponible.\n",
    "Para ello, si el precio es -1, deberá ser retirado todo el registro ya que este campo se usará bastante para hacer análisis.</p>"
   ]
  },
  {
   "cell_type": "code",
   "execution_count": 29,
   "id": "7b5914ae",
   "metadata": {},
   "outputs": [],
   "source": [
    "df = df[(df['Precio']!= -1)]"
   ]
  },
  {
   "cell_type": "markdown",
   "id": "c8fe47ad",
   "metadata": {},
   "source": [
    "## Limpiamos los duplicados"
   ]
  },
  {
   "cell_type": "markdown",
   "id": "58b95bb4",
   "metadata": {},
   "source": [
    "<p>Ya habiendo limpiado cada campo, se deben retirar todos los registros duplicados. Se excluye el campo 'Link' porque se presume que cada uno es único.</p>"
   ]
  },
  {
   "cell_type": "code",
   "execution_count": 30,
   "id": "04be448f",
   "metadata": {},
   "outputs": [],
   "source": [
    "df.drop_duplicates(subset=['Marca','Modelo','Tamaño de la pantalla','Tipo de resolución','Tipo de pantalla','Frecuencia de actualización','Precio'],inplace=True)"
   ]
  },
  {
   "cell_type": "markdown",
   "id": "288751a8",
   "metadata": {},
   "source": [
    "## Cantidad de registros después de la limpieza:"
   ]
  },
  {
   "cell_type": "markdown",
   "id": "e14142b5",
   "metadata": {},
   "source": [
    "Han quedado limpios 1237 registros."
   ]
  },
  {
   "cell_type": "code",
   "execution_count": 31,
   "id": "ce219f66",
   "metadata": {
    "scrolled": false
   },
   "outputs": [
    {
     "data": {
      "text/plain": [
       "1234"
      ]
     },
     "execution_count": 31,
     "metadata": {},
     "output_type": "execute_result"
    }
   ],
   "source": [
    "len(df)"
   ]
  },
  {
   "cell_type": "markdown",
   "id": "13133dd0",
   "metadata": {},
   "source": [
    "## Cantidad de registros retirados:"
   ]
  },
  {
   "cell_type": "markdown",
   "id": "244d4ecb",
   "metadata": {},
   "source": [
    "Se han retirado 587 registros."
   ]
  },
  {
   "cell_type": "code",
   "execution_count": 32,
   "id": "5ab72e45",
   "metadata": {},
   "outputs": [
    {
     "data": {
      "text/plain": [
       "590"
      ]
     },
     "execution_count": 32,
     "metadata": {},
     "output_type": "execute_result"
    }
   ],
   "source": [
    "cantidadInicial-len(df)"
   ]
  },
  {
   "cell_type": "markdown",
   "id": "b1fee918",
   "metadata": {},
   "source": [
    "## Almacenamos los registros ya limpios en un nuevo CSV"
   ]
  },
  {
   "cell_type": "code",
   "execution_count": 33,
   "id": "eebc0bbf",
   "metadata": {},
   "outputs": [],
   "source": [
    "df.to_csv('Monitores Nuevos - Registros limpios - Mercado Libre Argentina - Agosto 2023.csv')"
   ]
  },
  {
   "cell_type": "markdown",
   "id": "86306c5c",
   "metadata": {},
   "source": [
    "## Fin de la limpieza"
   ]
  },
  {
   "cell_type": "markdown",
   "id": "6a849c5e",
   "metadata": {},
   "source": [
    "Ya una vez finalizada la limpieza, en el próximo apartado 'Análisis del CSV', podremos plantearnos preguntas y responderlas mediante consultas y gráficos."
   ]
  }
 ],
 "metadata": {
  "kernelspec": {
   "display_name": "Python 3 (ipykernel)",
   "language": "python",
   "name": "python3"
  },
  "language_info": {
   "codemirror_mode": {
    "name": "ipython",
    "version": 3
   },
   "file_extension": ".py",
   "mimetype": "text/x-python",
   "name": "python",
   "nbconvert_exporter": "python",
   "pygments_lexer": "ipython3",
   "version": "3.9.12"
  }
 },
 "nbformat": 4,
 "nbformat_minor": 5
}
