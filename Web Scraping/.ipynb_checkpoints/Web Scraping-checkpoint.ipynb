{
 "cells": [
  {
   "cell_type": "code",
   "execution_count": 1,
   "id": "13b61c2e",
   "metadata": {},
   "outputs": [],
   "source": [
    "import pandas as pd\n",
    "from bs4 import BeautifulSoup\n",
    "import requests\n",
    "import time"
   ]
  },
  {
   "cell_type": "code",
   "execution_count": 2,
   "id": "6aef2c15",
   "metadata": {
    "scrolled": false
   },
   "outputs": [],
   "source": [
    "# Definimos los headers con el User Agent\n",
    "HEADERS = {\"User-Agent\": \"Mozilla/5.0 (Windows NT 10.0; Win64; x64) AppleWebKit/537.36 (KHTML, like Gecko) Chrome/115.0.0.0 Safari/537.36\"}"
   ]
  },
  {
   "cell_type": "code",
   "execution_count": 3,
   "id": "34cde755",
   "metadata": {
    "scrolled": true
   },
   "outputs": [
    {
     "name": "stdout",
     "output_type": "stream",
     "text": [
      "Páginas visitadas:  38\n",
      "Artículos recabados:  1824\n"
     ]
    }
   ],
   "source": [
    "# Lista donde se guardarán las URL para cada artículo\n",
    "listaURL = []\n",
    "\n",
    "# Cantidad de páginas visitadas \n",
    "pagina = 0\n",
    "\n",
    "# MercadoLibre maneja cantidades para cambiar de página:\n",
    "# Página 1: cantidad = 1\n",
    "# Página 2: cantidad = 51\n",
    "# Página 3: cantidad = 101\n",
    "# Y así sucesivamente, sumando 50 a la última página...\n",
    "cantidad = 1\n",
    "\n",
    "while True:   \n",
    "    \n",
    "    # URL de monitores LED nuevos con la variable cantidad insertada\n",
    "    url = 'https://listado.mercadolibre.com.ar/computacion/monitores-accesorios/monitores/nuevo/monitor-led_Desde_'+str(cantidad)+'_NoIndex_True'\n",
    "    \n",
    "    # Hacemos la request usando la URL y los headers\n",
    "    page = requests.get(url,headers=HEADERS)\n",
    "    \n",
    "    # Si superamos la última página, rompe el ciclo por darnos un status 400 o más\n",
    "    if page.status_code >= 400:\n",
    "        break\n",
    "    else:    \n",
    "        pagina += 1\n",
    "        \n",
    "        # Capturamos el contenido de la página\n",
    "        soup = BeautifulSoup(page.content,'html.parser')    \n",
    "        \n",
    "        # Buscamos los enlaces al artículo\n",
    "        for x in soup.find_all('a',class_ = 'ui-search-item__group__element shops__items-group-details ui-search-link'):\n",
    "            \n",
    "            # Se detecta contenido no relacionado que contiene esa cadena\n",
    "            if 'click1' not in str(x['href']):\n",
    "                # Se unen a la lista de URLs\n",
    "                listaURL.append(x['href'])\n",
    "                \n",
    "        # Va a incrementarse cantidad hasta que la request dé un status 400 o más\n",
    "        cantidad += 50\n",
    "        \n",
    "        # Pausa de 4 segundos entre requests para no inundar el servidor (y evitar un posible baneo de IP)\n",
    "        time.sleep(4)\n",
    "\n",
    "        \n",
    "cantidad = None\n",
    "\n",
    "print('Páginas visitadas: ', pagina)\n",
    "print('Artículos recabados: ', str(len(listaURL)))"
   ]
  },
  {
   "cell_type": "code",
   "execution_count": 4,
   "id": "b8b14fde",
   "metadata": {
    "scrolled": true
   },
   "outputs": [],
   "source": [
    "# Definimos algunas de las cabeceras usadas por MercadoLibre (Obtenidas mediante observaciones manuales)\n",
    "cabeceras = ['Marca','Modelo','Tamaño de la pantalla','Tipo de resolución','Tipo de pantalla','Frecuencia de actualización recomendada','Precio','Link']\n",
    "\n",
    "# Definimos el DataFrame de Pandas\n",
    "df = pd.DataFrame(columns = ['Marca','Modelo','Tamaño de la pantalla','Tipo de resolución','Tipo de pantalla','Frecuencia de actualización','Precio','Link'])"
   ]
  },
  {
   "cell_type": "code",
   "execution_count": 5,
   "id": "475d7446",
   "metadata": {
    "scrolled": false
   },
   "outputs": [
    {
     "name": "stdout",
     "output_type": "stream",
     "text": [
      "\n"
     ]
    }
   ],
   "source": [
    "# Ciclamos por cada URL de cada artículo\n",
    "for articuloURL in listaURL:    \n",
    "    \n",
    "    # Nos será útil para manejar timeouts\n",
    "    timeoutException = False\n",
    "    \n",
    "    # Cada artículo se guarda aquí\n",
    "    specsContent = ['','','','','','',0,'']\n",
    "    \n",
    "    # Las filas de las tablas con información se guardarán aquí\n",
    "    rows = []\n",
    "    \n",
    "    # Por motivos que me exceden, a veces, las filas no se llenan\n",
    "    # Reintenta cada 3 segundos la request hasta que se llene la lista con la información del producto\n",
    "    while True:            \n",
    "        if len(rows)>0:\n",
    "            break\n",
    "        else:\n",
    "            # A veces, las páginas están totalmente caídas\n",
    "            try:\n",
    "                # Hacemos la request usando la URL y los headers\n",
    "                page = requests.get(articuloURL,headers=HEADERS,timeout=5)                \n",
    "            except:\n",
    "                # Si hubo un timeout de 5 segundos, pasamos a la próxima URL\n",
    "                timeoutException = True\n",
    "                print('Request timeout. Going to the next URL...')\n",
    "                break\n",
    "                \n",
    "            # Capturamos el contenido de la página\n",
    "            soup = BeautifulSoup(page.text,'html')\n",
    "            \n",
    "            # Buscamos todas las filas con información técnica\n",
    "            rows = soup.find_all('tr',class_ = 'andes-table__row ui-vpp-striped-specs__row')\n",
    "            \n",
    "            # Pausa de 3 segundos entre requests para no inundar el servidor (y evitar un posible baneo de IP)\n",
    "            time.sleep(3)\n",
    "    \n",
    "    # Procesa la información si el status es 200 y no hubo timeouts\n",
    "    if page.status_code == 200 and not timeoutException:\n",
    "        \n",
    "        # Entra a cada fila\n",
    "        for x in rows:\n",
    "            \n",
    "            #Extrae la cabecera\n",
    "            cabecera = str(x.find('th').text.strip())\n",
    "            \n",
    "            # Hay más de 20 posibles cabeceras disponibles en MeLi, sólo usaremos las 7 mencionadas\n",
    "            if cabecera in cabeceras:\n",
    "                \n",
    "                # Extrae el dato y lo guarda en su respectivo lugar dependiendo de la cabecera\n",
    "                dato = str(x.find('td').text.strip())\n",
    "                if cabecera == 'Marca':\n",
    "                    specsContent[0] = dato\n",
    "                elif cabecera == 'Modelo':\n",
    "                    specsContent[1] = dato\n",
    "                elif cabecera == 'Tamaño de la pantalla':\n",
    "                    specsContent[2] = dato\n",
    "                elif cabecera == 'Tipo de resolución':\n",
    "                    specsContent[3] = dato\n",
    "                elif cabecera == 'Tipo de pantalla':\n",
    "                    specsContent[4] = dato\n",
    "                elif 'Frecuencia de actualización' in cabecera:\n",
    "                    specsContent[5] = dato\n",
    "        \n",
    "        # A veces, la publicación puede pausarse y no mostrar precio alguno\n",
    "        try:    \n",
    "            # Se busca el precio y se convierte a int\n",
    "            specsContent[6]=int(str(soup.find('span',class_='andes-money-amount__fraction').text.strip()).replace('.',''))\n",
    "        except:            \n",
    "            # Si no hay precio, se asigna un -1            \n",
    "            specsContent[6]= -1\n",
    "        \n",
    "        # Guardamos la URL del artículo\n",
    "        specsContent[7] = str(articuloURL)\n",
    "        \n",
    "        # Asignamos el registro completo al DataFrame\n",
    "        df.loc[df.shape[0]] = specsContent\n",
    "        \n",
    "        # Guardamos en un CSV los registros (por ahora sucios) a medida que avanzamos\n",
    "        df.to_csv('Monitores Nuevos - Registros sucios - Mercado Libre Argentina - Agosto 2023.csv')"
   ]
  }
 ],
 "metadata": {
  "kernelspec": {
   "display_name": "Python 3 (ipykernel)",
   "language": "python",
   "name": "python3"
  },
  "language_info": {
   "codemirror_mode": {
    "name": "ipython",
    "version": 3
   },
   "file_extension": ".py",
   "mimetype": "text/x-python",
   "name": "python",
   "nbconvert_exporter": "python",
   "pygments_lexer": "ipython3",
   "version": "3.9.12"
  }
 },
 "nbformat": 4,
 "nbformat_minor": 5
}
