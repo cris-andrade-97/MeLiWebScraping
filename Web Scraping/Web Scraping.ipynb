{
 "cells": [
  {
   "cell_type": "markdown",
   "id": "ab126830",
   "metadata": {},
   "source": [
    "# Web Scraping usando Python"
   ]
  },
  {
   "cell_type": "markdown",
   "id": "ee103b66",
   "metadata": {},
   "source": [
    "<p>Si nosotros quisieramos hacer un proyecto de análisis de datos, primero necesitamos un set de datos para trabajar. Por supuesto que puede haber diferentes páginas de donde sacar archivos para usar. Pero qué tal si nosotros conseguimos esos datos minando un sitio web.</p>\n",
    "<br>\n",
    "<p>En este notebook de Jupyter, vamos a explorar el proceso para extraer información de MercadoLibre y crear un dataset que más tarde podremos usar en análisis de datos.</p>"
   ]
  },
  {
   "cell_type": "markdown",
   "id": "af6e4f9c",
   "metadata": {},
   "source": [
    "## Definición de Web Scraping"
   ]
  },
  {
   "cell_type": "markdown",
   "id": "51b79ffc",
   "metadata": {},
   "source": [
    "De Wikipedia en español <a href='https://es.wikipedia.org/wiki/Web_scraping'>[1]</a>:\n",
    "<p>\"<i>Web scraping</i> o raspado web es una técnica utilizada mediante programas de software para extraer información de sitios web. Usualmente, estos programas simulan la navegación de un humano en la World Wide Web ya sea utilizando el protocolo HTTP manualmente, o incrustando un navegador en una aplicación. </p>\n",
    "\n",
    "<p>El <i>web scraping</i> [...] se enfoca más en la transformación de datos sin estructura en la web (como el formato HTML) en datos estructurados que pueden ser almacenados y analizados en una base de datos central, en una hoja de cálculo o en alguna otra fuente de almacenamiento. Alguno de los usos del <i>web scraping</i> son la comparación de precios en tiendas, la monitorización de datos relacionados con el clima de cierta región, la detección de cambios en sitios webs y la integración de datos en sitios webs. \"</p>\n",
    "\n",
    "Cabe aclarar que no hay un método universal para 'raspar' un sitio web. La disposición de los datos, cómo están estructurados y los permisos para navegar pueden variar radicalmente de un sitio a otro."
   ]
  },
  {
   "cell_type": "markdown",
   "id": "768dac9a",
   "metadata": {},
   "source": [
    "## Objetivos"
   ]
  },
  {
   "cell_type": "markdown",
   "id": "3e9354d2",
   "metadata": {},
   "source": [
    "- Comprender cómo MercadoLibre estructura sus datos en páginas HTML para luego redactar algorítmos que se adapten.\n",
    "\n",
    "- Extraer los enlaces a todos los monitores de escritorio en MercadoLibre y sus especificaciones técnicas haciendo web scraping responsable, eficiente y tolerante a errores."
   ]
  },
  {
   "cell_type": "markdown",
   "id": "9cee5e69",
   "metadata": {},
   "source": [
    "## Metodología"
   ]
  },
  {
   "cell_type": "markdown",
   "id": "82965af5",
   "metadata": {},
   "source": [
    "Usaremos la técnica del 'HTML Parser' <a href='https://en.wikipedia.org/wiki/Web_scraping#Techniques'>[2]</a> que es escencialmente hacer uso de una librería que analiza el HTML y nos ayudará a buscar etiqueta por etiqueta para extraer lo que contienen tanto dentro de sí como sus atributos.\n",
    "\n",
    "Extraeremos cada dato programáticamente con nula intervención humana."
   ]
  },
  {
   "cell_type": "markdown",
   "id": "04795f01",
   "metadata": {},
   "source": [
    "## Importamos las librerías necesarias"
   ]
  },
  {
   "cell_type": "markdown",
   "id": "4102b356",
   "metadata": {},
   "source": [
    "<p>Estas librerías nos ayudarán a leer y extraer datos de cada HTML.</p>\n",
    "\n",
    "<p>Breve resumen de cada librería:</p>\n",
    "<ul>\n",
    "    <li><b>pandas</b>: Librería especializada en almacenamiento y manejo de set de datos.</li>\n",
    "    <li><b>bs4</b>: Librería para analizar páginas HTML y para buscar tanto etiquetas como contenido.</li>\n",
    "    <li><b>requests</b>: Librería para realizar solicitudes a páginas web.</li>\n",
    "    <li><b>time</b>: Librería necesaria para hacer pausas entre solicitudes.</li>\n",
    "</ul>"
   ]
  },
  {
   "cell_type": "code",
   "execution_count": 1,
   "id": "13b61c2e",
   "metadata": {},
   "outputs": [],
   "source": [
    "import pandas as pd\n",
    "from bs4 import BeautifulSoup\n",
    "import requests\n",
    "import time"
   ]
  },
  {
   "cell_type": "markdown",
   "id": "e014edfd",
   "metadata": {},
   "source": [
    "## Definimos el User Agent"
   ]
  },
  {
   "cell_type": "markdown",
   "id": "52ebc190",
   "metadata": {},
   "source": [
    "<p>Es buena práctica (en otros sitios es obligatorio) identificarnos como si fuéramos un navegador para poder hacer solicitudes a su servidor.</p>"
   ]
  },
  {
   "cell_type": "code",
   "execution_count": 2,
   "id": "6aef2c15",
   "metadata": {
    "scrolled": false
   },
   "outputs": [],
   "source": [
    "HEADERS = {\"User-Agent\": \"Mozilla/5.0 (Windows NT 10.0; Win64; x64) AppleWebKit/537.36 (KHTML, like Gecko) Chrome/115.0.0.0 Safari/537.36\"}"
   ]
  },
  {
   "cell_type": "markdown",
   "id": "78c4ebe6",
   "metadata": {},
   "source": [
    "## Recabamos los enlaces de cada artículo de la sección escogida"
   ]
  },
  {
   "cell_type": "markdown",
   "id": "fc57c45c",
   "metadata": {},
   "source": [
    "<p>Entramos a cada página desde la primera hasta la última y capturamos los enlaces de cada artículo. Cada solicitud se realiza con un intervalo de tiempo por respeto al servidor y para evitar sanciones que nos impidan seguir con nuestro cometido.</p>"
   ]
  },
  {
   "cell_type": "code",
   "execution_count": 3,
   "id": "34cde755",
   "metadata": {
    "scrolled": true
   },
   "outputs": [
    {
     "name": "stdout",
     "output_type": "stream",
     "text": [
      "Páginas visitadas:  38\n",
      "Artículos recabados:  1824\n"
     ]
    }
   ],
   "source": [
    "listaURL = []\n",
    "pagina = 0\n",
    "cantidad = 1\n",
    "\n",
    "while True:   \n",
    "\n",
    "    url = 'https://listado.mercadolibre.com.ar/computacion/monitores-accesorios/monitores/nuevo/monitor-led_Desde_'+str(cantidad)+'_NoIndex_True'\n",
    "    \n",
    "    page = requests.get(url,headers=HEADERS)\n",
    "\n",
    "    if page.status_code >= 400:\n",
    "        break\n",
    "    else:    \n",
    "        pagina += 1\n",
    "\n",
    "        soup = BeautifulSoup(page.content,'html.parser')    \n",
    "\n",
    "        for x in soup.find_all('a',class_ = 'ui-search-item__group__element shops__items-group-details ui-search-link'):\n",
    "\n",
    "            if 'click1' not in str(x['href']):\n",
    "                listaURL.append(x['href'])\n",
    "\n",
    "        cantidad += 50\n",
    "        time.sleep(4)\n",
    "\n",
    "        \n",
    "cantidad = None\n",
    "\n",
    "print('Páginas visitadas: ', pagina)\n",
    "print('Artículos recabados: ', str(len(listaURL)))"
   ]
  },
  {
   "cell_type": "markdown",
   "id": "71f753de",
   "metadata": {},
   "source": [
    "## Definimos algunas de las cabeceras usadas por MercadoLibre"
   ]
  },
  {
   "cell_type": "markdown",
   "id": "500bc518",
   "metadata": {},
   "source": [
    "<p>MercadoLibre deja a disposición de los vendedores más de veinte campos para llenar <b>de manera opcional</b>. Por motivos de simpleza, solo usaremos seis de estos campos más el precio y el link al artículo. Se resalta que los campos se llenan opcionalmente porque la cantidad de datos varía de vendedor a vendedor. Esto se maneja más adelante.</p>"
   ]
  },
  {
   "cell_type": "code",
   "execution_count": 4,
   "id": "b8b14fde",
   "metadata": {
    "scrolled": true
   },
   "outputs": [],
   "source": [
    "cabeceras = ['Marca','Modelo','Tamaño de la pantalla','Tipo de resolución','Tipo de pantalla',\n",
    "             'Frecuencia de actualización recomendada','Precio','Link']"
   ]
  },
  {
   "cell_type": "markdown",
   "id": "eec0d68e",
   "metadata": {},
   "source": [
    "## Definimos el DataFrame de Pandas"
   ]
  },
  {
   "cell_type": "markdown",
   "id": "75eb6ca3",
   "metadata": {},
   "source": [
    "<p>Usaremos la reconocida librería Pandas para guardar los datos que vayamos extrayendo. Después podremos exportar esto a un .CSV para manipular.</p>"
   ]
  },
  {
   "cell_type": "code",
   "execution_count": 5,
   "id": "1b52a4ee",
   "metadata": {},
   "outputs": [],
   "source": [
    "df = pd.DataFrame(columns = ['Marca','Modelo','Tamaño de la pantalla','Tipo de resolución',\n",
    "                             'Tipo de pantalla','Frecuencia de actualización','Precio','Link'])"
   ]
  },
  {
   "cell_type": "markdown",
   "id": "38063f4d",
   "metadata": {},
   "source": [
    "## Visitamos cada página para extraer los campos que necesitemos"
   ]
  },
  {
   "cell_type": "markdown",
   "id": "da5fa276",
   "metadata": {},
   "source": [
    "<p>MercadoLibre ubica todos los campos de información técnica en filas de tablas llamadas 'andes_table__row'. Entonces, traemos todas ellas y, de acuerdo a la cabecera de la fila, ubicamos cada dato en su lugar. Nuevamente, la pausa es necesaria para no inundar al servidor con tantas solicitudes juntas y para evitar una posible sanción a nuestra IP.</p>"
   ]
  },
  {
   "cell_type": "code",
   "execution_count": 6,
   "id": "475d7446",
   "metadata": {
    "scrolled": false
   },
   "outputs": [
    {
     "name": "stdout",
     "output_type": "stream",
     "text": [
      "\n"
     ]
    }
   ],
   "source": [
    "for articuloURL in listaURL:    \n",
    "    timeoutException = False\n",
    "    specsContent = ['','','','','','',0,'']\n",
    "    rows = []\n",
    "    while True:            \n",
    "        if len(rows)>0:\n",
    "            break\n",
    "        else:\n",
    "            try:\n",
    "                page = requests.get(articuloURL,headers=HEADERS,timeout=5)\n",
    "            except:\n",
    "                timeoutException = True\n",
    "                print('Request timeout. Going to the next URL...')\n",
    "                break\n",
    "\n",
    "            soup = BeautifulSoup(page.text,'html')            \n",
    "            rows = soup.find_all('tr',class_ = 'andes-table__row ui-vpp-striped-specs__row')\n",
    "            time.sleep(3)\n",
    "\n",
    "    if page.status_code == 200 and not timeoutException:\n",
    "\n",
    "        for x in rows:\n",
    "            cabecera = str(x.find('th').text.strip())\n",
    "\n",
    "            if cabecera in cabeceras:\n",
    "                dato = str(x.find('td').text.strip())\n",
    "                if cabecera == 'Marca':\n",
    "                    specsContent[0] = dato\n",
    "                elif cabecera == 'Modelo':\n",
    "                    specsContent[1] = dato\n",
    "                elif cabecera == 'Tamaño de la pantalla':\n",
    "                    specsContent[2] = dato\n",
    "                elif cabecera == 'Tipo de resolución':\n",
    "                    specsContent[3] = dato\n",
    "                elif cabecera == 'Tipo de pantalla':\n",
    "                    specsContent[4] = dato\n",
    "                elif 'Frecuencia de actualización' in cabecera:\n",
    "                    specsContent[5] = dato\n",
    "\n",
    "        try:    \n",
    "            specsContent[6]=int(str(soup.find('span',class_='andes-money-amount__fraction').text.strip()).replace('.',''))\n",
    "        except:                     \n",
    "            specsContent[6]= -1\n",
    "        \n",
    "        specsContent[7] = str(articuloURL)        \n",
    "        df.loc[df.shape[0]] = specsContent        \n",
    "        df.to_csv('Monitores Nuevos - Registros sucios - Mercado Libre Argentina - Agosto 2023.csv')\n"
   ]
  },
  {
   "cell_type": "markdown",
   "id": "aba6814a",
   "metadata": {},
   "source": [
    "## Resultado"
   ]
  },
  {
   "cell_type": "markdown",
   "id": "d2168bac",
   "metadata": {},
   "source": [
    "El CSV se llenó correctamente. Aquí se exhiben los primeros cinco registros:"
   ]
  },
  {
   "cell_type": "code",
   "execution_count": 7,
   "id": "2c5462f7",
   "metadata": {
    "scrolled": true
   },
   "outputs": [
    {
     "data": {
      "text/html": [
       "<div>\n",
       "<style scoped>\n",
       "    .dataframe tbody tr th:only-of-type {\n",
       "        vertical-align: middle;\n",
       "    }\n",
       "\n",
       "    .dataframe tbody tr th {\n",
       "        vertical-align: top;\n",
       "    }\n",
       "\n",
       "    .dataframe thead th {\n",
       "        text-align: right;\n",
       "    }\n",
       "</style>\n",
       "<table border=\"1\" class=\"dataframe\">\n",
       "  <thead>\n",
       "    <tr style=\"text-align: right;\">\n",
       "      <th></th>\n",
       "      <th>Marca</th>\n",
       "      <th>Modelo</th>\n",
       "      <th>Tamaño de la pantalla</th>\n",
       "      <th>Tipo de resolución</th>\n",
       "      <th>Tipo de pantalla</th>\n",
       "      <th>Frecuencia de actualización</th>\n",
       "      <th>Precio</th>\n",
       "      <th>Link</th>\n",
       "    </tr>\n",
       "  </thead>\n",
       "  <tbody>\n",
       "    <tr>\n",
       "      <th>0</th>\n",
       "      <td>Philips</td>\n",
       "      <td>271E1SCA/55</td>\n",
       "      <td>27 \"</td>\n",
       "      <td>Full HD</td>\n",
       "      <td>LCD</td>\n",
       "      <td>75 Hz</td>\n",
       "      <td>185999</td>\n",
       "      <td>https://www.mercadolibre.com.ar/monitor-gamer-...</td>\n",
       "    </tr>\n",
       "    <tr>\n",
       "      <th>1</th>\n",
       "      <td>Samsung</td>\n",
       "      <td>F24T35</td>\n",
       "      <td>24 \"</td>\n",
       "      <td>Full HD</td>\n",
       "      <td>LED</td>\n",
       "      <td>75 Hz</td>\n",
       "      <td>86999</td>\n",
       "      <td>https://www.mercadolibre.com.ar/monitor-gamer-...</td>\n",
       "    </tr>\n",
       "    <tr>\n",
       "      <th>2</th>\n",
       "      <td>Samsung</td>\n",
       "      <td>F22T35</td>\n",
       "      <td>22 \"</td>\n",
       "      <td>Full HD</td>\n",
       "      <td>LED</td>\n",
       "      <td>75 Hz</td>\n",
       "      <td>75999</td>\n",
       "      <td>https://www.mercadolibre.com.ar/monitor-gamer-...</td>\n",
       "    </tr>\n",
       "    <tr>\n",
       "      <th>3</th>\n",
       "      <td>Noblex</td>\n",
       "      <td>MK24X7100</td>\n",
       "      <td>23.8 \"</td>\n",
       "      <td>Full HD</td>\n",
       "      <td>LED</td>\n",
       "      <td>75 Hz</td>\n",
       "      <td>66990</td>\n",
       "      <td>https://www.mercadolibre.com.ar/monitor-led-no...</td>\n",
       "    </tr>\n",
       "    <tr>\n",
       "      <th>4</th>\n",
       "      <td>Philips</td>\n",
       "      <td>221V8</td>\n",
       "      <td>21.5 \"</td>\n",
       "      <td>Full HD</td>\n",
       "      <td>LCD</td>\n",
       "      <td>75 Hz</td>\n",
       "      <td>51499</td>\n",
       "      <td>https://www.mercadolibre.com.ar/monitor-gamer-...</td>\n",
       "    </tr>\n",
       "  </tbody>\n",
       "</table>\n",
       "</div>"
      ],
      "text/plain": [
       "     Marca       Modelo Tamaño de la pantalla Tipo de resolución  \\\n",
       "0  Philips  271E1SCA/55                  27 \"            Full HD   \n",
       "1  Samsung       F24T35                  24 \"            Full HD   \n",
       "2  Samsung       F22T35                  22 \"            Full HD   \n",
       "3   Noblex    MK24X7100                23.8 \"            Full HD   \n",
       "4  Philips        221V8                21.5 \"            Full HD   \n",
       "\n",
       "  Tipo de pantalla Frecuencia de actualización  Precio  \\\n",
       "0              LCD                       75 Hz  185999   \n",
       "1              LED                       75 Hz   86999   \n",
       "2              LED                       75 Hz   75999   \n",
       "3              LED                       75 Hz   66990   \n",
       "4              LCD                       75 Hz   51499   \n",
       "\n",
       "                                                Link  \n",
       "0  https://www.mercadolibre.com.ar/monitor-gamer-...  \n",
       "1  https://www.mercadolibre.com.ar/monitor-gamer-...  \n",
       "2  https://www.mercadolibre.com.ar/monitor-gamer-...  \n",
       "3  https://www.mercadolibre.com.ar/monitor-led-no...  \n",
       "4  https://www.mercadolibre.com.ar/monitor-gamer-...  "
      ]
     },
     "execution_count": 7,
     "metadata": {},
     "output_type": "execute_result"
    }
   ],
   "source": [
    "df.head()"
   ]
  },
  {
   "cell_type": "markdown",
   "id": "7709f94d",
   "metadata": {},
   "source": [
    "Se lograron recabar 1824 registros, la misma cantidad de enlaces que había en nuestra lista."
   ]
  },
  {
   "cell_type": "code",
   "execution_count": 8,
   "id": "31e8edad",
   "metadata": {},
   "outputs": [
    {
     "data": {
      "text/plain": [
       "1824"
      ]
     },
     "execution_count": 8,
     "metadata": {},
     "output_type": "execute_result"
    }
   ],
   "source": [
    "len(df)"
   ]
  },
  {
   "cell_type": "markdown",
   "id": "34ba866d",
   "metadata": {},
   "source": [
    "## Conclusión"
   ]
  },
  {
   "cell_type": "markdown",
   "id": "7ab91166",
   "metadata": {},
   "source": [
    "MercadoLibre ha resultado ser un sitio de compras amigable con algoritmos de web scraping, tanto en su estructura de HTML fácil de leer como en sus permisos de navegación.\n",
    "\n",
    "Por otra parte, la cantidad de campos varía de vendedor a vendedor. No hay consistencia en este aspecto y es posible que algunos registros deban ser eliminados por contener campos vacíos."
   ]
  },
  {
   "cell_type": "markdown",
   "id": "5a7476b8",
   "metadata": {},
   "source": [
    "## Fin del Web Scraping"
   ]
  },
  {
   "cell_type": "markdown",
   "id": "859f61f3",
   "metadata": {},
   "source": [
    "<p>Ya con los datos almacenados en un archivo .CSV, en el próximo apartado <a href='https://github.com/cris-andrade-97/MeLiWebScraping/blob/main/Limpieza%20del%20CSV/Limpieza%20del%20CSV.ipynb'>'Limpieza del CSV'</a>, limpiaremos y normalizaremos cada campo.</p>"
   ]
  }
 ],
 "metadata": {
  "kernelspec": {
   "display_name": "Python 3 (ipykernel)",
   "language": "python",
   "name": "python3"
  },
  "language_info": {
   "codemirror_mode": {
    "name": "ipython",
    "version": 3
   },
   "file_extension": ".py",
   "mimetype": "text/x-python",
   "name": "python",
   "nbconvert_exporter": "python",
   "pygments_lexer": "ipython3",
   "version": "3.9.12"
  }
 },
 "nbformat": 4,
 "nbformat_minor": 5
}
