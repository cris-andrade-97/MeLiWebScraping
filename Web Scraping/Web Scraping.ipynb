{
 "cells": [
  {
   "cell_type": "code",
   "execution_count": 1,
   "id": "13b61c2e",
   "metadata": {},
   "outputs": [],
   "source": [
    "import pandas as pd\n",
    "from bs4 import BeautifulSoup\n",
    "import requests\n",
    "import time"
   ]
  },
  {
   "cell_type": "code",
   "execution_count": 2,
   "id": "6aef2c15",
   "metadata": {
    "scrolled": false
   },
   "outputs": [],
   "source": [
    "HEADERS = {\"User-Agent\": \"Mozilla/5.0 (Windows NT 10.0; Win64; x64) AppleWebKit/537.36 (KHTML, like Gecko) Chrome/115.0.0.0 Safari/537.36\"}"
   ]
  },
  {
   "cell_type": "code",
   "execution_count": 3,
   "id": "34cde755",
   "metadata": {
    "scrolled": true
   },
   "outputs": [
    {
     "name": "stdout",
     "output_type": "stream",
     "text": [
      "Páginas visitadas:  38\n",
      "Artículos recabados:  1824\n"
     ]
    }
   ],
   "source": [
    "listaURL = []\n",
    "pagina = 0\n",
    "cantidad = 1\n",
    "\n",
    "while True:   \n",
    "    \n",
    "    url = 'https://listado.mercadolibre.com.ar/computacion/monitores-accesorios/monitores/nuevo/monitor-led_Desde_'+str(cantidad)+'_NoIndex_True'\n",
    "    page = requests.get(url,headers=HEADERS)\n",
    "    \n",
    "    if page.status_code >= 400:\n",
    "        break\n",
    "    else:    \n",
    "        pagina += 1\n",
    "        soup = BeautifulSoup(page.content,'html.parser')    \n",
    "    \n",
    "        for x in soup.find_all('a',class_ = 'ui-search-item__group__element shops__items-group-details ui-search-link'):\n",
    "            if 'click1' not in str(x['href']):\n",
    "                listaURL.append(x['href'])\n",
    "    \n",
    "        cantidad += 50\n",
    "        \n",
    "        time.sleep(4)\n",
    "\n",
    "\n",
    "cantidad = None\n",
    "\n",
    "print('Páginas visitadas: ', pagina)\n",
    "print('Artículos recabados: ', str(len(listaURL)))"
   ]
  },
  {
   "cell_type": "code",
   "execution_count": 4,
   "id": "b8b14fde",
   "metadata": {
    "scrolled": true
   },
   "outputs": [],
   "source": [
    "cabeceras = ['Marca','Modelo','Tamaño de la pantalla','Tipo de resolución','Tipo de pantalla','Frecuencia de actualización recomendada','Precio','Link']\n",
    "\n",
    "df = pd.DataFrame(columns = ['Marca','Modelo','Tamaño de la pantalla','Tipo de resolución','Tipo de pantalla','Frecuencia de actualización','Precio','Link'])"
   ]
  },
  {
   "cell_type": "code",
   "execution_count": 5,
   "id": "475d7446",
   "metadata": {
    "scrolled": false
   },
   "outputs": [
    {
     "name": "stdout",
     "output_type": "stream",
     "text": [
      "\n"
     ]
    }
   ],
   "source": [
    "for articuloURL in listaURL:\n",
    "    page = requests.get(articuloURL,headers=HEADERS)\n",
    "    timeoutException = False\n",
    "    specsContent = ['','','','','','',0,'']\n",
    "    rows = []    \n",
    "    while True:            \n",
    "        if len(rows)>0:\n",
    "            break\n",
    "        else:\n",
    "            try:\n",
    "                page = requests.get(articuloURL,headers=HEADERS,timeout=5)                \n",
    "            except:\n",
    "                timeoutException = True\n",
    "                print('Request timeout. Going to the next URL...')\n",
    "                break\n",
    "            soup = BeautifulSoup(page.text,'html')\n",
    "            rows = soup.find_all('tr',class_ = 'andes-table__row ui-vpp-striped-specs__row')\n",
    "            time.sleep(3)\n",
    "                      \n",
    "    if page.status_code == 200 and not timeoutException:\n",
    "\n",
    "        for x in rows:\n",
    "            cabecera = str(x.find('th').text.strip())            \n",
    "            if cabecera in cabeceras:\n",
    "                dato = str(x.find('td').text.strip())\n",
    "                if cabecera == 'Marca':\n",
    "                    specsContent[0] = dato\n",
    "                elif cabecera == 'Modelo':\n",
    "                    specsContent[1] = dato\n",
    "                elif cabecera == 'Tamaño de la pantalla':\n",
    "                    specsContent[2] = dato\n",
    "                elif cabecera == 'Tipo de resolución':\n",
    "                    specsContent[3] = dato\n",
    "                elif cabecera == 'Tipo de pantalla':\n",
    "                    specsContent[4] = dato\n",
    "                elif 'Frecuencia de actualización' in cabecera:\n",
    "                    specsContent[5] = dato\n",
    "\n",
    "        try:          \n",
    "            specsContent[6]=int(str(soup.find('span',class_='andes-money-amount__fraction').text.strip()).replace('.',''))\n",
    "        except:\n",
    "            specsContent[6]= -1\n",
    "        \n",
    "        specsContent[7] = str(articuloURL)\n",
    "        \n",
    "        df.loc[df.shape[0]] = specsContent\n",
    "        df.to_csv('Monitores Nuevos - Registros sucios - Mercado Libre Argentina - Agosto 2023.csv')"
   ]
  }
 ],
 "metadata": {
  "kernelspec": {
   "display_name": "Python 3 (ipykernel)",
   "language": "python",
   "name": "python3"
  },
  "language_info": {
   "codemirror_mode": {
    "name": "ipython",
    "version": 3
   },
   "file_extension": ".py",
   "mimetype": "text/x-python",
   "name": "python",
   "nbconvert_exporter": "python",
   "pygments_lexer": "ipython3",
   "version": "3.9.12"
  }
 },
 "nbformat": 4,
 "nbformat_minor": 5
}
