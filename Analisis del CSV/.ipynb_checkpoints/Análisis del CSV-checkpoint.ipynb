{
 "cells": [
  {
   "cell_type": "markdown",
   "id": "66cabfe0",
   "metadata": {},
   "source": [
    "# Análisis de datos"
   ]
  },
  {
   "cell_type": "markdown",
   "id": "71fa7b38",
   "metadata": {},
   "source": [
    "En <a href='https://github.com/cris-andrade-97/MeLiWebScraping/blob/main/Limpieza%20del%20CSV/Limpieza%20del%20CSV.ipynb'>el notebook anterior</a>, limpiamos los campos uno por uno ya sea normalizándolos, corrigiendo errores de tipeo, o removiendo registros irrecuperables.\n",
    "\n",
    "En este último apartado se buscará analizar este dataset de monitores mediante planteo de preguntas, consultas y gráficos para contestarlas."
   ]
  },
  {
   "cell_type": "markdown",
   "id": "2e374037",
   "metadata": {},
   "source": [
    "## Objetivos"
   ]
  },
  {
   "cell_type": "markdown",
   "id": "74388ad9",
   "metadata": {},
   "source": [
    "Comprobar si hay variedad de marcas, especificaciones técnicas y de precios que convenzan a todos los públicos.\n",
    "\n",
    "Buscar un monitor disponiendo de un presupuesto acotado y aplicando ciertas exigencias.\n",
    "\n",
    "Ver qué marcas son más variadas por cada característica técnica.\n",
    "\n",
    "Observar la distribución de los precios tanto en todo el dataset como en casos específicos.\n",
    "\n",
    "Observar si dos variables como el precio y el tamaño de la pantalla están íntimamente ligados."
   ]
  },
  {
   "cell_type": "markdown",
   "id": "d359202a",
   "metadata": {},
   "source": [
    "## Planteo de preguntas"
   ]
  },
  {
   "cell_type": "markdown",
   "id": "c7cf50a8",
   "metadata": {},
   "source": [
    "Se decidió dividir las preguntas en 4 grandes categorías:\n",
    "\n",
    "\n",
    "### Información general\n",
    "1. ¿Cuántos registros hay?\n",
    "2. ¿Cuáles son las cinco marcas con más presencias?\n",
    "3. De esas cinco marcas, ¿Cuál es la más barata en promedio?\n",
    "4. ¿Cuáles son los modelos de monitor con más presencias?\n",
    "5. Teniendo en cuenta el modelo con más presencias, ¿Cuál es su rango de precios?\n",
    "6. ¿Cuál es el rango de precios de todos los monitores?\n",
    "7. ¿Cuáles son los tres monitores más caros de todos? ¿Y los tres más baratos?\n",
    "8. ¿Cuáles son las mejores opciones con un presupuesto de ARS 100.000?\n",
    "\n",
    "### Aspectos técnicos\n",
    "9. ¿Cuál es la resolución de pantalla más común?\n",
    "10. ¿Cuál es el tamaño de pantalla más común?\n",
    "11. ¿Cuál es el tamaño más grande disponible y qué monitores lo tienen?\n",
    "12. ¿Cuál es el tipo de pantalla más común?\n",
    "13. ¿Cuál es el rango de frecuencias de actualización?\n",
    "14. ¿Qué monitores tienen la mayor frecuencia?\n",
    "\n",
    "### Variedad de características según la marca\n",
    "15. Marca con mayor variedad de modelos\n",
    "16. Marca con mayor variedad de tamaños\n",
    "17. Marca con mayor variedad de resoluciones\n",
    "18. Marca con mayor variedad de tipos de pantalla\n",
    "19. Marca con mayor variedad de frecuencias\n",
    "\n",
    "### Análisis de Precios\n",
    "20. Media de precios\n",
    "21. Mediana de precios\n",
    "22. Distribución de precios general\n",
    "    - Caja y bigotes\n",
    "    - Histograma\n",
    "23. Distribución de precios: Caso específico\n",
    "24. Relación entre el tamaño de la pantalla y el precio\n",
    "\n"
   ]
  },
  {
   "cell_type": "markdown",
   "id": "fed98cf2",
   "metadata": {},
   "source": [
    "## Importamos las librerías necesarias"
   ]
  },
  {
   "cell_type": "markdown",
   "id": "f088b875",
   "metadata": {},
   "source": [
    "Usamos Pandas para consultas. Mientras que Matplotlib es para gráficas."
   ]
  },
  {
   "cell_type": "code",
   "execution_count": 1,
   "id": "3c3126b1",
   "metadata": {},
   "outputs": [],
   "source": [
    "import pandas as pd\n",
    "import matplotlib.pyplot as plt"
   ]
  },
  {
   "cell_type": "markdown",
   "id": "a48efb9d",
   "metadata": {},
   "source": [
    "## Importamos los registros limpios y los exhibimos"
   ]
  },
  {
   "cell_type": "markdown",
   "id": "8902a3b8",
   "metadata": {},
   "source": [
    "Se establece que los números flotantes, tanto los campos del dataframe o los campos generados (como el promedio), solo exhiban 1 decimal para mejor lectura."
   ]
  },
  {
   "cell_type": "code",
   "execution_count": 2,
   "id": "dfb49fa0",
   "metadata": {
    "scrolled": true
   },
   "outputs": [
    {
     "data": {
      "text/html": [
       "<div>\n",
       "<style scoped>\n",
       "    .dataframe tbody tr th:only-of-type {\n",
       "        vertical-align: middle;\n",
       "    }\n",
       "\n",
       "    .dataframe tbody tr th {\n",
       "        vertical-align: top;\n",
       "    }\n",
       "\n",
       "    .dataframe thead th {\n",
       "        text-align: right;\n",
       "    }\n",
       "</style>\n",
       "<table border=\"1\" class=\"dataframe\">\n",
       "  <thead>\n",
       "    <tr style=\"text-align: right;\">\n",
       "      <th></th>\n",
       "      <th>Marca</th>\n",
       "      <th>Modelo</th>\n",
       "      <th>Tamaño de la pantalla</th>\n",
       "      <th>Tipo de resolución</th>\n",
       "      <th>Tipo de pantalla</th>\n",
       "      <th>Frecuencia de actualización</th>\n",
       "      <th>Precio</th>\n",
       "      <th>Link</th>\n",
       "    </tr>\n",
       "  </thead>\n",
       "  <tbody>\n",
       "    <tr>\n",
       "      <th>0</th>\n",
       "      <td>Philips</td>\n",
       "      <td>271E1SCA/55</td>\n",
       "      <td>27.0</td>\n",
       "      <td>FHD</td>\n",
       "      <td>LCD/LED</td>\n",
       "      <td>75</td>\n",
       "      <td>185999</td>\n",
       "      <td>https://www.mercadolibre.com.ar/monitor-gamer-...</td>\n",
       "    </tr>\n",
       "    <tr>\n",
       "      <th>1</th>\n",
       "      <td>Samsung</td>\n",
       "      <td>F24T35</td>\n",
       "      <td>24.0</td>\n",
       "      <td>FHD</td>\n",
       "      <td>LCD/LED</td>\n",
       "      <td>75</td>\n",
       "      <td>86999</td>\n",
       "      <td>https://www.mercadolibre.com.ar/monitor-gamer-...</td>\n",
       "    </tr>\n",
       "    <tr>\n",
       "      <th>2</th>\n",
       "      <td>Samsung</td>\n",
       "      <td>F22T35</td>\n",
       "      <td>22.0</td>\n",
       "      <td>FHD</td>\n",
       "      <td>LCD/LED</td>\n",
       "      <td>75</td>\n",
       "      <td>75999</td>\n",
       "      <td>https://www.mercadolibre.com.ar/monitor-gamer-...</td>\n",
       "    </tr>\n",
       "    <tr>\n",
       "      <th>3</th>\n",
       "      <td>Noblex</td>\n",
       "      <td>MK24X7100</td>\n",
       "      <td>23.8</td>\n",
       "      <td>FHD</td>\n",
       "      <td>LCD/LED</td>\n",
       "      <td>75</td>\n",
       "      <td>66990</td>\n",
       "      <td>https://www.mercadolibre.com.ar/monitor-led-no...</td>\n",
       "    </tr>\n",
       "    <tr>\n",
       "      <th>4</th>\n",
       "      <td>Philips</td>\n",
       "      <td>221V8</td>\n",
       "      <td>21.5</td>\n",
       "      <td>FHD</td>\n",
       "      <td>LCD/LED</td>\n",
       "      <td>75</td>\n",
       "      <td>51499</td>\n",
       "      <td>https://www.mercadolibre.com.ar/monitor-gamer-...</td>\n",
       "    </tr>\n",
       "  </tbody>\n",
       "</table>\n",
       "</div>"
      ],
      "text/plain": [
       "     Marca       Modelo  Tamaño de la pantalla Tipo de resolución  \\\n",
       "0  Philips  271E1SCA/55                   27.0                FHD   \n",
       "1  Samsung       F24T35                   24.0                FHD   \n",
       "2  Samsung       F22T35                   22.0                FHD   \n",
       "3   Noblex    MK24X7100                   23.8                FHD   \n",
       "4  Philips        221V8                   21.5                FHD   \n",
       "\n",
       "  Tipo de pantalla  Frecuencia de actualización  Precio  \\\n",
       "0          LCD/LED                           75  185999   \n",
       "1          LCD/LED                           75   86999   \n",
       "2          LCD/LED                           75   75999   \n",
       "3          LCD/LED                           75   66990   \n",
       "4          LCD/LED                           75   51499   \n",
       "\n",
       "                                                Link  \n",
       "0  https://www.mercadolibre.com.ar/monitor-gamer-...  \n",
       "1  https://www.mercadolibre.com.ar/monitor-gamer-...  \n",
       "2  https://www.mercadolibre.com.ar/monitor-gamer-...  \n",
       "3  https://www.mercadolibre.com.ar/monitor-led-no...  \n",
       "4  https://www.mercadolibre.com.ar/monitor-gamer-...  "
      ]
     },
     "execution_count": 2,
     "metadata": {},
     "output_type": "execute_result"
    }
   ],
   "source": [
    "df = pd.read_csv('Monitores Nuevos - Registros limpios - Mercado Libre Argentina - Agosto 2023.csv', index_col= 0)\n",
    "\n",
    "pd.set_option('display.float_format', '{:.1f}'.format)\n",
    "\n",
    "df.head()"
   ]
  },
  {
   "cell_type": "markdown",
   "id": "4cdda73b",
   "metadata": {},
   "source": [
    "# Información general"
   ]
  },
  {
   "cell_type": "markdown",
   "id": "edbdf33d",
   "metadata": {},
   "source": [
    "## Cantidad de registros: 1234"
   ]
  },
  {
   "cell_type": "code",
   "execution_count": 3,
   "id": "e0b4c4ef",
   "metadata": {},
   "outputs": [
    {
     "data": {
      "text/plain": [
       "1234"
      ]
     },
     "execution_count": 3,
     "metadata": {},
     "output_type": "execute_result"
    }
   ],
   "source": [
    "len(df)"
   ]
  },
  {
   "cell_type": "markdown",
   "id": "db9ef8dc",
   "metadata": {},
   "source": [
    "## Cinco marcas con mayor presencia:"
   ]
  },
  {
   "cell_type": "markdown",
   "id": "10b923ab",
   "metadata": {},
   "source": [
    "Las cinco marcas con más apariciones en el sitio son:\n",
    "\n",
    "1. LG: 324 veces\n",
    "2. Samsung: 297 veces\n",
    "3. Philips: 135 veces\n",
    "4. ViewSonic: 73 veces\n",
    "5. Asus: 68 veces"
   ]
  },
  {
   "cell_type": "code",
   "execution_count": 4,
   "id": "4ab81099",
   "metadata": {
    "scrolled": true
   },
   "outputs": [
    {
     "data": {
      "text/plain": [
       "LG           324\n",
       "Samsung      297\n",
       "Philips      135\n",
       "ViewSonic     73\n",
       "Asus          68\n",
       "Name: Marca, dtype: int64"
      ]
     },
     "execution_count": 4,
     "metadata": {},
     "output_type": "execute_result"
    }
   ],
   "source": [
    "df['Marca'].value_counts()[range(5)]"
   ]
  },
  {
   "cell_type": "markdown",
   "id": "d9a467b7",
   "metadata": {},
   "source": [
    "## Cinco marcas con mayor presencia: Promedio más bajo de precios"
   ]
  },
  {
   "cell_type": "markdown",
   "id": "7c488a63",
   "metadata": {},
   "source": [
    "<p>De las cinco marcas con mayor presencia, Philips es la más barata en promedio con ARS 89.105,30</p>"
   ]
  },
  {
   "cell_type": "code",
   "execution_count": 5,
   "id": "8e4e386a",
   "metadata": {
    "scrolled": true
   },
   "outputs": [
    {
     "data": {
      "text/html": [
       "<div>\n",
       "<style scoped>\n",
       "    .dataframe tbody tr th:only-of-type {\n",
       "        vertical-align: middle;\n",
       "    }\n",
       "\n",
       "    .dataframe tbody tr th {\n",
       "        vertical-align: top;\n",
       "    }\n",
       "\n",
       "    .dataframe thead th {\n",
       "        text-align: right;\n",
       "    }\n",
       "</style>\n",
       "<table border=\"1\" class=\"dataframe\">\n",
       "  <thead>\n",
       "    <tr style=\"text-align: right;\">\n",
       "      <th></th>\n",
       "      <th>Precio</th>\n",
       "    </tr>\n",
       "    <tr>\n",
       "      <th>Marca</th>\n",
       "      <th></th>\n",
       "    </tr>\n",
       "  </thead>\n",
       "  <tbody>\n",
       "    <tr>\n",
       "      <th>Philips</th>\n",
       "      <td>89105.3</td>\n",
       "    </tr>\n",
       "    <tr>\n",
       "      <th>Samsung</th>\n",
       "      <td>180495.3</td>\n",
       "    </tr>\n",
       "    <tr>\n",
       "      <th>ViewSonic</th>\n",
       "      <td>181476.7</td>\n",
       "    </tr>\n",
       "    <tr>\n",
       "      <th>Asus</th>\n",
       "      <td>222614.3</td>\n",
       "    </tr>\n",
       "    <tr>\n",
       "      <th>LG</th>\n",
       "      <td>258425.9</td>\n",
       "    </tr>\n",
       "  </tbody>\n",
       "</table>\n",
       "</div>"
      ],
      "text/plain": [
       "            Precio\n",
       "Marca             \n",
       "Philips    89105.3\n",
       "Samsung   180495.3\n",
       "ViewSonic 181476.7\n",
       "Asus      222614.3\n",
       "LG        258425.9"
      ]
     },
     "execution_count": 5,
     "metadata": {},
     "output_type": "execute_result"
    }
   ],
   "source": [
    "cincoMarcasConMayorPresencia = ['LG','Samsung','Philips','ViewSonic','Asus']\n",
    "df[df['Marca'].isin(cincoMarcasConMayorPresencia)][['Marca','Precio']].groupby('Marca').mean().sort_values(by='Precio')"
   ]
  },
  {
   "cell_type": "markdown",
   "id": "77e66dfd",
   "metadata": {},
   "source": [
    "## Modelo de monitor con más presencia:"
   ]
  },
  {
   "cell_type": "markdown",
   "id": "c58889d4",
   "metadata": {},
   "source": [
    "El modelo con más presencia en el sitio es el 'F24T35' de la marca Samsung con 81 apariciones."
   ]
  },
  {
   "cell_type": "code",
   "execution_count": 6,
   "id": "72c85331",
   "metadata": {},
   "outputs": [
    {
     "data": {
      "text/plain": [
       "F24T35    81\n",
       "F22T35    47\n",
       "19M38A    41\n",
       "Name: Modelo, dtype: int64"
      ]
     },
     "execution_count": 6,
     "metadata": {},
     "output_type": "execute_result"
    }
   ],
   "source": [
    "df['Modelo'].value_counts()[range(3)]"
   ]
  },
  {
   "cell_type": "code",
   "execution_count": 7,
   "id": "1c943b9e",
   "metadata": {},
   "outputs": [
    {
     "data": {
      "text/html": [
       "<div>\n",
       "<style scoped>\n",
       "    .dataframe tbody tr th:only-of-type {\n",
       "        vertical-align: middle;\n",
       "    }\n",
       "\n",
       "    .dataframe tbody tr th {\n",
       "        vertical-align: top;\n",
       "    }\n",
       "\n",
       "    .dataframe thead th {\n",
       "        text-align: right;\n",
       "    }\n",
       "</style>\n",
       "<table border=\"1\" class=\"dataframe\">\n",
       "  <thead>\n",
       "    <tr style=\"text-align: right;\">\n",
       "      <th></th>\n",
       "      <th>Marca</th>\n",
       "    </tr>\n",
       "  </thead>\n",
       "  <tbody>\n",
       "    <tr>\n",
       "      <th>1</th>\n",
       "      <td>Samsung</td>\n",
       "    </tr>\n",
       "  </tbody>\n",
       "</table>\n",
       "</div>"
      ],
      "text/plain": [
       "     Marca\n",
       "1  Samsung"
      ]
     },
     "execution_count": 7,
     "metadata": {},
     "output_type": "execute_result"
    }
   ],
   "source": [
    "df[(df['Modelo']=='F24T35')][['Marca']].head(1)"
   ]
  },
  {
   "cell_type": "markdown",
   "id": "2a472acc",
   "metadata": {},
   "source": [
    "## Modelo de monitor con más presencia: Variación de precios"
   ]
  },
  {
   "cell_type": "markdown",
   "id": "f30fad1d",
   "metadata": {},
   "source": [
    "El precio del monitor Samsung con el modelo 'F24T35' varía desde ARS 65.000 hasta ARS 271.667"
   ]
  },
  {
   "cell_type": "code",
   "execution_count": 8,
   "id": "28f2f289",
   "metadata": {
    "scrolled": false
   },
   "outputs": [
    {
     "name": "stdout",
     "output_type": "stream",
     "text": [
      "Min: Precio    65000\n",
      "dtype: int64\n",
      "\n",
      "Max: Precio    271667\n",
      "dtype: int64\n"
     ]
    }
   ],
   "source": [
    "print(\"Min:\",df[(df['Modelo']=='F24T35')][['Precio']].min())\n",
    "print(\"\")\n",
    "print(\"Max:\",df[(df['Modelo']=='F24T35')][['Precio']].max())"
   ]
  },
  {
   "cell_type": "markdown",
   "id": "2b6ef4f7",
   "metadata": {},
   "source": [
    "## Rango de tamaños para monitores:"
   ]
  },
  {
   "cell_type": "markdown",
   "id": "5e79956c",
   "metadata": {},
   "source": [
    "Los tamaños de monitor varían entre 18.5 \" y 49 \". Hay 28 tamaños únicos para elegir."
   ]
  },
  {
   "cell_type": "code",
   "execution_count": 9,
   "id": "84be79b4",
   "metadata": {
    "scrolled": true
   },
   "outputs": [
    {
     "name": "stdout",
     "output_type": "stream",
     "text": [
      "Min: 18.5\n",
      "Max: 49.0\n",
      "Cantidad: 28\n"
     ]
    }
   ],
   "source": [
    "print(\"Min:\",df['Tamaño de la pantalla'].min())\n",
    "print(\"Max:\",df['Tamaño de la pantalla'].max())\n",
    "print(\"Cantidad:\",len(df['Tamaño de la pantalla'].unique()))"
   ]
  },
  {
   "cell_type": "markdown",
   "id": "a45783c3",
   "metadata": {},
   "source": [
    "## Rango de precios:"
   ]
  },
  {
   "cell_type": "markdown",
   "id": "640f6e60",
   "metadata": {},
   "source": [
    "Los precios de los monitores varían entre ARS 37.000 y ARS 5.999.999 distribuidos entre 1066 precios únicos."
   ]
  },
  {
   "cell_type": "code",
   "execution_count": 10,
   "id": "4c42b703",
   "metadata": {
    "scrolled": false
   },
   "outputs": [
    {
     "name": "stdout",
     "output_type": "stream",
     "text": [
      "Min: 37000\n",
      "Max: 5999999\n",
      "Cantidad: 1066\n"
     ]
    }
   ],
   "source": [
    "print(\"Min:\",df['Precio'].min())\n",
    "print(\"Max:\",df['Precio'].max())\n",
    "print(\"Cantidad:\",len(df['Precio'].unique()))"
   ]
  },
  {
   "cell_type": "markdown",
   "id": "b1fdd701",
   "metadata": {},
   "source": [
    "## Los tres monitores más baratos de todos:"
   ]
  },
  {
   "cell_type": "markdown",
   "id": "52f58410",
   "metadata": {},
   "source": [
    "Estos tres monitores son los más baratos de la lista. Se destaca que ninguno es FHD o Full High Definition. Sus precios rondan entre ARS 37.000 y ARS 44.800"
   ]
  },
  {
   "cell_type": "code",
   "execution_count": 11,
   "id": "68b0045e",
   "metadata": {
    "scrolled": true
   },
   "outputs": [
    {
     "data": {
      "text/html": [
       "<div>\n",
       "<style scoped>\n",
       "    .dataframe tbody tr th:only-of-type {\n",
       "        vertical-align: middle;\n",
       "    }\n",
       "\n",
       "    .dataframe tbody tr th {\n",
       "        vertical-align: top;\n",
       "    }\n",
       "\n",
       "    .dataframe thead th {\n",
       "        text-align: right;\n",
       "    }\n",
       "</style>\n",
       "<table border=\"1\" class=\"dataframe\">\n",
       "  <thead>\n",
       "    <tr style=\"text-align: right;\">\n",
       "      <th></th>\n",
       "      <th>Marca</th>\n",
       "      <th>Modelo</th>\n",
       "      <th>Tamaño de la pantalla</th>\n",
       "      <th>Tipo de resolución</th>\n",
       "      <th>Tipo de pantalla</th>\n",
       "      <th>Frecuencia de actualización</th>\n",
       "      <th>Precio</th>\n",
       "      <th>Link</th>\n",
       "    </tr>\n",
       "  </thead>\n",
       "  <tbody>\n",
       "    <tr>\n",
       "      <th>1432</th>\n",
       "      <td>iQual</td>\n",
       "      <td>Home19</td>\n",
       "      <td>19.0</td>\n",
       "      <td>HD</td>\n",
       "      <td>LCD/LED</td>\n",
       "      <td>75</td>\n",
       "      <td>37000</td>\n",
       "      <td>https://articulo.mercadolibre.com.ar/MLA-14288...</td>\n",
       "    </tr>\n",
       "    <tr>\n",
       "      <th>1754</th>\n",
       "      <td>Gfast</td>\n",
       "      <td>T-195</td>\n",
       "      <td>19.5</td>\n",
       "      <td>HD</td>\n",
       "      <td>LCD/LED</td>\n",
       "      <td>60</td>\n",
       "      <td>39999</td>\n",
       "      <td>https://articulo.mercadolibre.com.ar/MLA-14652...</td>\n",
       "    </tr>\n",
       "    <tr>\n",
       "      <th>1775</th>\n",
       "      <td>HP</td>\n",
       "      <td>V190</td>\n",
       "      <td>18.5</td>\n",
       "      <td>WXGA</td>\n",
       "      <td>LCD/LED</td>\n",
       "      <td>60</td>\n",
       "      <td>44800</td>\n",
       "      <td>https://www.mercadolibre.com.ar/monitor-hp-v19...</td>\n",
       "    </tr>\n",
       "  </tbody>\n",
       "</table>\n",
       "</div>"
      ],
      "text/plain": [
       "      Marca  Modelo  Tamaño de la pantalla Tipo de resolución  \\\n",
       "1432  iQual  Home19                   19.0                 HD   \n",
       "1754  Gfast   T-195                   19.5                 HD   \n",
       "1775     HP    V190                   18.5               WXGA   \n",
       "\n",
       "     Tipo de pantalla  Frecuencia de actualización  Precio  \\\n",
       "1432          LCD/LED                           75   37000   \n",
       "1754          LCD/LED                           60   39999   \n",
       "1775          LCD/LED                           60   44800   \n",
       "\n",
       "                                                   Link  \n",
       "1432  https://articulo.mercadolibre.com.ar/MLA-14288...  \n",
       "1754  https://articulo.mercadolibre.com.ar/MLA-14652...  \n",
       "1775  https://www.mercadolibre.com.ar/monitor-hp-v19...  "
      ]
     },
     "execution_count": 11,
     "metadata": {},
     "output_type": "execute_result"
    }
   ],
   "source": [
    "df.sort_values(by='Precio').head(3)"
   ]
  },
  {
   "cell_type": "markdown",
   "id": "e2f8358b",
   "metadata": {},
   "source": [
    "## Los tres monitores más caros de todos:"
   ]
  },
  {
   "cell_type": "markdown",
   "id": "66ad50dd",
   "metadata": {},
   "source": [
    "<p>Todos coinciden con la marca Apple. Todos tienen resoluciones UHD (Ultra High Definition). Y sus precios van entre ARS 5.000.000 y ARS 6.000.000</p>"
   ]
  },
  {
   "cell_type": "code",
   "execution_count": 12,
   "id": "d82c33ee",
   "metadata": {
    "scrolled": true
   },
   "outputs": [
    {
     "data": {
      "text/html": [
       "<div>\n",
       "<style scoped>\n",
       "    .dataframe tbody tr th:only-of-type {\n",
       "        vertical-align: middle;\n",
       "    }\n",
       "\n",
       "    .dataframe tbody tr th {\n",
       "        vertical-align: top;\n",
       "    }\n",
       "\n",
       "    .dataframe thead th {\n",
       "        text-align: right;\n",
       "    }\n",
       "</style>\n",
       "<table border=\"1\" class=\"dataframe\">\n",
       "  <thead>\n",
       "    <tr style=\"text-align: right;\">\n",
       "      <th></th>\n",
       "      <th>Marca</th>\n",
       "      <th>Modelo</th>\n",
       "      <th>Tamaño de la pantalla</th>\n",
       "      <th>Tipo de resolución</th>\n",
       "      <th>Tipo de pantalla</th>\n",
       "      <th>Frecuencia de actualización</th>\n",
       "      <th>Precio</th>\n",
       "      <th>Link</th>\n",
       "    </tr>\n",
       "  </thead>\n",
       "  <tbody>\n",
       "    <tr>\n",
       "      <th>1611</th>\n",
       "      <td>Apple</td>\n",
       "      <td>XDR NANO</td>\n",
       "      <td>32.0</td>\n",
       "      <td>UHD 6K</td>\n",
       "      <td>LCD/LED</td>\n",
       "      <td>60</td>\n",
       "      <td>5999999</td>\n",
       "      <td>https://articulo.mercadolibre.com.ar/MLA-11874...</td>\n",
       "    </tr>\n",
       "    <tr>\n",
       "      <th>1672</th>\n",
       "      <td>Apple</td>\n",
       "      <td>XDR STANDARD</td>\n",
       "      <td>32.0</td>\n",
       "      <td>UHD 6K</td>\n",
       "      <td>LCD/LED</td>\n",
       "      <td>60</td>\n",
       "      <td>5599999</td>\n",
       "      <td>https://articulo.mercadolibre.com.ar/MLA-11874...</td>\n",
       "    </tr>\n",
       "    <tr>\n",
       "      <th>1673</th>\n",
       "      <td>Apple</td>\n",
       "      <td>XDR NANO</td>\n",
       "      <td>27.0</td>\n",
       "      <td>UHD 5K</td>\n",
       "      <td>LCD/LED</td>\n",
       "      <td>60</td>\n",
       "      <td>4999999</td>\n",
       "      <td>https://articulo.mercadolibre.com.ar/MLA-11000...</td>\n",
       "    </tr>\n",
       "  </tbody>\n",
       "</table>\n",
       "</div>"
      ],
      "text/plain": [
       "      Marca        Modelo  Tamaño de la pantalla Tipo de resolución  \\\n",
       "1611  Apple      XDR NANO                   32.0             UHD 6K   \n",
       "1672  Apple  XDR STANDARD                   32.0             UHD 6K   \n",
       "1673  Apple      XDR NANO                   27.0             UHD 5K   \n",
       "\n",
       "     Tipo de pantalla  Frecuencia de actualización   Precio  \\\n",
       "1611          LCD/LED                           60  5999999   \n",
       "1672          LCD/LED                           60  5599999   \n",
       "1673          LCD/LED                           60  4999999   \n",
       "\n",
       "                                                   Link  \n",
       "1611  https://articulo.mercadolibre.com.ar/MLA-11874...  \n",
       "1672  https://articulo.mercadolibre.com.ar/MLA-11874...  \n",
       "1673  https://articulo.mercadolibre.com.ar/MLA-11000...  "
      ]
     },
     "execution_count": 12,
     "metadata": {},
     "output_type": "execute_result"
    }
   ],
   "source": [
    "df.sort_values(by='Precio', ascending = False).head(3)"
   ]
  },
  {
   "cell_type": "markdown",
   "id": "bd8c1160",
   "metadata": {},
   "source": [
    "## ¿Cuáles son las mejores opciones con un presupuesto de ARS 100.000?"
   ]
  },
  {
   "cell_type": "markdown",
   "id": "35cb4374",
   "metadata": {},
   "source": [
    "Se estableció un presupuesto de ARS 100.000 y se planteó encontrar el mejor monitor. Se determina que \"lo mejor\" es:\n",
    "\n",
    "<ul>\n",
    "    <li>\n",
    "        Mayor tamaño posible.\n",
    "    </li>    \n",
    "    <li>\n",
    "        Mayor frecuencia posible.\n",
    "    </li>\n",
    "    <li>\n",
    "        Mayor resolución posible.\n",
    "    </li>\n",
    "</ul>\n",
    "\n",
    "\n",
    "Primero, queremos saber cuántas opciones hay bajo este precio."
   ]
  },
  {
   "cell_type": "code",
   "execution_count": 13,
   "id": "c059e79e",
   "metadata": {},
   "outputs": [
    {
     "data": {
      "text/plain": [
       "454"
      ]
     },
     "execution_count": 13,
     "metadata": {},
     "output_type": "execute_result"
    }
   ],
   "source": [
    "len(df[(df['Precio']<=100000)])"
   ]
  },
  {
   "cell_type": "markdown",
   "id": "f3f80cbb",
   "metadata": {},
   "source": [
    "Se disponen de 454 monitores menores o iguales a ARS 100.000.\n",
    "\n",
    "Ahora queremos averiguar cuales son las resoluciones disponibles en esta selección:"
   ]
  },
  {
   "cell_type": "code",
   "execution_count": 14,
   "id": "a8f5b4a4",
   "metadata": {
    "scrolled": true
   },
   "outputs": [
    {
     "data": {
      "text/plain": [
       "array(['FHD', 'WXGA', 'HD', 'HD+'], dtype=object)"
      ]
     },
     "execution_count": 14,
     "metadata": {},
     "output_type": "execute_result"
    }
   ],
   "source": [
    "df[(df['Precio']<=100000)]['Tipo de resolución'].unique()"
   ]
  },
  {
   "cell_type": "markdown",
   "id": "dd931ad9",
   "metadata": {},
   "source": [
    "Se disponen de cuatro resoluciones: FHD, WXGA, HD y HD+\n",
    "\n",
    "Tomamos FHD por ser la mayor resolución.\n",
    "\n",
    "Lo siguiente es observar los tamaños de pantalla disponibles aplicando el filtro de resolución a la consulta:"
   ]
  },
  {
   "cell_type": "code",
   "execution_count": 15,
   "id": "66ae8d77",
   "metadata": {},
   "outputs": [
    {
     "data": {
      "text/plain": [
       "array([24.  , 22.  , 23.8 , 21.5 , 18.5 , 27.  , 21.45, 23.6 , 20.  ,\n",
       "       19.5 ])"
      ]
     },
     "execution_count": 15,
     "metadata": {},
     "output_type": "execute_result"
    }
   ],
   "source": [
    "df[(df['Precio']<=100000) &\n",
    "   (df['Tipo de resolución']=='FHD')]['Tamaño de la pantalla'].unique()"
   ]
  },
  {
   "cell_type": "markdown",
   "id": "f99781c0",
   "metadata": {},
   "source": [
    "Se disponen de varios tamaños en pulgadas: 24, 22, 23.8, 21.5, 18.5, 27, 21.45, 23.6, 20, y 19.5\n",
    "\n",
    "El tamaño más grande para el presupuesto es de 27 \"\n",
    "\n",
    "Ahora buscaremos la frecuencia más alta posible. Debemos saber cuáles son las frecuencias únicas en esta consulta, aplicando el filtro de tamaño:"
   ]
  },
  {
   "cell_type": "code",
   "execution_count": 16,
   "id": "4dabec80",
   "metadata": {
    "scrolled": true
   },
   "outputs": [
    {
     "data": {
      "text/plain": [
       "array([75, 60], dtype=int64)"
      ]
     },
     "execution_count": 16,
     "metadata": {},
     "output_type": "execute_result"
    }
   ],
   "source": [
    "df[(df['Precio']<=100000) & \n",
    "   (df['Tipo de resolución']=='FHD') &\n",
    "   (df['Tamaño de la pantalla']==27)]['Frecuencia de actualización'].unique()"
   ]
  },
  {
   "cell_type": "markdown",
   "id": "a5ad5093",
   "metadata": {},
   "source": [
    "Tenemos dos frecuencias: 60 Hz y 75 Hz. Tomaremos la de 75 Hz por ser la más alta.\n",
    "\n",
    "Finalmente, aplicamos la frecuencia a la búsqueda y obtenemos lo siguiente:"
   ]
  },
  {
   "cell_type": "code",
   "execution_count": 17,
   "id": "16533a02",
   "metadata": {},
   "outputs": [
    {
     "data": {
      "text/html": [
       "<div>\n",
       "<style scoped>\n",
       "    .dataframe tbody tr th:only-of-type {\n",
       "        vertical-align: middle;\n",
       "    }\n",
       "\n",
       "    .dataframe tbody tr th {\n",
       "        vertical-align: top;\n",
       "    }\n",
       "\n",
       "    .dataframe thead th {\n",
       "        text-align: right;\n",
       "    }\n",
       "</style>\n",
       "<table border=\"1\" class=\"dataframe\">\n",
       "  <thead>\n",
       "    <tr style=\"text-align: right;\">\n",
       "      <th></th>\n",
       "      <th>Marca</th>\n",
       "      <th>Modelo</th>\n",
       "      <th>Tamaño de la pantalla</th>\n",
       "      <th>Tipo de resolución</th>\n",
       "      <th>Tipo de pantalla</th>\n",
       "      <th>Frecuencia de actualización</th>\n",
       "      <th>Precio</th>\n",
       "      <th>Link</th>\n",
       "    </tr>\n",
       "  </thead>\n",
       "  <tbody>\n",
       "    <tr>\n",
       "      <th>13</th>\n",
       "      <td>Philips</td>\n",
       "      <td>272V8LA/55</td>\n",
       "      <td>27.0</td>\n",
       "      <td>FHD</td>\n",
       "      <td>LCD/LED</td>\n",
       "      <td>75</td>\n",
       "      <td>99999</td>\n",
       "      <td>https://www.mercadolibre.com.ar/monitor-philip...</td>\n",
       "    </tr>\n",
       "    <tr>\n",
       "      <th>1112</th>\n",
       "      <td>Philips</td>\n",
       "      <td>272V8LA/55</td>\n",
       "      <td>27.0</td>\n",
       "      <td>FHD</td>\n",
       "      <td>LCD/LED</td>\n",
       "      <td>75</td>\n",
       "      <td>99933</td>\n",
       "      <td>https://articulo.mercadolibre.com.ar/MLA-11045...</td>\n",
       "    </tr>\n",
       "  </tbody>\n",
       "</table>\n",
       "</div>"
      ],
      "text/plain": [
       "        Marca      Modelo  Tamaño de la pantalla Tipo de resolución  \\\n",
       "13    Philips  272V8LA/55                   27.0                FHD   \n",
       "1112  Philips  272V8LA/55                   27.0                FHD   \n",
       "\n",
       "     Tipo de pantalla  Frecuencia de actualización  Precio  \\\n",
       "13            LCD/LED                           75   99999   \n",
       "1112          LCD/LED                           75   99933   \n",
       "\n",
       "                                                   Link  \n",
       "13    https://www.mercadolibre.com.ar/monitor-philip...  \n",
       "1112  https://articulo.mercadolibre.com.ar/MLA-11045...  "
      ]
     },
     "execution_count": 17,
     "metadata": {},
     "output_type": "execute_result"
    }
   ],
   "source": [
    "df[(df['Precio']<=100000) & \n",
    "   (df['Tipo de resolución']=='FHD') &\n",
    "   (df['Frecuencia de actualización']==75) &\n",
    "   (df['Tamaño de la pantalla']==27)]"
   ]
  },
  {
   "cell_type": "markdown",
   "id": "a8b8dccb",
   "metadata": {},
   "source": [
    "Ambos monitores Philips son idénticos salvo en la pequeña diferencia en el precio de ARS 66. \n",
    "\n",
    "Termina la búsqueda del mejor monitor con un presupuesto de ARS 100.000 concluyendo que cualquiera de estas dos opciones es óptima."
   ]
  },
  {
   "cell_type": "markdown",
   "id": "2d68439f",
   "metadata": {},
   "source": [
    "# Aspectos Técnicos"
   ]
  },
  {
   "cell_type": "markdown",
   "id": "c5d12acb",
   "metadata": {},
   "source": [
    "## Resolución de pantalla más común: FHD (Full High Definition)"
   ]
  },
  {
   "cell_type": "markdown",
   "id": "f4a25409",
   "metadata": {},
   "source": [
    "<p>La resolución de pantalla más común por diferencia es la resolución FHD o Full High Definition.</p>"
   ]
  },
  {
   "cell_type": "code",
   "execution_count": 18,
   "id": "513ce87a",
   "metadata": {},
   "outputs": [
    {
     "data": {
      "text/plain": [
       "<AxesSubplot:>"
      ]
     },
     "execution_count": 18,
     "metadata": {},
     "output_type": "execute_result"
    },
    {
     "data": {
      "image/png": "[encoded data removed]",
      "text/plain": [
       "<Figure size 720x360 with 1 Axes>"
      ]
     },
     "metadata": {
      "needs_background": "light"
     },
     "output_type": "display_data"
    }
   ],
   "source": [
    "df['Tipo de resolución'].value_counts().plot.bar(figsize=(10,5),edgecolor='black')"
   ]
  },
  {
   "cell_type": "markdown",
   "id": "9bf373ef",
   "metadata": {},
   "source": [
    "## Tamaño de pantalla más común: 27 \""
   ]
  },
  {
   "cell_type": "markdown",
   "id": "682c669b",
   "metadata": {},
   "source": [
    "El tamaño más común de pantalla en este dataset es de 27 \" con un poco más de 250 apariciones. En un cercano segundo lugar, el tamaño de 24 \" está en aproximadamente 225 monitores."
   ]
  },
  {
   "cell_type": "code",
   "execution_count": 19,
   "id": "7c2a9079",
   "metadata": {
    "scrolled": false
   },
   "outputs": [
    {
     "data": {
      "text/plain": [
       "<AxesSubplot:>"
      ]
     },
     "execution_count": 19,
     "metadata": {},
     "output_type": "execute_result"
    },
    {
     "data": {
      "image/png": "[encoded data removed]",
      "text/plain": [
       "<Figure size 864x360 with 1 Axes>"
      ]
     },
     "metadata": {
      "needs_background": "light"
     },
     "output_type": "display_data"
    }
   ],
   "source": [
    "df['Tamaño de la pantalla'].value_counts().plot.bar(figsize=(12,5),edgecolor='black')"
   ]
  },
  {
   "cell_type": "markdown",
   "id": "4cc15571",
   "metadata": {},
   "source": [
    "## Monitor más grande disponible: 49 \""
   ]
  },
  {
   "cell_type": "markdown",
   "id": "e3ae4e79",
   "metadata": {},
   "source": [
    "Estas ocho publicaciones contienen los tres monitores con el mayor tamaño disponible. Tanto el modelo '49WL95C' de LG <a href='https://www.lg.com/ar/monitores/lg-49WL95C-W'>[1]</a> como los modelos 'C49J890DKL' <a href='https://www.samsung.com/co/support/model/LC49J890DKLXZL/'>[2]</a> y 'LC49G95TS' <a href='https://www.samsung.com/ar/support/model/LC49J890DKLXZB/'>[3]</a> de Samsung son monitores curvos.\n",
    "<br>\n",
    "\n",
    "Sus precios rondan entre ARS 820.000 y ARS 2.250.000"
   ]
  },
  {
   "cell_type": "code",
   "execution_count": 20,
   "id": "d9efd032",
   "metadata": {},
   "outputs": [
    {
     "data": {
      "text/html": [
       "<div>\n",
       "<style scoped>\n",
       "    .dataframe tbody tr th:only-of-type {\n",
       "        vertical-align: middle;\n",
       "    }\n",
       "\n",
       "    .dataframe tbody tr th {\n",
       "        vertical-align: top;\n",
       "    }\n",
       "\n",
       "    .dataframe thead th {\n",
       "        text-align: right;\n",
       "    }\n",
       "</style>\n",
       "<table border=\"1\" class=\"dataframe\">\n",
       "  <thead>\n",
       "    <tr style=\"text-align: right;\">\n",
       "      <th></th>\n",
       "      <th>Marca</th>\n",
       "      <th>Modelo</th>\n",
       "      <th>Tamaño de la pantalla</th>\n",
       "      <th>Tipo de resolución</th>\n",
       "      <th>Tipo de pantalla</th>\n",
       "      <th>Frecuencia de actualización</th>\n",
       "      <th>Precio</th>\n",
       "      <th>Link</th>\n",
       "    </tr>\n",
       "  </thead>\n",
       "  <tbody>\n",
       "    <tr>\n",
       "      <th>99</th>\n",
       "      <td>LG</td>\n",
       "      <td>49WL95C</td>\n",
       "      <td>49.0</td>\n",
       "      <td>QHD</td>\n",
       "      <td>LCD/LED</td>\n",
       "      <td>60</td>\n",
       "      <td>967999</td>\n",
       "      <td>https://www.mercadolibre.com.ar/monitor-gamer-...</td>\n",
       "    </tr>\n",
       "    <tr>\n",
       "      <th>201</th>\n",
       "      <td>Samsung</td>\n",
       "      <td>C49J890DKL</td>\n",
       "      <td>49.0</td>\n",
       "      <td>FHD</td>\n",
       "      <td>LCD/LED</td>\n",
       "      <td>144</td>\n",
       "      <td>823146</td>\n",
       "      <td>https://www.mercadolibre.com.ar/monitor-gamer-...</td>\n",
       "    </tr>\n",
       "    <tr>\n",
       "      <th>764</th>\n",
       "      <td>LG</td>\n",
       "      <td>49WL95C</td>\n",
       "      <td>49.0</td>\n",
       "      <td>QHD</td>\n",
       "      <td>LCD/LED</td>\n",
       "      <td>60</td>\n",
       "      <td>2249999</td>\n",
       "      <td>https://articulo.mercadolibre.com.ar/MLA-81667...</td>\n",
       "    </tr>\n",
       "    <tr>\n",
       "      <th>1128</th>\n",
       "      <td>LG</td>\n",
       "      <td>49WL95C</td>\n",
       "      <td>49.0</td>\n",
       "      <td>QHD</td>\n",
       "      <td>LCD/LED</td>\n",
       "      <td>60</td>\n",
       "      <td>1096345</td>\n",
       "      <td>https://articulo.mercadolibre.com.ar/MLA-90791...</td>\n",
       "    </tr>\n",
       "    <tr>\n",
       "      <th>1314</th>\n",
       "      <td>LG</td>\n",
       "      <td>49WL95C</td>\n",
       "      <td>49.0</td>\n",
       "      <td>QHD</td>\n",
       "      <td>LCD/LED</td>\n",
       "      <td>60</td>\n",
       "      <td>1549999</td>\n",
       "      <td>https://articulo.mercadolibre.com.ar/MLA-11062...</td>\n",
       "    </tr>\n",
       "    <tr>\n",
       "      <th>1444</th>\n",
       "      <td>Samsung</td>\n",
       "      <td>LC49G95TS</td>\n",
       "      <td>49.0</td>\n",
       "      <td>DQHD</td>\n",
       "      <td>QLED</td>\n",
       "      <td>240</td>\n",
       "      <td>999999</td>\n",
       "      <td>https://articulo.mercadolibre.com.ar/MLA-12743...</td>\n",
       "    </tr>\n",
       "    <tr>\n",
       "      <th>1605</th>\n",
       "      <td>LG</td>\n",
       "      <td>49WL95C</td>\n",
       "      <td>49.0</td>\n",
       "      <td>QHD</td>\n",
       "      <td>LCD/LED</td>\n",
       "      <td>60</td>\n",
       "      <td>1137983</td>\n",
       "      <td>https://articulo.mercadolibre.com.ar/MLA-12692...</td>\n",
       "    </tr>\n",
       "    <tr>\n",
       "      <th>1737</th>\n",
       "      <td>LG</td>\n",
       "      <td>49WL95C</td>\n",
       "      <td>49.0</td>\n",
       "      <td>QHD</td>\n",
       "      <td>LCD/LED</td>\n",
       "      <td>60</td>\n",
       "      <td>1516199</td>\n",
       "      <td>https://articulo.mercadolibre.com.ar/MLA-11311...</td>\n",
       "    </tr>\n",
       "  </tbody>\n",
       "</table>\n",
       "</div>"
      ],
      "text/plain": [
       "        Marca      Modelo  Tamaño de la pantalla Tipo de resolución  \\\n",
       "99         LG     49WL95C                   49.0                QHD   \n",
       "201   Samsung  C49J890DKL                   49.0                FHD   \n",
       "764        LG     49WL95C                   49.0                QHD   \n",
       "1128       LG     49WL95C                   49.0                QHD   \n",
       "1314       LG     49WL95C                   49.0                QHD   \n",
       "1444  Samsung   LC49G95TS                   49.0               DQHD   \n",
       "1605       LG     49WL95C                   49.0                QHD   \n",
       "1737       LG     49WL95C                   49.0                QHD   \n",
       "\n",
       "     Tipo de pantalla  Frecuencia de actualización   Precio  \\\n",
       "99            LCD/LED                           60   967999   \n",
       "201           LCD/LED                          144   823146   \n",
       "764           LCD/LED                           60  2249999   \n",
       "1128          LCD/LED                           60  1096345   \n",
       "1314          LCD/LED                           60  1549999   \n",
       "1444             QLED                          240   999999   \n",
       "1605          LCD/LED                           60  1137983   \n",
       "1737          LCD/LED                           60  1516199   \n",
       "\n",
       "                                                   Link  \n",
       "99    https://www.mercadolibre.com.ar/monitor-gamer-...  \n",
       "201   https://www.mercadolibre.com.ar/monitor-gamer-...  \n",
       "764   https://articulo.mercadolibre.com.ar/MLA-81667...  \n",
       "1128  https://articulo.mercadolibre.com.ar/MLA-90791...  \n",
       "1314  https://articulo.mercadolibre.com.ar/MLA-11062...  \n",
       "1444  https://articulo.mercadolibre.com.ar/MLA-12743...  \n",
       "1605  https://articulo.mercadolibre.com.ar/MLA-12692...  \n",
       "1737  https://articulo.mercadolibre.com.ar/MLA-11311...  "
      ]
     },
     "execution_count": 20,
     "metadata": {},
     "output_type": "execute_result"
    }
   ],
   "source": [
    "df[(df['Tamaño de la pantalla']==df['Tamaño de la pantalla'].max())]"
   ]
  },
  {
   "cell_type": "markdown",
   "id": "cf4ea449",
   "metadata": {},
   "source": [
    "## Tipo de pantalla más común: LCD/LED"
   ]
  },
  {
   "cell_type": "markdown",
   "id": "4e601e40",
   "metadata": {},
   "source": [
    "El tipo de pantalla más común es LCD/LED, cubriendo casi la totalidad del dataset.\n",
    "\n",
    "Téngase presente que algunos vendedores publican sus monitores como LED puro cuando es LCD con retroiluminación LED. Debido a la falta de datos para saber de qué tecnología estamos hablando, se agrupó ambos tipos en una sola categoría. Véase <a href='https://github.com/cris-andrade-97/MeLiWebScraping/blob/main/Limpieza%20del%20CSV/Limpieza%20del%20CSV.ipynb'>'Limpieza del CSV'</a>, apartado \"Limpiando el campo 'Tipo de pantalla'\" para más información."
   ]
  },
  {
   "cell_type": "code",
   "execution_count": 21,
   "id": "67cc05fe",
   "metadata": {},
   "outputs": [
    {
     "data": {
      "text/plain": [
       "<AxesSubplot:>"
      ]
     },
     "execution_count": 21,
     "metadata": {},
     "output_type": "execute_result"
    },
    {
     "data": {
      "image/png": "[encoded data removed]",
      "text/plain": [
       "<Figure size 360x360 with 1 Axes>"
      ]
     },
     "metadata": {
      "needs_background": "light"
     },
     "output_type": "display_data"
    }
   ],
   "source": [
    "df['Tipo de pantalla'].value_counts().plot.bar(figsize=(5,5),edgecolor='black')"
   ]
  },
  {
   "cell_type": "markdown",
   "id": "a85a7289",
   "metadata": {},
   "source": [
    "## Rango de frecuencias de actualización"
   ]
  },
  {
   "cell_type": "markdown",
   "id": "df4628b7",
   "metadata": {},
   "source": [
    "La menor tasa de refresco encontrada en la lista es de 56 Hz, y la más alta de 360 Hz. Hay 11 frecuencias únicas."
   ]
  },
  {
   "cell_type": "code",
   "execution_count": 22,
   "id": "57dc63bb",
   "metadata": {},
   "outputs": [
    {
     "name": "stdout",
     "output_type": "stream",
     "text": [
      "Min: 56\n",
      "Max: 360\n",
      "Cantidad de datos únicos: 11\n"
     ]
    }
   ],
   "source": [
    "print(\"Min:\",df['Frecuencia de actualización'].min())\n",
    "print(\"Max:\",df['Frecuencia de actualización'].max())\n",
    "print(\"Cantidad de datos únicos:\",len(df['Frecuencia de actualización'].unique()))"
   ]
  },
  {
   "cell_type": "markdown",
   "id": "2406750c",
   "metadata": {},
   "source": [
    "## Monitor o monitores con la mayor frecuencia de actualización:"
   ]
  },
  {
   "cell_type": "markdown",
   "id": "cc29197e",
   "metadata": {},
   "source": [
    "<p>La mayor frecuencia de actualización disponible es 360 Hz y es compartido entre tres publicaciones; dos son el mismo monitor ViewSonic con distinto precio y el otro es marca ASUS. En resumen, sólo dos monitores tienen la mayor frecuencia.</p>"
   ]
  },
  {
   "cell_type": "code",
   "execution_count": 23,
   "id": "00b50190",
   "metadata": {
    "scrolled": false
   },
   "outputs": [
    {
     "data": {
      "text/html": [
       "<div>\n",
       "<style scoped>\n",
       "    .dataframe tbody tr th:only-of-type {\n",
       "        vertical-align: middle;\n",
       "    }\n",
       "\n",
       "    .dataframe tbody tr th {\n",
       "        vertical-align: top;\n",
       "    }\n",
       "\n",
       "    .dataframe thead th {\n",
       "        text-align: right;\n",
       "    }\n",
       "</style>\n",
       "<table border=\"1\" class=\"dataframe\">\n",
       "  <thead>\n",
       "    <tr style=\"text-align: right;\">\n",
       "      <th></th>\n",
       "      <th>Marca</th>\n",
       "      <th>Modelo</th>\n",
       "      <th>Tamaño de la pantalla</th>\n",
       "      <th>Tipo de resolución</th>\n",
       "      <th>Tipo de pantalla</th>\n",
       "      <th>Frecuencia de actualización</th>\n",
       "      <th>Precio</th>\n",
       "      <th>Link</th>\n",
       "    </tr>\n",
       "  </thead>\n",
       "  <tbody>\n",
       "    <tr>\n",
       "      <th>94</th>\n",
       "      <td>Asus</td>\n",
       "      <td>PG259QNR</td>\n",
       "      <td>24.5</td>\n",
       "      <td>FHD</td>\n",
       "      <td>LCD/LED</td>\n",
       "      <td>360</td>\n",
       "      <td>479000</td>\n",
       "      <td>https://www.mercadolibre.com.ar/monitor-gamer-...</td>\n",
       "    </tr>\n",
       "    <tr>\n",
       "      <th>534</th>\n",
       "      <td>ViewSonic</td>\n",
       "      <td>XG251G</td>\n",
       "      <td>24.5</td>\n",
       "      <td>FHD</td>\n",
       "      <td>LCD/LED</td>\n",
       "      <td>360</td>\n",
       "      <td>461219</td>\n",
       "      <td>https://articulo.mercadolibre.com.ar/MLA-12043...</td>\n",
       "    </tr>\n",
       "    <tr>\n",
       "      <th>844</th>\n",
       "      <td>ViewSonic</td>\n",
       "      <td>XG251G</td>\n",
       "      <td>24.5</td>\n",
       "      <td>FHD</td>\n",
       "      <td>LCD/LED</td>\n",
       "      <td>360</td>\n",
       "      <td>622639</td>\n",
       "      <td>https://articulo.mercadolibre.com.ar/MLA-12036...</td>\n",
       "    </tr>\n",
       "  </tbody>\n",
       "</table>\n",
       "</div>"
      ],
      "text/plain": [
       "         Marca    Modelo  Tamaño de la pantalla Tipo de resolución  \\\n",
       "94        Asus  PG259QNR                   24.5                FHD   \n",
       "534  ViewSonic    XG251G                   24.5                FHD   \n",
       "844  ViewSonic    XG251G                   24.5                FHD   \n",
       "\n",
       "    Tipo de pantalla  Frecuencia de actualización  Precio  \\\n",
       "94           LCD/LED                          360  479000   \n",
       "534          LCD/LED                          360  461219   \n",
       "844          LCD/LED                          360  622639   \n",
       "\n",
       "                                                  Link  \n",
       "94   https://www.mercadolibre.com.ar/monitor-gamer-...  \n",
       "534  https://articulo.mercadolibre.com.ar/MLA-12043...  \n",
       "844  https://articulo.mercadolibre.com.ar/MLA-12036...  "
      ]
     },
     "execution_count": 23,
     "metadata": {},
     "output_type": "execute_result"
    }
   ],
   "source": [
    "df[(df['Frecuencia de actualización']==df['Frecuencia de actualización'].max())]"
   ]
  },
  {
   "cell_type": "markdown",
   "id": "be78086b",
   "metadata": {},
   "source": [
    "# Variedad de características según marca"
   ]
  },
  {
   "cell_type": "markdown",
   "id": "b34bf592",
   "metadata": {},
   "source": [
    "En este apartado, se busca determinar qué marca tiene más variedad según el campo especificado."
   ]
  },
  {
   "cell_type": "markdown",
   "id": "38ed3111",
   "metadata": {},
   "source": [
    "## Definimos la función"
   ]
  },
  {
   "cell_type": "markdown",
   "id": "a3ed73ef",
   "metadata": {},
   "source": [
    "De cada marca, busca cuántos datos únicos tiene el campo que le pasemos por parámetro. La marca con la mayor cantidad (variedad) es la que se almacena. Si hay otra que la supere, se sobreescribe al igual que la cantidad."
   ]
  },
  {
   "cell_type": "code",
   "execution_count": 24,
   "id": "c4e4654c",
   "metadata": {},
   "outputs": [],
   "source": [
    "def marcaConMayorVariedad(campo):\n",
    "    marca = ''\n",
    "    mayorCantidad = 0    \n",
    "    for x in df['Marca'].unique():\n",
    "        cantidadCamposUnicos = len(df[(df['Marca'] == x)][campo].unique())\n",
    "        if cantidadCamposUnicos > mayorCantidad:\n",
    "            mayorCantidad = cantidadCamposUnicos\n",
    "            marca = x\n",
    "    return list((marca,mayorCantidad))\n",
    "    "
   ]
  },
  {
   "cell_type": "markdown",
   "id": "51743bb6",
   "metadata": {},
   "source": [
    "## Marca con mayor variedad de modelos:"
   ]
  },
  {
   "cell_type": "markdown",
   "id": "73fa359d",
   "metadata": {},
   "source": [
    "<p>La marca con mayor variedad de modelos es Samsung con 60 modelos diferentes.</p>"
   ]
  },
  {
   "cell_type": "code",
   "execution_count": 25,
   "id": "0006bfe8",
   "metadata": {
    "scrolled": true
   },
   "outputs": [
    {
     "data": {
      "text/plain": [
       "['Samsung', 60]"
      ]
     },
     "execution_count": 25,
     "metadata": {},
     "output_type": "execute_result"
    }
   ],
   "source": [
    "marcaConMayorVariedad('Modelo')"
   ]
  },
  {
   "cell_type": "markdown",
   "id": "ad6625d2",
   "metadata": {},
   "source": [
    "## Marca con mayor variedad de tamaños:"
   ]
  },
  {
   "cell_type": "markdown",
   "id": "b608becf",
   "metadata": {},
   "source": [
    "<p>La marca con mayor variedad de tamaños es LG con 20 tamaños diferentes.</p>"
   ]
  },
  {
   "cell_type": "code",
   "execution_count": 26,
   "id": "a34254b9",
   "metadata": {
    "scrolled": true
   },
   "outputs": [
    {
     "data": {
      "text/plain": [
       "['LG', 20]"
      ]
     },
     "execution_count": 26,
     "metadata": {},
     "output_type": "execute_result"
    }
   ],
   "source": [
    "marcaConMayorVariedad('Tamaño de la pantalla')"
   ]
  },
  {
   "cell_type": "markdown",
   "id": "44513b96",
   "metadata": {},
   "source": [
    "## Marca con mayor variedad de resoluciones de pantalla:"
   ]
  },
  {
   "cell_type": "markdown",
   "id": "d144ddfe",
   "metadata": {},
   "source": [
    "<p>La marca con mayor variedad de resoluciones es LG con 7 resoluciones diferentes.</p>"
   ]
  },
  {
   "cell_type": "code",
   "execution_count": 27,
   "id": "6ab7e5cc",
   "metadata": {},
   "outputs": [
    {
     "data": {
      "text/plain": [
       "['LG', 7]"
      ]
     },
     "execution_count": 27,
     "metadata": {},
     "output_type": "execute_result"
    }
   ],
   "source": [
    "marcaConMayorVariedad('Tipo de resolución')"
   ]
  },
  {
   "cell_type": "markdown",
   "id": "34f0dcfe",
   "metadata": {},
   "source": [
    "## Marca con mayor variedad de tipos de pantalla:"
   ]
  },
  {
   "cell_type": "markdown",
   "id": "701f13f2",
   "metadata": {},
   "source": [
    "<p>La marca con mayor variedad de tipos de pantalla es Samsung con 4 tipos diferentes.</p>"
   ]
  },
  {
   "cell_type": "code",
   "execution_count": 28,
   "id": "1c833cc7",
   "metadata": {
    "scrolled": true
   },
   "outputs": [
    {
     "data": {
      "text/plain": [
       "['Samsung', 4]"
      ]
     },
     "execution_count": 28,
     "metadata": {},
     "output_type": "execute_result"
    }
   ],
   "source": [
    "marcaConMayorVariedad('Tipo de pantalla')"
   ]
  },
  {
   "cell_type": "markdown",
   "id": "4847c54d",
   "metadata": {},
   "source": [
    "## Marca con mayor variedad frecuencias"
   ]
  },
  {
   "cell_type": "markdown",
   "id": "1745fd92",
   "metadata": {},
   "source": [
    "<p>La marca con mayor variedad de tipos de pantalla es LG con 7 frecuencias diferentes.</p>"
   ]
  },
  {
   "cell_type": "code",
   "execution_count": 29,
   "id": "c973606a",
   "metadata": {
    "scrolled": false
   },
   "outputs": [
    {
     "data": {
      "text/plain": [
       "['LG', 7]"
      ]
     },
     "execution_count": 29,
     "metadata": {},
     "output_type": "execute_result"
    }
   ],
   "source": [
    "marcaConMayorVariedad('Frecuencia de actualización')"
   ]
  },
  {
   "cell_type": "markdown",
   "id": "ba2e0609",
   "metadata": {},
   "source": [
    "# Análisis de Precios"
   ]
  },
  {
   "cell_type": "markdown",
   "id": "a0ee6d89",
   "metadata": {},
   "source": [
    "## Media de precios"
   ]
  },
  {
   "cell_type": "markdown",
   "id": "7ef3b549",
   "metadata": {},
   "source": [
    "El promedio de precios redondeado es ARS 209.958,95"
   ]
  },
  {
   "cell_type": "code",
   "execution_count": 30,
   "id": "db951d49",
   "metadata": {
    "scrolled": true
   },
   "outputs": [
    {
     "data": {
      "text/plain": [
       "209958.9489465154"
      ]
     },
     "execution_count": 30,
     "metadata": {},
     "output_type": "execute_result"
    }
   ],
   "source": [
    "df['Precio'].mean()"
   ]
  },
  {
   "cell_type": "markdown",
   "id": "05c05dc7",
   "metadata": {},
   "source": [
    "## Mediana de precios"
   ]
  },
  {
   "cell_type": "markdown",
   "id": "baf8f79f",
   "metadata": {},
   "source": [
    "La mediana de precios es ARS 130.299,0"
   ]
  },
  {
   "cell_type": "code",
   "execution_count": 31,
   "id": "c80e2fa6",
   "metadata": {},
   "outputs": [
    {
     "data": {
      "text/plain": [
       "130299.0"
      ]
     },
     "execution_count": 31,
     "metadata": {},
     "output_type": "execute_result"
    }
   ],
   "source": [
    "df['Precio'].median()"
   ]
  },
  {
   "cell_type": "markdown",
   "id": "6588c9bc",
   "metadata": {},
   "source": [
    "## Distribución de precios general"
   ]
  },
  {
   "cell_type": "markdown",
   "id": "e6c1a820",
   "metadata": {},
   "source": [
    "### Caja y bigotes"
   ]
  },
  {
   "cell_type": "markdown",
   "id": "af1b8cca",
   "metadata": {},
   "source": [
    "Para una mejor visualización de la caja, el límite del eje 'y' llega hasta ARS 500.000 pero, en verdad, el gráfico continúa con valores atípicos hasta el ARS 5.999.999"
   ]
  },
  {
   "cell_type": "code",
   "execution_count": 32,
   "id": "a7671ac2",
   "metadata": {
    "scrolled": false
   },
   "outputs": [
    {
     "data": {
      "text/plain": [
       "<function matplotlib.pyplot.show(close=None, block=None)>"
      ]
     },
     "execution_count": 32,
     "metadata": {},
     "output_type": "execute_result"
    },
    {
     "data": {
      "image/png": "[encoded data removed]",
      "text/plain": [
       "<Figure size 360x720 with 1 Axes>"
      ]
     },
     "metadata": {
      "needs_background": "light"
     },
     "output_type": "display_data"
    }
   ],
   "source": [
    "df['Precio'].plot.box(figsize=(5,10))\n",
    "plt.ylim(0,500000)\n",
    "plt.show"
   ]
  },
  {
   "cell_type": "markdown",
   "id": "68410019",
   "metadata": {},
   "source": [
    "#### Observaciones"
   ]
  },
  {
   "cell_type": "markdown",
   "id": "b87ef0bc",
   "metadata": {},
   "source": [
    "El bigote menor comienza en ARS 37.000 y el bigote mayor llega hasta aproximadamente ARS 460.000. \n",
    "<br>\n",
    "El rango es: ARS 460.000 - ARS 37.000 ≈  ARS 423.000\n",
    "\n",
    "Se observa que el 50% de los precios se encuentran entre aproximadamente ARS 80.000 (primer cuartil) y ARS 230.000 (tercer cuartil).\n",
    "<br>\n",
    "El rango intercuartílico es: Q3 - Q1 = ARS 230.000 - ARS 80.000 ≈ ARS 150.000\n",
    "\n",
    "Los valores atípicos arrancan a partir de los ARS 460.000 y se extienden hasta ARS 5.999.999\n",
    "\n",
    "Hay un empate técnico entre el primer y el segundo cuartil para ver cuál de los dos tiene menor dispersión de datos.\n",
    "\n",
    "A simple vista, el cuarto cuartil tiene la mayor dispersión de datos.\n",
    "\n",
    "Una mediana (raya verde) que tiende al valor del primer cuartil, en este caso ARS 80.000, indica que los datos están más concentrados de este lado y, por lo tanto, hay una distribución asimétrica."
   ]
  },
  {
   "cell_type": "markdown",
   "id": "b850fdb5",
   "metadata": {},
   "source": [
    "### Histograma"
   ]
  },
  {
   "cell_type": "code",
   "execution_count": 33,
   "id": "537fad53",
   "metadata": {
    "scrolled": false
   },
   "outputs": [
    {
     "data": {
      "text/plain": [
       "<AxesSubplot:ylabel='Frequency'>"
      ]
     },
     "execution_count": 33,
     "metadata": {},
     "output_type": "execute_result"
    },
    {
     "data": {
      "image/png": "[encoded data removed]",
      "text/plain": [
       "<Figure size 1440x720 with 1 Axes>"
      ]
     },
     "metadata": {
      "needs_background": "light"
     },
     "output_type": "display_data"
    }
   ],
   "source": [
    "df['Precio'].plot.hist(figsize=(20,10),bins = 120, edgecolor='black')"
   ]
  },
  {
   "cell_type": "markdown",
   "id": "e21a88e7",
   "metadata": {},
   "source": [
    "#### Observaciones"
   ]
  },
  {
   "cell_type": "markdown",
   "id": "237a2b2b",
   "metadata": {},
   "source": [
    "Cada barra del histograma representa ARS 50.000\n",
    "\n",
    "Similar al gráfico de cajas, la mayoría de los precios se concentran entre ARS 37.000 y ARS 250.000\n",
    "\n",
    "Debido a que la media de precios (ARS 209.958,95) es mayor a la mediana (ARS 130.299,00), la distribución de los datos es asimétrica con un sesgo positivo hacia la izquierda. Es decir, el 50% de los datos se ubican más a la izquierda de la gráfica."
   ]
  },
  {
   "cell_type": "markdown",
   "id": "3e9d946e",
   "metadata": {},
   "source": [
    "## Distribución de precios: Caso específico"
   ]
  },
  {
   "cell_type": "markdown",
   "id": "02ce94ea",
   "metadata": {},
   "source": [
    "En el apartado 'Modelo de monitor con más presencia: Variación de precios' del presente documento, se apreció una gran variación entre el precio mínimo y el precio máximo del modelo de monitor 'F24T35', encontrándose entre ARS 65.000 y ARS 271.667.\n",
    "\n",
    "Calculemos la media y la mediana de precios para este modelo:"
   ]
  },
  {
   "cell_type": "code",
   "execution_count": 34,
   "id": "7218d85d",
   "metadata": {},
   "outputs": [
    {
     "name": "stdout",
     "output_type": "stream",
     "text": [
      "Media: 113758.77777777778\n",
      "Mediana: 109239.0\n"
     ]
    }
   ],
   "source": [
    "print('Media:',df[(df['Modelo'] == 'F24T35')]['Precio'].mean())\n",
    "print('Mediana:',df[(df['Modelo'] == 'F24T35')]['Precio'].median())"
   ]
  },
  {
   "cell_type": "markdown",
   "id": "76b46f57",
   "metadata": {},
   "source": [
    "Ahora veremos un gráfico de caja para exponer qué tanto varía su precio y qué precios son más probables de encontrar en él."
   ]
  },
  {
   "cell_type": "code",
   "execution_count": 35,
   "id": "d61cd310",
   "metadata": {
    "scrolled": false
   },
   "outputs": [
    {
     "data": {
      "text/plain": [
       "<AxesSubplot:>"
      ]
     },
     "execution_count": 35,
     "metadata": {},
     "output_type": "execute_result"
    },
    {
     "data": {
      "image/png": "[encoded data removed]",
      "text/plain": [
       "<Figure size 360x720 with 1 Axes>"
      ]
     },
     "metadata": {
      "needs_background": "light"
     },
     "output_type": "display_data"
    }
   ],
   "source": [
    "df[(df['Modelo'] == 'F24T35')]['Precio'].plot.box(figsize=(5,10))"
   ]
  },
  {
   "cell_type": "markdown",
   "id": "8b612e9d",
   "metadata": {},
   "source": [
    "El bigote menor empieza en ARS 65.000 y el bigote mayor termina en aproximadamente ARS 175.000. El rango es: ARS 175.000 - ARS 65.000 = ARS 110.000\n",
    "\n",
    "Los valores atípicos comienzan a partir de aproximadamente ARS 180.000 hasta el valor más alto de ARS 271.667.\n",
    "\n",
    "El 50% de los precios de este monitor se encuentran entre aproximadamente ARS 80.000 y ARS 125.000. El rango intercuartílico es: Q3 - Q1 = ARS 125.000 - ARS 80.000 = ARS 45.000\n",
    "\n",
    "La mediana de ARS 109.239 tiende al tercer cuartil, es decir, ARS 125.000. Los datos están más inclinados a la derecha de la mediana.\n",
    "\n",
    "Los datos están más concentrados entre la mediana y el tercer cuartil, por lo que es más probable encontrar el precio de este monitor aquí."
   ]
  },
  {
   "cell_type": "markdown",
   "id": "1fda05dc",
   "metadata": {},
   "source": [
    "## Relación entre precio y tamaño de pantalla"
   ]
  },
  {
   "cell_type": "markdown",
   "id": "c7ddde83",
   "metadata": {},
   "source": [
    "En el siguiente gráfico de dispersión, se usa una muestra aleatoria del dataset para probar si hay una relación fuerte, débil o ninguna relación entre el precio y el tamaño de la pantalla.\n",
    "\n",
    "El tamaño de la muestra representa el 30% de todos los registros. Pandas se encarga de que sean escogidos de manera aleatoria para evitar una selección premeditada."
   ]
  },
  {
   "cell_type": "code",
   "execution_count": 36,
   "id": "2fee574e",
   "metadata": {
    "scrolled": false
   },
   "outputs": [
    {
     "data": {
      "text/plain": [
       "<AxesSubplot:xlabel='Precio', ylabel='Tamaño de la pantalla'>"
      ]
     },
     "execution_count": 36,
     "metadata": {},
     "output_type": "execute_result"
    },
    {
     "data": {
      "image/png": "[encoded data removed]",
      "text/plain": [
       "<Figure size 1440x720 with 1 Axes>"
      ]
     },
     "metadata": {
      "needs_background": "light"
     },
     "output_type": "display_data"
    }
   ],
   "source": [
    "df.sample(frac=0.30)[['Precio','Tamaño de la pantalla']].plot.scatter(x=0,y=1,figsize=(20,10))"
   ]
  },
  {
   "cell_type": "markdown",
   "id": "c35f48ba",
   "metadata": {},
   "source": [
    "Se aprecia una inclinación de la nube conforme aumenta el precio y el tamaño. Dicho aumento es no lineal ya que aumenta de forma exponencial.\n",
    "\n",
    "La nube de datos se dispersa conforme sube el tamaño o cuando aumenta el precio para algunos tamaños, como 27 \" y 18.5 \".\n",
    "\n",
    "Se concluye que hay una relación moderada y no lineal entre el tamaño de la pantalla y el precio."
   ]
  },
  {
   "cell_type": "markdown",
   "id": "6f7c2d5c",
   "metadata": {},
   "source": [
    "# Conclusión"
   ]
  },
  {
   "cell_type": "markdown",
   "id": "fe71b1d2",
   "metadata": {},
   "source": [
    "MercadoLibre se asegura que haya variedad tanto de precios que abarquen todos los bolsillos como para quienes son más exigentes en los aspectos técnicos de los monitores sin importar lo económico.\n",
    "\n",
    "También se concluye que, por parte de MercadoLibre y los vendedores, no hay un estándar a la hora de declarar características técnicas. El llenado de los campos no está normalizado y eso dificulta la búsqueda y/o filtrado de ciertos monitores o ubica publicaciones en la sección equivocada. Véase <a href='https://github.com/cris-andrade-97/MeLiWebScraping/blob/main/Limpieza%20del%20CSV/Limpieza%20del%20CSV.ipynb'>'Limpieza del CSV'</a>, todos los apartados de limpieza.\n",
    "\n",
    "Por último, la enorme variación de precios para un solo modelo indica que es un mercado bastante libre y con pocas regulaciones de precios, por lo menos en el campo de los monitores."
   ]
  }
 ],
 "metadata": {
  "kernelspec": {
   "display_name": "Python 3 (ipykernel)",
   "language": "python",
   "name": "python3"
  },
  "language_info": {
   "codemirror_mode": {
    "name": "ipython",
    "version": 3
   },
   "file_extension": ".py",
   "mimetype": "text/x-python",
   "name": "python",
   "nbconvert_exporter": "python",
   "pygments_lexer": "ipython3",
   "version": "3.9.12"
  }
 },
 "nbformat": 4,
 "nbformat_minor": 5
}
