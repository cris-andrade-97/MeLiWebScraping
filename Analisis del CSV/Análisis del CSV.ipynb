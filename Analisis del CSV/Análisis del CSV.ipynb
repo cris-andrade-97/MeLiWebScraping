{
 "cells": [
  {
   "cell_type": "code",
   "execution_count": 1,
   "id": "3c3126b1",
   "metadata": {},
   "outputs": [],
   "source": [
    "import pandas as pd\n",
    "import matplotlib.pyplot as plt\n",
    "import seaborn as sns\n",
    "%matplotlib inline"
   ]
  },
  {
   "cell_type": "markdown",
   "id": "a48efb9d",
   "metadata": {},
   "source": [
    "## Importamos los registros limpios y los exhibimos"
   ]
  },
  {
   "cell_type": "code",
   "execution_count": 2,
   "id": "dfb49fa0",
   "metadata": {},
   "outputs": [
    {
     "data": {
      "text/html": [
       "<div>\n",
       "<style scoped>\n",
       "    .dataframe tbody tr th:only-of-type {\n",
       "        vertical-align: middle;\n",
       "    }\n",
       "\n",
       "    .dataframe tbody tr th {\n",
       "        vertical-align: top;\n",
       "    }\n",
       "\n",
       "    .dataframe thead th {\n",
       "        text-align: right;\n",
       "    }\n",
       "</style>\n",
       "<table border=\"1\" class=\"dataframe\">\n",
       "  <thead>\n",
       "    <tr style=\"text-align: right;\">\n",
       "      <th></th>\n",
       "      <th>Marca</th>\n",
       "      <th>Modelo</th>\n",
       "      <th>Tamaño de la pantalla</th>\n",
       "      <th>Tipo de resolución</th>\n",
       "      <th>Tipo de pantalla</th>\n",
       "      <th>Frecuencia de actualización</th>\n",
       "      <th>Precio</th>\n",
       "      <th>Link</th>\n",
       "    </tr>\n",
       "  </thead>\n",
       "  <tbody>\n",
       "    <tr>\n",
       "      <th>0</th>\n",
       "      <td>Philips</td>\n",
       "      <td>271E1SCA/55</td>\n",
       "      <td>27.0</td>\n",
       "      <td>FHD</td>\n",
       "      <td>LCD</td>\n",
       "      <td>75</td>\n",
       "      <td>185999</td>\n",
       "      <td>https://www.mercadolibre.com.ar/monitor-gamer-...</td>\n",
       "    </tr>\n",
       "    <tr>\n",
       "      <th>1</th>\n",
       "      <td>Samsung</td>\n",
       "      <td>F24T35</td>\n",
       "      <td>24.0</td>\n",
       "      <td>FHD</td>\n",
       "      <td>LED</td>\n",
       "      <td>75</td>\n",
       "      <td>86999</td>\n",
       "      <td>https://www.mercadolibre.com.ar/monitor-gamer-...</td>\n",
       "    </tr>\n",
       "    <tr>\n",
       "      <th>2</th>\n",
       "      <td>Samsung</td>\n",
       "      <td>F22T35</td>\n",
       "      <td>22.0</td>\n",
       "      <td>FHD</td>\n",
       "      <td>LED</td>\n",
       "      <td>75</td>\n",
       "      <td>75999</td>\n",
       "      <td>https://www.mercadolibre.com.ar/monitor-gamer-...</td>\n",
       "    </tr>\n",
       "    <tr>\n",
       "      <th>3</th>\n",
       "      <td>Noblex</td>\n",
       "      <td>MK24X7100</td>\n",
       "      <td>23.8</td>\n",
       "      <td>FHD</td>\n",
       "      <td>LED</td>\n",
       "      <td>75</td>\n",
       "      <td>66990</td>\n",
       "      <td>https://www.mercadolibre.com.ar/monitor-led-no...</td>\n",
       "    </tr>\n",
       "    <tr>\n",
       "      <th>4</th>\n",
       "      <td>Philips</td>\n",
       "      <td>221V8</td>\n",
       "      <td>21.5</td>\n",
       "      <td>FHD</td>\n",
       "      <td>LCD</td>\n",
       "      <td>75</td>\n",
       "      <td>51499</td>\n",
       "      <td>https://www.mercadolibre.com.ar/monitor-gamer-...</td>\n",
       "    </tr>\n",
       "  </tbody>\n",
       "</table>\n",
       "</div>"
      ],
      "text/plain": [
       "     Marca       Modelo  Tamaño de la pantalla Tipo de resolución  \\\n",
       "0  Philips  271E1SCA/55                   27.0                FHD   \n",
       "1  Samsung       F24T35                   24.0                FHD   \n",
       "2  Samsung       F22T35                   22.0                FHD   \n",
       "3   Noblex    MK24X7100                   23.8                FHD   \n",
       "4  Philips        221V8                   21.5                FHD   \n",
       "\n",
       "  Tipo de pantalla  Frecuencia de actualización  Precio  \\\n",
       "0              LCD                           75  185999   \n",
       "1              LED                           75   86999   \n",
       "2              LED                           75   75999   \n",
       "3              LED                           75   66990   \n",
       "4              LCD                           75   51499   \n",
       "\n",
       "                                                Link  \n",
       "0  https://www.mercadolibre.com.ar/monitor-gamer-...  \n",
       "1  https://www.mercadolibre.com.ar/monitor-gamer-...  \n",
       "2  https://www.mercadolibre.com.ar/monitor-gamer-...  \n",
       "3  https://www.mercadolibre.com.ar/monitor-led-no...  \n",
       "4  https://www.mercadolibre.com.ar/monitor-gamer-...  "
      ]
     },
     "execution_count": 2,
     "metadata": {},
     "output_type": "execute_result"
    }
   ],
   "source": [
    "df = pd.read_csv('Monitores Nuevos - Registros limpios - Mercado Libre Argentina - Agosto 2023.csv', index_col= 0)\n",
    "\n",
    "# Números exhibidos como flotantes con un decimal después de la coma\n",
    "pd.set_option('display.float_format', '{:.1f}'.format)\n",
    "\n",
    "df.head()"
   ]
  },
  {
   "cell_type": "markdown",
   "id": "edbdf33d",
   "metadata": {},
   "source": [
    "## Cantidad de registros: 1237"
   ]
  },
  {
   "cell_type": "code",
   "execution_count": 3,
   "id": "e0b4c4ef",
   "metadata": {},
   "outputs": [
    {
     "data": {
      "text/plain": [
       "1237"
      ]
     },
     "execution_count": 3,
     "metadata": {},
     "output_type": "execute_result"
    }
   ],
   "source": [
    "len(df)"
   ]
  },
  {
   "cell_type": "markdown",
   "id": "db9ef8dc",
   "metadata": {},
   "source": [
    "## Las cinco marcas con mayor presencia:"
   ]
  },
  {
   "cell_type": "markdown",
   "id": "10b923ab",
   "metadata": {},
   "source": [
    "1. LG: 324 publicaciones\n",
    "2. Samsung: 297 publicaciones\n",
    "3. Philips: 138 publicaciones\n",
    "4. ViewSonic: 73 publicaciones\n",
    "5. Asus: 68 publicaciones"
   ]
  },
  {
   "cell_type": "code",
   "execution_count": 4,
   "id": "4ab81099",
   "metadata": {
    "scrolled": true
   },
   "outputs": [
    {
     "data": {
      "text/plain": [
       "LG           324\n",
       "Samsung      297\n",
       "Philips      138\n",
       "ViewSonic     73\n",
       "Asus          68\n",
       "Name: Marca, dtype: int64"
      ]
     },
     "execution_count": 4,
     "metadata": {},
     "output_type": "execute_result"
    }
   ],
   "source": [
    "df['Marca'].value_counts()[range(5)]"
   ]
  },
  {
   "cell_type": "markdown",
   "id": "d9a467b7",
   "metadata": {},
   "source": [
    "## ¿Cuál de esas cinco marcas es la más barata en promedio?"
   ]
  },
  {
   "cell_type": "markdown",
   "id": "7c488a63",
   "metadata": {},
   "source": [
    "<p>De las cinco marcas con mayor presencia, Philips es la más barata en promedio con ARS 88.530,90</p>"
   ]
  },
  {
   "cell_type": "code",
   "execution_count": 5,
   "id": "8e4e386a",
   "metadata": {},
   "outputs": [
    {
     "data": {
      "text/html": [
       "<div>\n",
       "<style scoped>\n",
       "    .dataframe tbody tr th:only-of-type {\n",
       "        vertical-align: middle;\n",
       "    }\n",
       "\n",
       "    .dataframe tbody tr th {\n",
       "        vertical-align: top;\n",
       "    }\n",
       "\n",
       "    .dataframe thead th {\n",
       "        text-align: right;\n",
       "    }\n",
       "</style>\n",
       "<table border=\"1\" class=\"dataframe\">\n",
       "  <thead>\n",
       "    <tr style=\"text-align: right;\">\n",
       "      <th></th>\n",
       "      <th>Precio</th>\n",
       "    </tr>\n",
       "    <tr>\n",
       "      <th>Marca</th>\n",
       "      <th></th>\n",
       "    </tr>\n",
       "  </thead>\n",
       "  <tbody>\n",
       "    <tr>\n",
       "      <th>Philips</th>\n",
       "      <td>88530.9</td>\n",
       "    </tr>\n",
       "    <tr>\n",
       "      <th>Samsung</th>\n",
       "      <td>180495.3</td>\n",
       "    </tr>\n",
       "    <tr>\n",
       "      <th>ViewSonic</th>\n",
       "      <td>181476.7</td>\n",
       "    </tr>\n",
       "    <tr>\n",
       "      <th>Asus</th>\n",
       "      <td>222614.3</td>\n",
       "    </tr>\n",
       "    <tr>\n",
       "      <th>LG</th>\n",
       "      <td>258425.9</td>\n",
       "    </tr>\n",
       "  </tbody>\n",
       "</table>\n",
       "</div>"
      ],
      "text/plain": [
       "            Precio\n",
       "Marca             \n",
       "Philips    88530.9\n",
       "Samsung   180495.3\n",
       "ViewSonic 181476.7\n",
       "Asus      222614.3\n",
       "LG        258425.9"
      ]
     },
     "execution_count": 5,
     "metadata": {},
     "output_type": "execute_result"
    }
   ],
   "source": [
    "cincoMarcasConMayorPresencia = ['LG','Samsung','Philips','ViewSonic','Asus']\n",
    "df[df['Marca'].isin(cincoMarcasConMayorPresencia)][['Marca','Precio']].groupby('Marca').mean().sort_values(by='Precio')"
   ]
  },
  {
   "cell_type": "markdown",
   "id": "2b6ef4f7",
   "metadata": {},
   "source": [
    "## Rango de tamaños para monitores:"
   ]
  },
  {
   "cell_type": "markdown",
   "id": "5e79956c",
   "metadata": {},
   "source": [
    "<p>Tamaño más pequeño disponible: 18.5 \"</p>\n",
    "<p>Tamaño más grande disponible: 49 \"</p>\n",
    "<p>Cantidad de tamaños únicos: 28</p>"
   ]
  },
  {
   "cell_type": "code",
   "execution_count": 6,
   "id": "84be79b4",
   "metadata": {},
   "outputs": [
    {
     "name": "stdout",
     "output_type": "stream",
     "text": [
      "18.5 , 49.0\n",
      "28\n"
     ]
    }
   ],
   "source": [
    "print(df['Tamaño de la pantalla'].min(),\",\",df['Tamaño de la pantalla'].max())\n",
    "print(len(df['Tamaño de la pantalla'].unique()))"
   ]
  },
  {
   "cell_type": "markdown",
   "id": "24b6e0d8",
   "metadata": {},
   "source": [
    "## Rango de precios para monitores:"
   ]
  },
  {
   "cell_type": "markdown",
   "id": "cb43f116",
   "metadata": {},
   "source": [
    "<p>Precio más barato disponible: ARS 37.000</p>\n",
    "<p>Precio más caro disponible: ARS 5.999.999</p>\n",
    "<p>Cantidad de precios únicos: 1066</p>"
   ]
  },
  {
   "cell_type": "code",
   "execution_count": 7,
   "id": "54d58f77",
   "metadata": {},
   "outputs": [
    {
     "name": "stdout",
     "output_type": "stream",
     "text": [
      "37000 , 5999999\n",
      "1066\n"
     ]
    }
   ],
   "source": [
    "print(df['Precio'].min(),\",\",df['Precio'].max())\n",
    "print(len(df['Precio'].unique()))"
   ]
  },
  {
   "cell_type": "markdown",
   "id": "2406750c",
   "metadata": {},
   "source": [
    "## Monitor o monitores con la mayor frecuencia de actualización:"
   ]
  },
  {
   "cell_type": "markdown",
   "id": "cc29197e",
   "metadata": {},
   "source": [
    "<p>La mayor frecuencia de actualización disponible es 360 Hz y es compartido entre tres publicaciones; dos son el mismo monitor ViewSonic con distinto precio y el otro es marca ASUS. En resumen, sólo dos monitores tienen la mayor frecuencia.</p>"
   ]
  },
  {
   "cell_type": "code",
   "execution_count": 8,
   "id": "00b50190",
   "metadata": {},
   "outputs": [
    {
     "data": {
      "text/html": [
       "<div>\n",
       "<style scoped>\n",
       "    .dataframe tbody tr th:only-of-type {\n",
       "        vertical-align: middle;\n",
       "    }\n",
       "\n",
       "    .dataframe tbody tr th {\n",
       "        vertical-align: top;\n",
       "    }\n",
       "\n",
       "    .dataframe thead th {\n",
       "        text-align: right;\n",
       "    }\n",
       "</style>\n",
       "<table border=\"1\" class=\"dataframe\">\n",
       "  <thead>\n",
       "    <tr style=\"text-align: right;\">\n",
       "      <th></th>\n",
       "      <th>Marca</th>\n",
       "      <th>Modelo</th>\n",
       "      <th>Tamaño de la pantalla</th>\n",
       "      <th>Tipo de resolución</th>\n",
       "      <th>Tipo de pantalla</th>\n",
       "      <th>Frecuencia de actualización</th>\n",
       "      <th>Precio</th>\n",
       "      <th>Link</th>\n",
       "    </tr>\n",
       "  </thead>\n",
       "  <tbody>\n",
       "    <tr>\n",
       "      <th>94</th>\n",
       "      <td>Asus</td>\n",
       "      <td>PG259QNR</td>\n",
       "      <td>24.5</td>\n",
       "      <td>FHD</td>\n",
       "      <td>LED</td>\n",
       "      <td>360</td>\n",
       "      <td>479000</td>\n",
       "      <td>https://www.mercadolibre.com.ar/monitor-gamer-...</td>\n",
       "    </tr>\n",
       "    <tr>\n",
       "      <th>534</th>\n",
       "      <td>ViewSonic</td>\n",
       "      <td>XG251G</td>\n",
       "      <td>24.5</td>\n",
       "      <td>FHD</td>\n",
       "      <td>LED</td>\n",
       "      <td>360</td>\n",
       "      <td>461219</td>\n",
       "      <td>https://articulo.mercadolibre.com.ar/MLA-12043...</td>\n",
       "    </tr>\n",
       "    <tr>\n",
       "      <th>844</th>\n",
       "      <td>ViewSonic</td>\n",
       "      <td>XG251G</td>\n",
       "      <td>24.5</td>\n",
       "      <td>FHD</td>\n",
       "      <td>LED</td>\n",
       "      <td>360</td>\n",
       "      <td>622639</td>\n",
       "      <td>https://articulo.mercadolibre.com.ar/MLA-12036...</td>\n",
       "    </tr>\n",
       "  </tbody>\n",
       "</table>\n",
       "</div>"
      ],
      "text/plain": [
       "         Marca    Modelo  Tamaño de la pantalla Tipo de resolución  \\\n",
       "94        Asus  PG259QNR                   24.5                FHD   \n",
       "534  ViewSonic    XG251G                   24.5                FHD   \n",
       "844  ViewSonic    XG251G                   24.5                FHD   \n",
       "\n",
       "    Tipo de pantalla  Frecuencia de actualización  Precio  \\\n",
       "94               LED                          360  479000   \n",
       "534              LED                          360  461219   \n",
       "844              LED                          360  622639   \n",
       "\n",
       "                                                  Link  \n",
       "94   https://www.mercadolibre.com.ar/monitor-gamer-...  \n",
       "534  https://articulo.mercadolibre.com.ar/MLA-12043...  \n",
       "844  https://articulo.mercadolibre.com.ar/MLA-12036...  "
      ]
     },
     "execution_count": 8,
     "metadata": {},
     "output_type": "execute_result"
    }
   ],
   "source": [
    "df[(df['Frecuencia de actualización']==df['Frecuencia de actualización'].max())]"
   ]
  },
  {
   "cell_type": "markdown",
   "id": "c5d12acb",
   "metadata": {},
   "source": [
    "## Resolución de pantalla más común: FHD (Full High Definition)"
   ]
  },
  {
   "cell_type": "markdown",
   "id": "f4a25409",
   "metadata": {},
   "source": [
    "<p>Una alta resolución de pantalla, tanto para trabajar como para jugar videojuegos, se ha vuelto una exigencia. Y esto se ve reflejado en la cantidad de monitores Full HD.</p>"
   ]
  },
  {
   "cell_type": "code",
   "execution_count": 9,
   "id": "513ce87a",
   "metadata": {},
   "outputs": [
    {
     "data": {
      "text/plain": [
       "<AxesSubplot:>"
      ]
     },
     "execution_count": 9,
     "metadata": {},
     "output_type": "execute_result"
    },
    {
     "data": {
      "image/png": "[encoded data removed]",
      "text/plain": [
       "<Figure size 720x360 with 1 Axes>"
      ]
     },
     "metadata": {
      "needs_background": "light"
     },
     "output_type": "display_data"
    }
   ],
   "source": [
    "df['Tipo de resolución'].value_counts().plot.bar(figsize=(10,5),edgecolor='black')"
   ]
  },
  {
   "cell_type": "markdown",
   "id": "9bf373ef",
   "metadata": {},
   "source": [
    "## Tipo de pantalla más común: LED"
   ]
  },
  {
   "cell_type": "markdown",
   "id": "682c669b",
   "metadata": {},
   "source": [
    "<p>Como se esperaba, LED es el tipo de pantalla más común debido a que se buscó específicamente monitores con esa tecnología.</p>"
   ]
  },
  {
   "cell_type": "code",
   "execution_count": 10,
   "id": "7c2a9079",
   "metadata": {},
   "outputs": [
    {
     "data": {
      "text/plain": [
       "<AxesSubplot:>"
      ]
     },
     "execution_count": 10,
     "metadata": {},
     "output_type": "execute_result"
    },
    {
     "data": {
      "image/png": "[encoded data removed]",
      "text/plain": [
       "<Figure size 720x360 with 1 Axes>"
      ]
     },
     "metadata": {
      "needs_background": "light"
     },
     "output_type": "display_data"
    }
   ],
   "source": [
    "df['Tipo de pantalla'].value_counts().plot.bar(figsize=(10,5),edgecolor='black')"
   ]
  },
  {
   "cell_type": "markdown",
   "id": "32a9e3eb",
   "metadata": {},
   "source": [
    "## Frecuencia más común: 60 Hz"
   ]
  },
  {
   "cell_type": "markdown",
   "id": "857cd92d",
   "metadata": {},
   "source": [
    "<p>La frecuencia de 75 Hz tambíen es muy común y no se puede pasar por alto.</p>\n",
    "\n",
    "<p>Las frecuencias de 144 Hz en adelante son para el nicho de usuarios \"gamer\" y, por tanto, no hay tantos monitores a la venta como sucede con los de 60 Hz.</p>"
   ]
  },
  {
   "cell_type": "code",
   "execution_count": 11,
   "id": "569f1e0d",
   "metadata": {},
   "outputs": [
    {
     "data": {
      "text/plain": [
       "<AxesSubplot:>"
      ]
     },
     "execution_count": 11,
     "metadata": {},
     "output_type": "execute_result"
    },
    {
     "data": {
      "image/png": "[encoded data removed]",
      "text/plain": [
       "<Figure size 720x360 with 1 Axes>"
      ]
     },
     "metadata": {
      "needs_background": "light"
     },
     "output_type": "display_data"
    }
   ],
   "source": [
    "df['Frecuencia de actualización'].value_counts().plot.bar(figsize=(10,5),edgecolor='black')"
   ]
  },
  {
   "cell_type": "markdown",
   "id": "be78086b",
   "metadata": {},
   "source": [
    "## Variedad de características según marca"
   ]
  },
  {
   "cell_type": "markdown",
   "id": "38ed3111",
   "metadata": {},
   "source": [
    "### Definimos una función que buscará la marca con mayor variedad según el campo que le pasemos"
   ]
  },
  {
   "cell_type": "markdown",
   "id": "6e9bc179",
   "metadata": {},
   "source": [
    "De cada marca, busca cuántos datos únicos tiene el campo que le pasemos por parámetro. La marca con la mayor cantidad (variedad) es la que se almacena. Si hay otra que la supere, se sobreescribe al igual que la cantidad."
   ]
  },
  {
   "cell_type": "code",
   "execution_count": 12,
   "id": "c4e4654c",
   "metadata": {},
   "outputs": [],
   "source": [
    "def marcaConMayorVariedad(campo):\n",
    "    marca = ''\n",
    "    cantidad = 0    \n",
    "    for x in df['Marca'].unique():    \n",
    "        if len(df[(df['Marca'] == x)][campo].unique()) > cantidad:\n",
    "            cantidad = len(df[(df['Marca'] == x)][campo].unique())\n",
    "            marca = x\n",
    "    return list((marca,cantidad))\n",
    "    "
   ]
  },
  {
   "cell_type": "markdown",
   "id": "51743bb6",
   "metadata": {},
   "source": [
    "### Marca con mayor variedad de tamaños:"
   ]
  },
  {
   "cell_type": "markdown",
   "id": "73fa359d",
   "metadata": {},
   "source": [
    "<p>La marca con mayor variedad de tamaños es LG con 20 variedades diferentes.</p>"
   ]
  },
  {
   "cell_type": "code",
   "execution_count": 13,
   "id": "0006bfe8",
   "metadata": {
    "scrolled": true
   },
   "outputs": [
    {
     "data": {
      "text/plain": [
       "['LG', 20]"
      ]
     },
     "execution_count": 13,
     "metadata": {},
     "output_type": "execute_result"
    }
   ],
   "source": [
    "marcaConMayorVariedad('Tamaño de la pantalla')"
   ]
  },
  {
   "cell_type": "markdown",
   "id": "77610852",
   "metadata": {},
   "source": [
    "### Marca con mayor variedad de resoluciones de pantalla:"
   ]
  },
  {
   "cell_type": "markdown",
   "id": "f0451091",
   "metadata": {},
   "source": [
    "<p>La marca con mayor variedad de resoluciones es LG con 7 variedades diferentes.</p>"
   ]
  },
  {
   "cell_type": "code",
   "execution_count": 14,
   "id": "c7f55a3e",
   "metadata": {},
   "outputs": [
    {
     "data": {
      "text/plain": [
       "['LG', 7]"
      ]
     },
     "execution_count": 14,
     "metadata": {},
     "output_type": "execute_result"
    }
   ],
   "source": [
    "marcaConMayorVariedad('Tipo de resolución')"
   ]
  },
  {
   "cell_type": "markdown",
   "id": "13461093",
   "metadata": {},
   "source": [
    "### Marca con mayor variedad de tipos de pantalla:"
   ]
  },
  {
   "cell_type": "markdown",
   "id": "2848e8eb",
   "metadata": {},
   "source": [
    "<p>La marca con mayor variedad de tipos de pantalla es Samsung con 5 variedades diferentes.</p>"
   ]
  },
  {
   "cell_type": "code",
   "execution_count": 15,
   "id": "2cc1a5a1",
   "metadata": {},
   "outputs": [
    {
     "data": {
      "text/plain": [
       "['Samsung', 5]"
      ]
     },
     "execution_count": 15,
     "metadata": {},
     "output_type": "execute_result"
    }
   ],
   "source": [
    "marcaConMayorVariedad('Tipo de pantalla')"
   ]
  },
  {
   "cell_type": "markdown",
   "id": "aa60ebd4",
   "metadata": {},
   "source": [
    "### Marca con mayor variedad de frecuencias de actualización:"
   ]
  },
  {
   "cell_type": "markdown",
   "id": "8c86d2ce",
   "metadata": {},
   "source": [
    "<p>La marca con mayor variedad de frecuencias de actualización es LG con 7 variedades diferentes.</p>"
   ]
  },
  {
   "cell_type": "code",
   "execution_count": 16,
   "id": "953f37e0",
   "metadata": {},
   "outputs": [
    {
     "data": {
      "text/plain": [
       "['LG', 7]"
      ]
     },
     "execution_count": 16,
     "metadata": {},
     "output_type": "execute_result"
    }
   ],
   "source": [
    "marcaConMayorVariedad('Frecuencia de actualización')"
   ]
  },
  {
   "cell_type": "markdown",
   "id": "e07eda6f",
   "metadata": {},
   "source": [
    "## Histograma de precios"
   ]
  },
  {
   "cell_type": "markdown",
   "id": "f23769e5",
   "metadata": {},
   "source": [
    "<p>Cada barra del histograma representa ARS 50.000</p>\n",
    "<p>Se concluye que la mayoría de los monitores rondan entre ARS 37.000 y ARS 200.000</p>"
   ]
  },
  {
   "cell_type": "code",
   "execution_count": 17,
   "id": "de4fdff0",
   "metadata": {},
   "outputs": [
    {
     "data": {
      "text/plain": [
       "<AxesSubplot:ylabel='Frequency'>"
      ]
     },
     "execution_count": 17,
     "metadata": {},
     "output_type": "execute_result"
    },
    {
     "data": {
      "image/png": "[encoded data removed]",
      "text/plain": [
       "<Figure size 1440x720 with 1 Axes>"
      ]
     },
     "metadata": {
      "needs_background": "light"
     },
     "output_type": "display_data"
    }
   ],
   "source": [
    "df['Precio'].plot.hist(figsize=(20,10),bins = 120, edgecolor='black')"
   ]
  },
  {
   "cell_type": "markdown",
   "id": "0e18fbbf",
   "metadata": {},
   "source": [
    "## Relación entre precio y tamaño de pantalla"
   ]
  },
  {
   "cell_type": "code",
   "execution_count": 18,
   "id": "1e8027fb",
   "metadata": {
    "scrolled": false
   },
   "outputs": [
    {
     "data": {
      "text/plain": [
       "<AxesSubplot:xlabel='Precio', ylabel='Tamaño de la pantalla'>"
      ]
     },
     "execution_count": 18,
     "metadata": {},
     "output_type": "execute_result"
    },
    {
     "data": {
      "image/png": "[encoded data removed]",
      "text/plain": [
       "<Figure size 1440x720 with 1 Axes>"
      ]
     },
     "metadata": {
      "needs_background": "light"
     },
     "output_type": "display_data"
    }
   ],
   "source": [
    "df[['Precio','Tamaño de la pantalla']].plot.scatter(x=0,y=1,figsize=(20,10))"
   ]
  },
  {
   "cell_type": "markdown",
   "id": "adc88266",
   "metadata": {},
   "source": [
    "## Relación entre precio y frecuencia de actualización"
   ]
  },
  {
   "cell_type": "code",
   "execution_count": 19,
   "id": "4928132a",
   "metadata": {
    "scrolled": false
   },
   "outputs": [
    {
     "data": {
      "text/plain": [
       "<AxesSubplot:xlabel='Precio', ylabel='Frecuencia de actualización'>"
      ]
     },
     "execution_count": 19,
     "metadata": {},
     "output_type": "execute_result"
    },
    {
     "data": {
      "image/png": "[encoded data removed]",
      "text/plain": [
       "<Figure size 1440x720 with 1 Axes>"
      ]
     },
     "metadata": {
      "needs_background": "light"
     },
     "output_type": "display_data"
    }
   ],
   "source": [
    "df[['Precio','Frecuencia de actualización']].plot.scatter(x=0,y=1,figsize=(20,10))"
   ]
  },
  {
   "cell_type": "markdown",
   "id": "c05b9d28",
   "metadata": {},
   "source": [
    "## Los tres monitores más baratos:"
   ]
  },
  {
   "cell_type": "code",
   "execution_count": 20,
   "id": "f738cd84",
   "metadata": {},
   "outputs": [
    {
     "data": {
      "text/html": [
       "<div>\n",
       "<style scoped>\n",
       "    .dataframe tbody tr th:only-of-type {\n",
       "        vertical-align: middle;\n",
       "    }\n",
       "\n",
       "    .dataframe tbody tr th {\n",
       "        vertical-align: top;\n",
       "    }\n",
       "\n",
       "    .dataframe thead th {\n",
       "        text-align: right;\n",
       "    }\n",
       "</style>\n",
       "<table border=\"1\" class=\"dataframe\">\n",
       "  <thead>\n",
       "    <tr style=\"text-align: right;\">\n",
       "      <th></th>\n",
       "      <th>Marca</th>\n",
       "      <th>Modelo</th>\n",
       "      <th>Tamaño de la pantalla</th>\n",
       "      <th>Tipo de resolución</th>\n",
       "      <th>Tipo de pantalla</th>\n",
       "      <th>Frecuencia de actualización</th>\n",
       "      <th>Precio</th>\n",
       "      <th>Link</th>\n",
       "    </tr>\n",
       "  </thead>\n",
       "  <tbody>\n",
       "    <tr>\n",
       "      <th>1432</th>\n",
       "      <td>iQual</td>\n",
       "      <td>Home19</td>\n",
       "      <td>19.0</td>\n",
       "      <td>HD</td>\n",
       "      <td>LED</td>\n",
       "      <td>75</td>\n",
       "      <td>37000</td>\n",
       "      <td>https://articulo.mercadolibre.com.ar/MLA-14288...</td>\n",
       "    </tr>\n",
       "    <tr>\n",
       "      <th>1754</th>\n",
       "      <td>Gfast</td>\n",
       "      <td>T-195</td>\n",
       "      <td>19.5</td>\n",
       "      <td>HD</td>\n",
       "      <td>LED</td>\n",
       "      <td>60</td>\n",
       "      <td>39999</td>\n",
       "      <td>https://articulo.mercadolibre.com.ar/MLA-14652...</td>\n",
       "    </tr>\n",
       "    <tr>\n",
       "      <th>1775</th>\n",
       "      <td>HP</td>\n",
       "      <td>V190</td>\n",
       "      <td>18.5</td>\n",
       "      <td>WXGA</td>\n",
       "      <td>LED</td>\n",
       "      <td>60</td>\n",
       "      <td>44800</td>\n",
       "      <td>https://www.mercadolibre.com.ar/monitor-hp-v19...</td>\n",
       "    </tr>\n",
       "  </tbody>\n",
       "</table>\n",
       "</div>"
      ],
      "text/plain": [
       "      Marca  Modelo  Tamaño de la pantalla Tipo de resolución  \\\n",
       "1432  iQual  Home19                   19.0                 HD   \n",
       "1754  Gfast   T-195                   19.5                 HD   \n",
       "1775     HP    V190                   18.5               WXGA   \n",
       "\n",
       "     Tipo de pantalla  Frecuencia de actualización  Precio  \\\n",
       "1432              LED                           75   37000   \n",
       "1754              LED                           60   39999   \n",
       "1775              LED                           60   44800   \n",
       "\n",
       "                                                   Link  \n",
       "1432  https://articulo.mercadolibre.com.ar/MLA-14288...  \n",
       "1754  https://articulo.mercadolibre.com.ar/MLA-14652...  \n",
       "1775  https://www.mercadolibre.com.ar/monitor-hp-v19...  "
      ]
     },
     "execution_count": 20,
     "metadata": {},
     "output_type": "execute_result"
    }
   ],
   "source": [
    "df.sort_values(by='Precio').head(3)"
   ]
  },
  {
   "cell_type": "markdown",
   "id": "7832b3b4",
   "metadata": {},
   "source": [
    "## Los tres monitores más caros:"
   ]
  },
  {
   "cell_type": "markdown",
   "id": "a7c47b9e",
   "metadata": {},
   "source": [
    "<p>Todos coinciden con la marca Apple. Tienen resoluciones UHD (Ultra High Definition) entre 5K y 6K. Y sus precios van entre ARS 5.000.000 y ARS 6.000.000</p>"
   ]
  },
  {
   "cell_type": "code",
   "execution_count": 21,
   "id": "145cdcd8",
   "metadata": {
    "scrolled": true
   },
   "outputs": [
    {
     "data": {
      "text/html": [
       "<div>\n",
       "<style scoped>\n",
       "    .dataframe tbody tr th:only-of-type {\n",
       "        vertical-align: middle;\n",
       "    }\n",
       "\n",
       "    .dataframe tbody tr th {\n",
       "        vertical-align: top;\n",
       "    }\n",
       "\n",
       "    .dataframe thead th {\n",
       "        text-align: right;\n",
       "    }\n",
       "</style>\n",
       "<table border=\"1\" class=\"dataframe\">\n",
       "  <thead>\n",
       "    <tr style=\"text-align: right;\">\n",
       "      <th></th>\n",
       "      <th>Marca</th>\n",
       "      <th>Modelo</th>\n",
       "      <th>Tamaño de la pantalla</th>\n",
       "      <th>Tipo de resolución</th>\n",
       "      <th>Tipo de pantalla</th>\n",
       "      <th>Frecuencia de actualización</th>\n",
       "      <th>Precio</th>\n",
       "      <th>Link</th>\n",
       "    </tr>\n",
       "  </thead>\n",
       "  <tbody>\n",
       "    <tr>\n",
       "      <th>1611</th>\n",
       "      <td>Apple</td>\n",
       "      <td>XDR NANO</td>\n",
       "      <td>32.0</td>\n",
       "      <td>UHD 6K</td>\n",
       "      <td>LED</td>\n",
       "      <td>47</td>\n",
       "      <td>5999999</td>\n",
       "      <td>https://articulo.mercadolibre.com.ar/MLA-11874...</td>\n",
       "    </tr>\n",
       "    <tr>\n",
       "      <th>1672</th>\n",
       "      <td>Apple</td>\n",
       "      <td>XDR STANDARD</td>\n",
       "      <td>32.0</td>\n",
       "      <td>UHD 6K</td>\n",
       "      <td>LED</td>\n",
       "      <td>47</td>\n",
       "      <td>5599999</td>\n",
       "      <td>https://articulo.mercadolibre.com.ar/MLA-11874...</td>\n",
       "    </tr>\n",
       "    <tr>\n",
       "      <th>1673</th>\n",
       "      <td>Apple</td>\n",
       "      <td>XDR NANO</td>\n",
       "      <td>27.0</td>\n",
       "      <td>UHD 5K</td>\n",
       "      <td>LED</td>\n",
       "      <td>47</td>\n",
       "      <td>4999999</td>\n",
       "      <td>https://articulo.mercadolibre.com.ar/MLA-11000...</td>\n",
       "    </tr>\n",
       "  </tbody>\n",
       "</table>\n",
       "</div>"
      ],
      "text/plain": [
       "      Marca        Modelo  Tamaño de la pantalla Tipo de resolución  \\\n",
       "1611  Apple      XDR NANO                   32.0             UHD 6K   \n",
       "1672  Apple  XDR STANDARD                   32.0             UHD 6K   \n",
       "1673  Apple      XDR NANO                   27.0             UHD 5K   \n",
       "\n",
       "     Tipo de pantalla  Frecuencia de actualización   Precio  \\\n",
       "1611              LED                           47  5999999   \n",
       "1672              LED                           47  5599999   \n",
       "1673              LED                           47  4999999   \n",
       "\n",
       "                                                   Link  \n",
       "1611  https://articulo.mercadolibre.com.ar/MLA-11874...  \n",
       "1672  https://articulo.mercadolibre.com.ar/MLA-11874...  \n",
       "1673  https://articulo.mercadolibre.com.ar/MLA-11000...  "
      ]
     },
     "execution_count": 21,
     "metadata": {},
     "output_type": "execute_result"
    }
   ],
   "source": [
    "df.sort_values(by='Precio', ascending = False).head(3)"
   ]
  },
  {
   "cell_type": "markdown",
   "id": "2559d105",
   "metadata": {},
   "source": [
    "## La marca más cara en promedio:"
   ]
  },
  {
   "cell_type": "markdown",
   "id": "3a04d575",
   "metadata": {},
   "source": [
    "<p>Apple, con un precio promedio de ARS 5.533.332,3</p>"
   ]
  },
  {
   "cell_type": "code",
   "execution_count": 22,
   "id": "a36bcfb7",
   "metadata": {
    "scrolled": true
   },
   "outputs": [
    {
     "data": {
      "text/plain": [
       "Precio   5533332.3\n",
       "Name: Apple, dtype: float64"
      ]
     },
     "execution_count": 22,
     "metadata": {},
     "output_type": "execute_result"
    }
   ],
   "source": [
    "df[['Marca','Precio']].groupby('Marca').mean().sort_values(by='Precio', ascending=False).iloc[0]"
   ]
  }
 ],
 "metadata": {
  "kernelspec": {
   "display_name": "Python 3 (ipykernel)",
   "language": "python",
   "name": "python3"
  },
  "language_info": {
   "codemirror_mode": {
    "name": "ipython",
    "version": 3
   },
   "file_extension": ".py",
   "mimetype": "text/x-python",
   "name": "python",
   "nbconvert_exporter": "python",
   "pygments_lexer": "ipython3",
   "version": "3.9.12"
  }
 },
 "nbformat": 4,
 "nbformat_minor": 5
}
