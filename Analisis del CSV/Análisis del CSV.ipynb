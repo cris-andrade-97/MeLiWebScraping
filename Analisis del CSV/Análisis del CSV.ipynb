{
 "cells": [
  {
   "cell_type": "markdown",
   "id": "66cabfe0",
   "metadata": {},
   "source": [
    "# Análisis de datos"
   ]
  },
  {
   "cell_type": "markdown",
   "id": "71fa7b38",
   "metadata": {},
   "source": [
    "En este último apartado, tras scrapear y limpiar los datos, se buscará analizarlos mediante planteo de preguntas, consultas y gráficos para contestarlas."
   ]
  },
  {
   "cell_type": "markdown",
   "id": "fed98cf2",
   "metadata": {},
   "source": [
    "## Importamos las librerías necesarias"
   ]
  },
  {
   "cell_type": "markdown",
   "id": "f088b875",
   "metadata": {},
   "source": [
    "Usamos Pandas para consultas. Mientras que Matplotlib y Seaborn son para gráficas."
   ]
  },
  {
   "cell_type": "code",
   "execution_count": 1,
   "id": "3c3126b1",
   "metadata": {},
   "outputs": [],
   "source": [
    "import pandas as pd\n",
    "import matplotlib.pyplot as plt\n",
    "import seaborn as sns"
   ]
  },
  {
   "cell_type": "markdown",
   "id": "a48efb9d",
   "metadata": {},
   "source": [
    "## Importamos los registros limpios y los exhibimos"
   ]
  },
  {
   "cell_type": "markdown",
   "id": "8902a3b8",
   "metadata": {},
   "source": [
    "Se establece que los números flotantes, tanto los campos del dataframe o los campos generados (como el promedio), solo exhiban 1 decimal para mejor lectura."
   ]
  },
  {
   "cell_type": "code",
   "execution_count": 2,
   "id": "dfb49fa0",
   "metadata": {
    "scrolled": true
   },
   "outputs": [
    {
     "data": {
      "text/html": [
       "<div>\n",
       "<style scoped>\n",
       "    .dataframe tbody tr th:only-of-type {\n",
       "        vertical-align: middle;\n",
       "    }\n",
       "\n",
       "    .dataframe tbody tr th {\n",
       "        vertical-align: top;\n",
       "    }\n",
       "\n",
       "    .dataframe thead th {\n",
       "        text-align: right;\n",
       "    }\n",
       "</style>\n",
       "<table border=\"1\" class=\"dataframe\">\n",
       "  <thead>\n",
       "    <tr style=\"text-align: right;\">\n",
       "      <th></th>\n",
       "      <th>Marca</th>\n",
       "      <th>Modelo</th>\n",
       "      <th>Tamaño de la pantalla</th>\n",
       "      <th>Tipo de resolución</th>\n",
       "      <th>Tipo de pantalla</th>\n",
       "      <th>Frecuencia de actualización</th>\n",
       "      <th>Precio</th>\n",
       "      <th>Link</th>\n",
       "    </tr>\n",
       "  </thead>\n",
       "  <tbody>\n",
       "    <tr>\n",
       "      <th>0</th>\n",
       "      <td>Philips</td>\n",
       "      <td>271E1SCA/55</td>\n",
       "      <td>27.0</td>\n",
       "      <td>FHD</td>\n",
       "      <td>LCD/LED</td>\n",
       "      <td>75</td>\n",
       "      <td>185999</td>\n",
       "      <td>https://www.mercadolibre.com.ar/monitor-gamer-...</td>\n",
       "    </tr>\n",
       "    <tr>\n",
       "      <th>1</th>\n",
       "      <td>Samsung</td>\n",
       "      <td>F24T35</td>\n",
       "      <td>24.0</td>\n",
       "      <td>FHD</td>\n",
       "      <td>LCD/LED</td>\n",
       "      <td>75</td>\n",
       "      <td>86999</td>\n",
       "      <td>https://www.mercadolibre.com.ar/monitor-gamer-...</td>\n",
       "    </tr>\n",
       "    <tr>\n",
       "      <th>2</th>\n",
       "      <td>Samsung</td>\n",
       "      <td>F22T35</td>\n",
       "      <td>22.0</td>\n",
       "      <td>FHD</td>\n",
       "      <td>LCD/LED</td>\n",
       "      <td>75</td>\n",
       "      <td>75999</td>\n",
       "      <td>https://www.mercadolibre.com.ar/monitor-gamer-...</td>\n",
       "    </tr>\n",
       "    <tr>\n",
       "      <th>3</th>\n",
       "      <td>Noblex</td>\n",
       "      <td>MK24X7100</td>\n",
       "      <td>23.8</td>\n",
       "      <td>FHD</td>\n",
       "      <td>LCD/LED</td>\n",
       "      <td>75</td>\n",
       "      <td>66990</td>\n",
       "      <td>https://www.mercadolibre.com.ar/monitor-led-no...</td>\n",
       "    </tr>\n",
       "    <tr>\n",
       "      <th>4</th>\n",
       "      <td>Philips</td>\n",
       "      <td>221V8</td>\n",
       "      <td>21.5</td>\n",
       "      <td>FHD</td>\n",
       "      <td>LCD/LED</td>\n",
       "      <td>75</td>\n",
       "      <td>51499</td>\n",
       "      <td>https://www.mercadolibre.com.ar/monitor-gamer-...</td>\n",
       "    </tr>\n",
       "  </tbody>\n",
       "</table>\n",
       "</div>"
      ],
      "text/plain": [
       "     Marca       Modelo  Tamaño de la pantalla Tipo de resolución  \\\n",
       "0  Philips  271E1SCA/55                   27.0                FHD   \n",
       "1  Samsung       F24T35                   24.0                FHD   \n",
       "2  Samsung       F22T35                   22.0                FHD   \n",
       "3   Noblex    MK24X7100                   23.8                FHD   \n",
       "4  Philips        221V8                   21.5                FHD   \n",
       "\n",
       "  Tipo de pantalla  Frecuencia de actualización  Precio  \\\n",
       "0          LCD/LED                           75  185999   \n",
       "1          LCD/LED                           75   86999   \n",
       "2          LCD/LED                           75   75999   \n",
       "3          LCD/LED                           75   66990   \n",
       "4          LCD/LED                           75   51499   \n",
       "\n",
       "                                                Link  \n",
       "0  https://www.mercadolibre.com.ar/monitor-gamer-...  \n",
       "1  https://www.mercadolibre.com.ar/monitor-gamer-...  \n",
       "2  https://www.mercadolibre.com.ar/monitor-gamer-...  \n",
       "3  https://www.mercadolibre.com.ar/monitor-led-no...  \n",
       "4  https://www.mercadolibre.com.ar/monitor-gamer-...  "
      ]
     },
     "execution_count": 2,
     "metadata": {},
     "output_type": "execute_result"
    }
   ],
   "source": [
    "df = pd.read_csv('Monitores Nuevos - Registros limpios - Mercado Libre Argentina - Agosto 2023.csv', index_col= 0)\n",
    "\n",
    "pd.set_option('display.float_format', '{:.1f}'.format)\n",
    "\n",
    "df.head()"
   ]
  },
  {
   "cell_type": "markdown",
   "id": "2bb8c59a",
   "metadata": {},
   "source": [
    "# Información General"
   ]
  },
  {
   "cell_type": "markdown",
   "id": "edbdf33d",
   "metadata": {},
   "source": [
    "## Cantidad de registros: 1234"
   ]
  },
  {
   "cell_type": "code",
   "execution_count": 3,
   "id": "e0b4c4ef",
   "metadata": {},
   "outputs": [
    {
     "data": {
      "text/plain": [
       "1234"
      ]
     },
     "execution_count": 3,
     "metadata": {},
     "output_type": "execute_result"
    }
   ],
   "source": [
    "len(df)"
   ]
  },
  {
   "cell_type": "markdown",
   "id": "db9ef8dc",
   "metadata": {},
   "source": [
    "## Cinco marcas con mayor presencia:"
   ]
  },
  {
   "cell_type": "markdown",
   "id": "10b923ab",
   "metadata": {},
   "source": [
    "De mayor a menor, las cinco marcas con más publicaciones en la lista aparecen de la sigiente forma:\n",
    "\n",
    "1. LG: 324 veces\n",
    "2. Samsung: 297 veces\n",
    "3. Philips: 135 veces\n",
    "4. ViewSonic: 73 veces\n",
    "5. Asus: 68 veces\n",
    "\n",
    "<p>La marca con más presencia es LG, con 324 publicaciones.</p>"
   ]
  },
  {
   "cell_type": "code",
   "execution_count": 4,
   "id": "4ab81099",
   "metadata": {
    "scrolled": true
   },
   "outputs": [
    {
     "data": {
      "text/plain": [
       "LG           324\n",
       "Samsung      297\n",
       "Philips      135\n",
       "ViewSonic     73\n",
       "Asus          68\n",
       "Name: Marca, dtype: int64"
      ]
     },
     "execution_count": 4,
     "metadata": {},
     "output_type": "execute_result"
    }
   ],
   "source": [
    "df['Marca'].value_counts()[range(5)]"
   ]
  },
  {
   "cell_type": "markdown",
   "id": "d9a467b7",
   "metadata": {},
   "source": [
    "## Cinco marcas con mayor presencia: Promedio más bajo de precios"
   ]
  },
  {
   "cell_type": "markdown",
   "id": "7c488a63",
   "metadata": {},
   "source": [
    "<p>De las cinco marcas con mayor presencia, Philips es la más barata en promedio con ARS 89.105,3</p>\n",
    "<p>También se deduce que, aún con la mayor cantidad de opciones, LG es la marca más cara en promedio del sitio con ARS 258.425,9</p>"
   ]
  },
  {
   "cell_type": "code",
   "execution_count": 5,
   "id": "8e4e386a",
   "metadata": {
    "scrolled": true
   },
   "outputs": [
    {
     "data": {
      "text/html": [
       "<div>\n",
       "<style scoped>\n",
       "    .dataframe tbody tr th:only-of-type {\n",
       "        vertical-align: middle;\n",
       "    }\n",
       "\n",
       "    .dataframe tbody tr th {\n",
       "        vertical-align: top;\n",
       "    }\n",
       "\n",
       "    .dataframe thead th {\n",
       "        text-align: right;\n",
       "    }\n",
       "</style>\n",
       "<table border=\"1\" class=\"dataframe\">\n",
       "  <thead>\n",
       "    <tr style=\"text-align: right;\">\n",
       "      <th></th>\n",
       "      <th>Precio</th>\n",
       "    </tr>\n",
       "    <tr>\n",
       "      <th>Marca</th>\n",
       "      <th></th>\n",
       "    </tr>\n",
       "  </thead>\n",
       "  <tbody>\n",
       "    <tr>\n",
       "      <th>Philips</th>\n",
       "      <td>89105.3</td>\n",
       "    </tr>\n",
       "    <tr>\n",
       "      <th>Samsung</th>\n",
       "      <td>180495.3</td>\n",
       "    </tr>\n",
       "    <tr>\n",
       "      <th>ViewSonic</th>\n",
       "      <td>181476.7</td>\n",
       "    </tr>\n",
       "    <tr>\n",
       "      <th>Asus</th>\n",
       "      <td>222614.3</td>\n",
       "    </tr>\n",
       "    <tr>\n",
       "      <th>LG</th>\n",
       "      <td>258425.9</td>\n",
       "    </tr>\n",
       "  </tbody>\n",
       "</table>\n",
       "</div>"
      ],
      "text/plain": [
       "            Precio\n",
       "Marca             \n",
       "Philips    89105.3\n",
       "Samsung   180495.3\n",
       "ViewSonic 181476.7\n",
       "Asus      222614.3\n",
       "LG        258425.9"
      ]
     },
     "execution_count": 5,
     "metadata": {},
     "output_type": "execute_result"
    }
   ],
   "source": [
    "cincoMarcasConMayorPresencia = ['LG','Samsung','Philips','ViewSonic','Asus']\n",
    "df[df['Marca'].isin(cincoMarcasConMayorPresencia)][['Marca','Precio']].groupby('Marca').mean().sort_values(by='Precio')"
   ]
  },
  {
   "cell_type": "markdown",
   "id": "a8c133b1",
   "metadata": {},
   "source": [
    "## Modelo de monitor con más presencia:"
   ]
  },
  {
   "cell_type": "markdown",
   "id": "e18e9a96",
   "metadata": {},
   "source": [
    "El modelo con más presencia en el sitio es el F24T35 de la marca Samsung con 81 apariciones."
   ]
  },
  {
   "cell_type": "code",
   "execution_count": 6,
   "id": "7392c175",
   "metadata": {},
   "outputs": [
    {
     "data": {
      "text/plain": [
       "F24T35    81\n",
       "F22T35    47\n",
       "19M38A    41\n",
       "Name: Modelo, dtype: int64"
      ]
     },
     "execution_count": 6,
     "metadata": {},
     "output_type": "execute_result"
    }
   ],
   "source": [
    "df['Modelo'].value_counts()[range(3)]"
   ]
  },
  {
   "cell_type": "code",
   "execution_count": 7,
   "id": "8a07b3be",
   "metadata": {},
   "outputs": [
    {
     "data": {
      "text/html": [
       "<div>\n",
       "<style scoped>\n",
       "    .dataframe tbody tr th:only-of-type {\n",
       "        vertical-align: middle;\n",
       "    }\n",
       "\n",
       "    .dataframe tbody tr th {\n",
       "        vertical-align: top;\n",
       "    }\n",
       "\n",
       "    .dataframe thead th {\n",
       "        text-align: right;\n",
       "    }\n",
       "</style>\n",
       "<table border=\"1\" class=\"dataframe\">\n",
       "  <thead>\n",
       "    <tr style=\"text-align: right;\">\n",
       "      <th></th>\n",
       "      <th>Marca</th>\n",
       "    </tr>\n",
       "  </thead>\n",
       "  <tbody>\n",
       "    <tr>\n",
       "      <th>1</th>\n",
       "      <td>Samsung</td>\n",
       "    </tr>\n",
       "  </tbody>\n",
       "</table>\n",
       "</div>"
      ],
      "text/plain": [
       "     Marca\n",
       "1  Samsung"
      ]
     },
     "execution_count": 7,
     "metadata": {},
     "output_type": "execute_result"
    }
   ],
   "source": [
    "df[(df['Modelo']=='F24T35')][['Marca']].head(1)"
   ]
  },
  {
   "cell_type": "markdown",
   "id": "d83feb46",
   "metadata": {},
   "source": [
    "## Modelo de monitor con más presencia: Precio más bajo"
   ]
  },
  {
   "cell_type": "markdown",
   "id": "03aac69b",
   "metadata": {},
   "source": [
    "La publicación con el modelo F24T35 se ha encontrado con el precio más bajo de ARS 65.000,0"
   ]
  },
  {
   "cell_type": "code",
   "execution_count": 8,
   "id": "b56f8e62",
   "metadata": {},
   "outputs": [
    {
     "data": {
      "text/html": [
       "<div>\n",
       "<style scoped>\n",
       "    .dataframe tbody tr th:only-of-type {\n",
       "        vertical-align: middle;\n",
       "    }\n",
       "\n",
       "    .dataframe tbody tr th {\n",
       "        vertical-align: top;\n",
       "    }\n",
       "\n",
       "    .dataframe thead th {\n",
       "        text-align: right;\n",
       "    }\n",
       "</style>\n",
       "<table border=\"1\" class=\"dataframe\">\n",
       "  <thead>\n",
       "    <tr style=\"text-align: right;\">\n",
       "      <th></th>\n",
       "      <th>Marca</th>\n",
       "      <th>Modelo</th>\n",
       "      <th>Tamaño de la pantalla</th>\n",
       "      <th>Precio</th>\n",
       "      <th>Link</th>\n",
       "    </tr>\n",
       "  </thead>\n",
       "  <tbody>\n",
       "    <tr>\n",
       "      <th>1755</th>\n",
       "      <td>Samsung</td>\n",
       "      <td>F24T35</td>\n",
       "      <td>24.0</td>\n",
       "      <td>65000</td>\n",
       "      <td>https://articulo.mercadolibre.com.ar/MLA-14660...</td>\n",
       "    </tr>\n",
       "    <tr>\n",
       "      <th>142</th>\n",
       "      <td>Samsung</td>\n",
       "      <td>F24T35</td>\n",
       "      <td>24.0</td>\n",
       "      <td>68499</td>\n",
       "      <td>https://articulo.mercadolibre.com.ar/MLA-90416...</td>\n",
       "    </tr>\n",
       "    <tr>\n",
       "      <th>1385</th>\n",
       "      <td>Samsung</td>\n",
       "      <td>F24T35</td>\n",
       "      <td>24.0</td>\n",
       "      <td>75000</td>\n",
       "      <td>https://articulo.mercadolibre.com.ar/MLA-13813...</td>\n",
       "    </tr>\n",
       "    <tr>\n",
       "      <th>70</th>\n",
       "      <td>Samsung</td>\n",
       "      <td>F24T35</td>\n",
       "      <td>24.0</td>\n",
       "      <td>79600</td>\n",
       "      <td>https://articulo.mercadolibre.com.ar/MLA-91692...</td>\n",
       "    </tr>\n",
       "    <tr>\n",
       "      <th>1150</th>\n",
       "      <td>Samsung</td>\n",
       "      <td>F24T35</td>\n",
       "      <td>24.0</td>\n",
       "      <td>79800</td>\n",
       "      <td>https://articulo.mercadolibre.com.ar/MLA-12947...</td>\n",
       "    </tr>\n",
       "  </tbody>\n",
       "</table>\n",
       "</div>"
      ],
      "text/plain": [
       "        Marca  Modelo  Tamaño de la pantalla  Precio  \\\n",
       "1755  Samsung  F24T35                   24.0   65000   \n",
       "142   Samsung  F24T35                   24.0   68499   \n",
       "1385  Samsung  F24T35                   24.0   75000   \n",
       "70    Samsung  F24T35                   24.0   79600   \n",
       "1150  Samsung  F24T35                   24.0   79800   \n",
       "\n",
       "                                                   Link  \n",
       "1755  https://articulo.mercadolibre.com.ar/MLA-14660...  \n",
       "142   https://articulo.mercadolibre.com.ar/MLA-90416...  \n",
       "1385  https://articulo.mercadolibre.com.ar/MLA-13813...  \n",
       "70    https://articulo.mercadolibre.com.ar/MLA-91692...  \n",
       "1150  https://articulo.mercadolibre.com.ar/MLA-12947...  "
      ]
     },
     "execution_count": 8,
     "metadata": {},
     "output_type": "execute_result"
    }
   ],
   "source": [
    "df[(df['Modelo']=='F24T35')][['Marca','Modelo','Tamaño de la pantalla','Precio','Link']].sort_values(by='Precio').head()"
   ]
  },
  {
   "cell_type": "markdown",
   "id": "2b6ef4f7",
   "metadata": {},
   "source": [
    "## Rango de tamaños para monitores:"
   ]
  },
  {
   "cell_type": "markdown",
   "id": "5e79956c",
   "metadata": {},
   "source": [
    "<p>Tamaño más pequeño disponible: 18.5 \"</p>\n",
    "<p>Tamaño más grande disponible: 49 \"</p>\n",
    "<p>Cantidad de tamaños únicos: 28</p>"
   ]
  },
  {
   "cell_type": "code",
   "execution_count": 9,
   "id": "84be79b4",
   "metadata": {
    "scrolled": true
   },
   "outputs": [
    {
     "name": "stdout",
     "output_type": "stream",
     "text": [
      "Min: 18.5\n",
      "Max: 49.0\n",
      "Cantidad: 28\n"
     ]
    }
   ],
   "source": [
    "print(\"Min:\",df['Tamaño de la pantalla'].min())\n",
    "print(\"Max:\",df['Tamaño de la pantalla'].max())\n",
    "print(\"Cantidad:\",len(df['Tamaño de la pantalla'].unique()))"
   ]
  },
  {
   "cell_type": "markdown",
   "id": "c5d12acb",
   "metadata": {},
   "source": [
    "## Resolución de pantalla más común: FHD (Full High Definition)"
   ]
  },
  {
   "cell_type": "markdown",
   "id": "f4a25409",
   "metadata": {},
   "source": [
    "<p>La resolución de pantalla más común por diferencia es la resolución FHD o Full High Definition.</p>"
   ]
  },
  {
   "cell_type": "code",
   "execution_count": 10,
   "id": "513ce87a",
   "metadata": {},
   "outputs": [
    {
     "data": {
      "text/plain": [
       "<AxesSubplot:>"
      ]
     },
     "execution_count": 10,
     "metadata": {},
     "output_type": "execute_result"
    },
    {
     "data": {
      "image/png": "[encoded data removed]",
      "text/plain": [
       "<Figure size 720x360 with 1 Axes>"
      ]
     },
     "metadata": {
      "needs_background": "light"
     },
     "output_type": "display_data"
    }
   ],
   "source": [
    "df['Tipo de resolución'].value_counts().plot.bar(figsize=(10,5),edgecolor='black')"
   ]
  },
  {
   "cell_type": "markdown",
   "id": "9bf373ef",
   "metadata": {},
   "source": [
    "## Tipo de pantalla más común: LCD/LED"
   ]
  },
  {
   "cell_type": "markdown",
   "id": "682c669b",
   "metadata": {},
   "source": [
    "<p>Como se esperaba, LCD/LED es el tipo de pantalla más común debido a que se filtró específicamente monitores con tecnología LED. \n",
    "\n",
    "Téngase presente que, al ser imposible deducir con estos datos si la pantalla es LED pura o LCD con retroiluminación LED, se agrupó estas dos tecnologías en una sola categoría.</p>"
   ]
  },
  {
   "cell_type": "code",
   "execution_count": 11,
   "id": "7c2a9079",
   "metadata": {},
   "outputs": [
    {
     "data": {
      "text/plain": [
       "<AxesSubplot:>"
      ]
     },
     "execution_count": 11,
     "metadata": {},
     "output_type": "execute_result"
    },
    {
     "data": {
      "image/png": "[encoded data removed]",
      "text/plain": [
       "<Figure size 720x360 with 1 Axes>"
      ]
     },
     "metadata": {
      "needs_background": "light"
     },
     "output_type": "display_data"
    }
   ],
   "source": [
    "df['Tipo de pantalla'].value_counts().plot.bar(figsize=(10,5),edgecolor='black')"
   ]
  },
  {
   "cell_type": "markdown",
   "id": "d7ae189e",
   "metadata": {},
   "source": [
    "# Aspectos Técnicos y de Rendimiento"
   ]
  },
  {
   "cell_type": "markdown",
   "id": "b80c1907",
   "metadata": {},
   "source": [
    "## Mayor y menor frecuencia de monitor"
   ]
  },
  {
   "cell_type": "markdown",
   "id": "f82f1aa4",
   "metadata": {},
   "source": [
    "La menor tasa de refresco encontrada es de 56 Hz, y la más alta de 360 Hz."
   ]
  },
  {
   "cell_type": "code",
   "execution_count": 12,
   "id": "9ae461bd",
   "metadata": {},
   "outputs": [
    {
     "name": "stdout",
     "output_type": "stream",
     "text": [
      "Min: 56\n",
      "Max: 360\n"
     ]
    }
   ],
   "source": [
    "print(\"Min:\",df['Frecuencia de actualización'].min())\n",
    "print(\"Max:\",df['Frecuencia de actualización'].max())"
   ]
  },
  {
   "cell_type": "markdown",
   "id": "2406750c",
   "metadata": {},
   "source": [
    "## Monitor o monitores con la mayor frecuencia de actualización:"
   ]
  },
  {
   "cell_type": "markdown",
   "id": "cc29197e",
   "metadata": {},
   "source": [
    "<p>La mayor frecuencia de actualización disponible es 360 Hz y es compartido entre tres publicaciones; dos son el mismo monitor ViewSonic con distinto precio y el otro es marca ASUS. En resumen, sólo dos monitores tienen la mayor frecuencia.</p>"
   ]
  },
  {
   "cell_type": "code",
   "execution_count": 13,
   "id": "00b50190",
   "metadata": {},
   "outputs": [
    {
     "data": {
      "text/html": [
       "<div>\n",
       "<style scoped>\n",
       "    .dataframe tbody tr th:only-of-type {\n",
       "        vertical-align: middle;\n",
       "    }\n",
       "\n",
       "    .dataframe tbody tr th {\n",
       "        vertical-align: top;\n",
       "    }\n",
       "\n",
       "    .dataframe thead th {\n",
       "        text-align: right;\n",
       "    }\n",
       "</style>\n",
       "<table border=\"1\" class=\"dataframe\">\n",
       "  <thead>\n",
       "    <tr style=\"text-align: right;\">\n",
       "      <th></th>\n",
       "      <th>Marca</th>\n",
       "      <th>Modelo</th>\n",
       "      <th>Tamaño de la pantalla</th>\n",
       "      <th>Tipo de resolución</th>\n",
       "      <th>Tipo de pantalla</th>\n",
       "      <th>Frecuencia de actualización</th>\n",
       "      <th>Precio</th>\n",
       "      <th>Link</th>\n",
       "    </tr>\n",
       "  </thead>\n",
       "  <tbody>\n",
       "    <tr>\n",
       "      <th>94</th>\n",
       "      <td>Asus</td>\n",
       "      <td>PG259QNR</td>\n",
       "      <td>24.5</td>\n",
       "      <td>FHD</td>\n",
       "      <td>LCD/LED</td>\n",
       "      <td>360</td>\n",
       "      <td>479000</td>\n",
       "      <td>https://www.mercadolibre.com.ar/monitor-gamer-...</td>\n",
       "    </tr>\n",
       "    <tr>\n",
       "      <th>534</th>\n",
       "      <td>ViewSonic</td>\n",
       "      <td>XG251G</td>\n",
       "      <td>24.5</td>\n",
       "      <td>FHD</td>\n",
       "      <td>LCD/LED</td>\n",
       "      <td>360</td>\n",
       "      <td>461219</td>\n",
       "      <td>https://articulo.mercadolibre.com.ar/MLA-12043...</td>\n",
       "    </tr>\n",
       "    <tr>\n",
       "      <th>844</th>\n",
       "      <td>ViewSonic</td>\n",
       "      <td>XG251G</td>\n",
       "      <td>24.5</td>\n",
       "      <td>FHD</td>\n",
       "      <td>LCD/LED</td>\n",
       "      <td>360</td>\n",
       "      <td>622639</td>\n",
       "      <td>https://articulo.mercadolibre.com.ar/MLA-12036...</td>\n",
       "    </tr>\n",
       "  </tbody>\n",
       "</table>\n",
       "</div>"
      ],
      "text/plain": [
       "         Marca    Modelo  Tamaño de la pantalla Tipo de resolución  \\\n",
       "94        Asus  PG259QNR                   24.5                FHD   \n",
       "534  ViewSonic    XG251G                   24.5                FHD   \n",
       "844  ViewSonic    XG251G                   24.5                FHD   \n",
       "\n",
       "    Tipo de pantalla  Frecuencia de actualización  Precio  \\\n",
       "94           LCD/LED                          360  479000   \n",
       "534          LCD/LED                          360  461219   \n",
       "844          LCD/LED                          360  622639   \n",
       "\n",
       "                                                  Link  \n",
       "94   https://www.mercadolibre.com.ar/monitor-gamer-...  \n",
       "534  https://articulo.mercadolibre.com.ar/MLA-12043...  \n",
       "844  https://articulo.mercadolibre.com.ar/MLA-12036...  "
      ]
     },
     "execution_count": 13,
     "metadata": {},
     "output_type": "execute_result"
    }
   ],
   "source": [
    "df[(df['Frecuencia de actualización']==df['Frecuencia de actualización'].max())]"
   ]
  },
  {
   "cell_type": "markdown",
   "id": "be78086b",
   "metadata": {},
   "source": [
    "# Variedad de características según marca"
   ]
  },
  {
   "cell_type": "markdown",
   "id": "4cfbe180",
   "metadata": {},
   "source": [
    "En este apartado, se busca determinar qué marca tiene más variedad según el campo especificado."
   ]
  },
  {
   "cell_type": "markdown",
   "id": "38ed3111",
   "metadata": {},
   "source": [
    "## Definimos la función"
   ]
  },
  {
   "cell_type": "markdown",
   "id": "a3ed73ef",
   "metadata": {},
   "source": [
    "De cada marca, busca cuántos datos únicos tiene el campo que le pasemos por parámetro. La marca con la mayor cantidad (variedad) es la que se almacena. Si hay otra que la supere, se sobreescribe al igual que la cantidad."
   ]
  },
  {
   "cell_type": "code",
   "execution_count": 14,
   "id": "c4e4654c",
   "metadata": {},
   "outputs": [],
   "source": [
    "def marcaConMayorVariedad(campo):\n",
    "    marca = ''\n",
    "    mayorCantidad = 0    \n",
    "    for x in df['Marca'].unique():\n",
    "        cantidadCamposUnicos = len(df[(df['Marca'] == x)][campo].unique())\n",
    "        if cantidadCamposUnicos > mayorCantidad:\n",
    "            mayorCantidad = cantidadCamposUnicos\n",
    "            marca = x\n",
    "    return list((marca,mayorCantidad))\n",
    "    "
   ]
  },
  {
   "cell_type": "markdown",
   "id": "51743bb6",
   "metadata": {},
   "source": [
    "## Marca con mayor variedad de modelos:"
   ]
  },
  {
   "cell_type": "markdown",
   "id": "73fa359d",
   "metadata": {},
   "source": [
    "<p>La marca con mayor variedad de modelos es Samsung con 60 modelos diferentes.</p>"
   ]
  },
  {
   "cell_type": "code",
   "execution_count": 15,
   "id": "0006bfe8",
   "metadata": {
    "scrolled": true
   },
   "outputs": [
    {
     "data": {
      "text/plain": [
       "['Samsung', 60]"
      ]
     },
     "execution_count": 15,
     "metadata": {},
     "output_type": "execute_result"
    }
   ],
   "source": [
    "marcaConMayorVariedad('Modelo')"
   ]
  },
  {
   "cell_type": "markdown",
   "id": "ce966702",
   "metadata": {},
   "source": [
    "## Marca con mayor variedad de tamaños:"
   ]
  },
  {
   "cell_type": "markdown",
   "id": "27e474b8",
   "metadata": {},
   "source": [
    "<p>La marca con mayor variedad de tamaños es LG con 20 tamaños diferentes.</p>"
   ]
  },
  {
   "cell_type": "code",
   "execution_count": 16,
   "id": "05cfb68c",
   "metadata": {
    "scrolled": true
   },
   "outputs": [
    {
     "data": {
      "text/plain": [
       "['LG', 20]"
      ]
     },
     "execution_count": 16,
     "metadata": {},
     "output_type": "execute_result"
    }
   ],
   "source": [
    "marcaConMayorVariedad('Tamaño de la pantalla')"
   ]
  },
  {
   "cell_type": "markdown",
   "id": "77610852",
   "metadata": {},
   "source": [
    "## Marca con mayor variedad de resoluciones de pantalla:"
   ]
  },
  {
   "cell_type": "markdown",
   "id": "f0451091",
   "metadata": {},
   "source": [
    "<p>La marca con mayor variedad de resoluciones es LG con 7 resoluciones diferentes.</p>"
   ]
  },
  {
   "cell_type": "code",
   "execution_count": 17,
   "id": "c7f55a3e",
   "metadata": {},
   "outputs": [
    {
     "data": {
      "text/plain": [
       "['LG', 7]"
      ]
     },
     "execution_count": 17,
     "metadata": {},
     "output_type": "execute_result"
    }
   ],
   "source": [
    "marcaConMayorVariedad('Tipo de resolución')"
   ]
  },
  {
   "cell_type": "markdown",
   "id": "13461093",
   "metadata": {},
   "source": [
    "## Marca con mayor variedad de tipos de pantalla:"
   ]
  },
  {
   "cell_type": "markdown",
   "id": "2848e8eb",
   "metadata": {},
   "source": [
    "<p>La marca con mayor variedad de tipos de pantalla es Samsung con 4 tipos diferentes.</p>"
   ]
  },
  {
   "cell_type": "code",
   "execution_count": 18,
   "id": "2cc1a5a1",
   "metadata": {},
   "outputs": [
    {
     "data": {
      "text/plain": [
       "['Samsung', 4]"
      ]
     },
     "execution_count": 18,
     "metadata": {},
     "output_type": "execute_result"
    }
   ],
   "source": [
    "marcaConMayorVariedad('Tipo de pantalla')"
   ]
  },
  {
   "cell_type": "markdown",
   "id": "e07eda6f",
   "metadata": {},
   "source": [
    "## Histograma de precios"
   ]
  },
  {
   "cell_type": "markdown",
   "id": "f23769e5",
   "metadata": {},
   "source": [
    "<p>Cada barra del histograma representa ARS 50.000</p>\n",
    "<p>Se concluye que la mayoría de los monitores rondan entre ARS 37.000 y ARS 200.000</p>"
   ]
  },
  {
   "cell_type": "code",
   "execution_count": 19,
   "id": "de4fdff0",
   "metadata": {},
   "outputs": [
    {
     "data": {
      "text/plain": [
       "<AxesSubplot:ylabel='Frequency'>"
      ]
     },
     "execution_count": 19,
     "metadata": {},
     "output_type": "execute_result"
    },
    {
     "data": {
      "image/png": "[encoded data removed]",
      "text/plain": [
       "<Figure size 1440x720 with 1 Axes>"
      ]
     },
     "metadata": {
      "needs_background": "light"
     },
     "output_type": "display_data"
    }
   ],
   "source": [
    "df['Precio'].plot.hist(figsize=(20,10),bins = 120, edgecolor='black')"
   ]
  },
  {
   "cell_type": "markdown",
   "id": "0e18fbbf",
   "metadata": {},
   "source": [
    "## Relación entre precio y tamaño de pantalla"
   ]
  },
  {
   "cell_type": "code",
   "execution_count": 20,
   "id": "1e8027fb",
   "metadata": {
    "scrolled": false
   },
   "outputs": [
    {
     "data": {
      "text/plain": [
       "<AxesSubplot:xlabel='Precio', ylabel='Tamaño de la pantalla'>"
      ]
     },
     "execution_count": 20,
     "metadata": {},
     "output_type": "execute_result"
    },
    {
     "data": {
      "image/png": "[encoded data removed]",
      "text/plain": [
       "<Figure size 1440x720 with 1 Axes>"
      ]
     },
     "metadata": {
      "needs_background": "light"
     },
     "output_type": "display_data"
    }
   ],
   "source": [
    "df[['Precio','Tamaño de la pantalla']].plot.scatter(x=0,y=1,figsize=(20,10))"
   ]
  },
  {
   "cell_type": "markdown",
   "id": "adc88266",
   "metadata": {},
   "source": [
    "## Relación entre precio y frecuencia de actualización"
   ]
  },
  {
   "cell_type": "code",
   "execution_count": 21,
   "id": "4928132a",
   "metadata": {
    "scrolled": false
   },
   "outputs": [
    {
     "data": {
      "text/plain": [
       "<AxesSubplot:xlabel='Precio', ylabel='Frecuencia de actualización'>"
      ]
     },
     "execution_count": 21,
     "metadata": {},
     "output_type": "execute_result"
    },
    {
     "data": {
      "image/png": "[encoded data removed]",
      "text/plain": [
       "<Figure size 1440x720 with 1 Axes>"
      ]
     },
     "metadata": {
      "needs_background": "light"
     },
     "output_type": "display_data"
    }
   ],
   "source": [
    "df[['Precio','Frecuencia de actualización']].plot.scatter(x=0,y=1,figsize=(20,10))"
   ]
  },
  {
   "cell_type": "markdown",
   "id": "c05b9d28",
   "metadata": {},
   "source": [
    "## Los tres monitores más baratos:"
   ]
  },
  {
   "cell_type": "code",
   "execution_count": 22,
   "id": "f738cd84",
   "metadata": {},
   "outputs": [
    {
     "data": {
      "text/html": [
       "<div>\n",
       "<style scoped>\n",
       "    .dataframe tbody tr th:only-of-type {\n",
       "        vertical-align: middle;\n",
       "    }\n",
       "\n",
       "    .dataframe tbody tr th {\n",
       "        vertical-align: top;\n",
       "    }\n",
       "\n",
       "    .dataframe thead th {\n",
       "        text-align: right;\n",
       "    }\n",
       "</style>\n",
       "<table border=\"1\" class=\"dataframe\">\n",
       "  <thead>\n",
       "    <tr style=\"text-align: right;\">\n",
       "      <th></th>\n",
       "      <th>Marca</th>\n",
       "      <th>Modelo</th>\n",
       "      <th>Tamaño de la pantalla</th>\n",
       "      <th>Tipo de resolución</th>\n",
       "      <th>Tipo de pantalla</th>\n",
       "      <th>Frecuencia de actualización</th>\n",
       "      <th>Precio</th>\n",
       "      <th>Link</th>\n",
       "    </tr>\n",
       "  </thead>\n",
       "  <tbody>\n",
       "    <tr>\n",
       "      <th>1432</th>\n",
       "      <td>iQual</td>\n",
       "      <td>Home19</td>\n",
       "      <td>19.0</td>\n",
       "      <td>HD</td>\n",
       "      <td>LCD/LED</td>\n",
       "      <td>75</td>\n",
       "      <td>37000</td>\n",
       "      <td>https://articulo.mercadolibre.com.ar/MLA-14288...</td>\n",
       "    </tr>\n",
       "    <tr>\n",
       "      <th>1754</th>\n",
       "      <td>Gfast</td>\n",
       "      <td>T-195</td>\n",
       "      <td>19.5</td>\n",
       "      <td>HD</td>\n",
       "      <td>LCD/LED</td>\n",
       "      <td>60</td>\n",
       "      <td>39999</td>\n",
       "      <td>https://articulo.mercadolibre.com.ar/MLA-14652...</td>\n",
       "    </tr>\n",
       "    <tr>\n",
       "      <th>1775</th>\n",
       "      <td>HP</td>\n",
       "      <td>V190</td>\n",
       "      <td>18.5</td>\n",
       "      <td>WXGA</td>\n",
       "      <td>LCD/LED</td>\n",
       "      <td>60</td>\n",
       "      <td>44800</td>\n",
       "      <td>https://www.mercadolibre.com.ar/monitor-hp-v19...</td>\n",
       "    </tr>\n",
       "  </tbody>\n",
       "</table>\n",
       "</div>"
      ],
      "text/plain": [
       "      Marca  Modelo  Tamaño de la pantalla Tipo de resolución  \\\n",
       "1432  iQual  Home19                   19.0                 HD   \n",
       "1754  Gfast   T-195                   19.5                 HD   \n",
       "1775     HP    V190                   18.5               WXGA   \n",
       "\n",
       "     Tipo de pantalla  Frecuencia de actualización  Precio  \\\n",
       "1432          LCD/LED                           75   37000   \n",
       "1754          LCD/LED                           60   39999   \n",
       "1775          LCD/LED                           60   44800   \n",
       "\n",
       "                                                   Link  \n",
       "1432  https://articulo.mercadolibre.com.ar/MLA-14288...  \n",
       "1754  https://articulo.mercadolibre.com.ar/MLA-14652...  \n",
       "1775  https://www.mercadolibre.com.ar/monitor-hp-v19...  "
      ]
     },
     "execution_count": 22,
     "metadata": {},
     "output_type": "execute_result"
    }
   ],
   "source": [
    "df.sort_values(by='Precio').head(3)"
   ]
  },
  {
   "cell_type": "markdown",
   "id": "7832b3b4",
   "metadata": {},
   "source": [
    "## Los tres monitores más caros:"
   ]
  },
  {
   "cell_type": "markdown",
   "id": "a7c47b9e",
   "metadata": {},
   "source": [
    "<p>Todos coinciden con la marca Apple. Tienen resoluciones UHD (Ultra High Definition) entre 5K y 6K. Y sus precios van entre ARS 5.000.000 y ARS 6.000.000</p>"
   ]
  },
  {
   "cell_type": "code",
   "execution_count": 23,
   "id": "145cdcd8",
   "metadata": {
    "scrolled": true
   },
   "outputs": [
    {
     "data": {
      "text/html": [
       "<div>\n",
       "<style scoped>\n",
       "    .dataframe tbody tr th:only-of-type {\n",
       "        vertical-align: middle;\n",
       "    }\n",
       "\n",
       "    .dataframe tbody tr th {\n",
       "        vertical-align: top;\n",
       "    }\n",
       "\n",
       "    .dataframe thead th {\n",
       "        text-align: right;\n",
       "    }\n",
       "</style>\n",
       "<table border=\"1\" class=\"dataframe\">\n",
       "  <thead>\n",
       "    <tr style=\"text-align: right;\">\n",
       "      <th></th>\n",
       "      <th>Marca</th>\n",
       "      <th>Modelo</th>\n",
       "      <th>Tamaño de la pantalla</th>\n",
       "      <th>Tipo de resolución</th>\n",
       "      <th>Tipo de pantalla</th>\n",
       "      <th>Frecuencia de actualización</th>\n",
       "      <th>Precio</th>\n",
       "      <th>Link</th>\n",
       "    </tr>\n",
       "  </thead>\n",
       "  <tbody>\n",
       "    <tr>\n",
       "      <th>1611</th>\n",
       "      <td>Apple</td>\n",
       "      <td>XDR NANO</td>\n",
       "      <td>32.0</td>\n",
       "      <td>UHD 6K</td>\n",
       "      <td>LCD/LED</td>\n",
       "      <td>60</td>\n",
       "      <td>5999999</td>\n",
       "      <td>https://articulo.mercadolibre.com.ar/MLA-11874...</td>\n",
       "    </tr>\n",
       "    <tr>\n",
       "      <th>1672</th>\n",
       "      <td>Apple</td>\n",
       "      <td>XDR STANDARD</td>\n",
       "      <td>32.0</td>\n",
       "      <td>UHD 6K</td>\n",
       "      <td>LCD/LED</td>\n",
       "      <td>60</td>\n",
       "      <td>5599999</td>\n",
       "      <td>https://articulo.mercadolibre.com.ar/MLA-11874...</td>\n",
       "    </tr>\n",
       "    <tr>\n",
       "      <th>1673</th>\n",
       "      <td>Apple</td>\n",
       "      <td>XDR NANO</td>\n",
       "      <td>27.0</td>\n",
       "      <td>UHD 5K</td>\n",
       "      <td>LCD/LED</td>\n",
       "      <td>60</td>\n",
       "      <td>4999999</td>\n",
       "      <td>https://articulo.mercadolibre.com.ar/MLA-11000...</td>\n",
       "    </tr>\n",
       "  </tbody>\n",
       "</table>\n",
       "</div>"
      ],
      "text/plain": [
       "      Marca        Modelo  Tamaño de la pantalla Tipo de resolución  \\\n",
       "1611  Apple      XDR NANO                   32.0             UHD 6K   \n",
       "1672  Apple  XDR STANDARD                   32.0             UHD 6K   \n",
       "1673  Apple      XDR NANO                   27.0             UHD 5K   \n",
       "\n",
       "     Tipo de pantalla  Frecuencia de actualización   Precio  \\\n",
       "1611          LCD/LED                           60  5999999   \n",
       "1672          LCD/LED                           60  5599999   \n",
       "1673          LCD/LED                           60  4999999   \n",
       "\n",
       "                                                   Link  \n",
       "1611  https://articulo.mercadolibre.com.ar/MLA-11874...  \n",
       "1672  https://articulo.mercadolibre.com.ar/MLA-11874...  \n",
       "1673  https://articulo.mercadolibre.com.ar/MLA-11000...  "
      ]
     },
     "execution_count": 23,
     "metadata": {},
     "output_type": "execute_result"
    }
   ],
   "source": [
    "df.sort_values(by='Precio', ascending = False).head(3)"
   ]
  },
  {
   "cell_type": "markdown",
   "id": "2559d105",
   "metadata": {},
   "source": [
    "## La marca más cara en promedio:"
   ]
  },
  {
   "cell_type": "markdown",
   "id": "3a04d575",
   "metadata": {},
   "source": [
    "<p>Apple, con un precio promedio de ARS 5.533.332,3</p>"
   ]
  },
  {
   "cell_type": "code",
   "execution_count": 24,
   "id": "a36bcfb7",
   "metadata": {
    "scrolled": false
   },
   "outputs": [
    {
     "data": {
      "text/plain": [
       "Precio   5533332.3\n",
       "Name: Apple, dtype: float64"
      ]
     },
     "execution_count": 24,
     "metadata": {},
     "output_type": "execute_result"
    }
   ],
   "source": [
    "df[['Marca','Precio']].groupby('Marca').mean().sort_values(by='Precio', ascending=False).iloc[0]"
   ]
  }
 ],
 "metadata": {
  "kernelspec": {
   "display_name": "Python 3 (ipykernel)",
   "language": "python",
   "name": "python3"
  },
  "language_info": {
   "codemirror_mode": {
    "name": "ipython",
    "version": 3
   },
   "file_extension": ".py",
   "mimetype": "text/x-python",
   "name": "python",
   "nbconvert_exporter": "python",
   "pygments_lexer": "ipython3",
   "version": "3.9.12"
  }
 },
 "nbformat": 4,
 "nbformat_minor": 5
}
