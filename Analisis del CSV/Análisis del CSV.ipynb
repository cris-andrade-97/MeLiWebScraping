{
 "cells": [
  {
   "cell_type": "code",
   "execution_count": 1,
   "id": "3c3126b1",
   "metadata": {},
   "outputs": [],
   "source": [
    "import pandas as pd\n",
    "import matplotlib.pyplot as plt\n",
    "import seaborn as sb"
   ]
  },
  {
   "cell_type": "markdown",
   "id": "a48efb9d",
   "metadata": {},
   "source": [
    "## Importamos los registros limpios y los exhibimos"
   ]
  },
  {
   "cell_type": "code",
   "execution_count": 2,
   "id": "dfb49fa0",
   "metadata": {},
   "outputs": [
    {
     "data": {
      "text/html": [
       "<div>\n",
       "<style scoped>\n",
       "    .dataframe tbody tr th:only-of-type {\n",
       "        vertical-align: middle;\n",
       "    }\n",
       "\n",
       "    .dataframe tbody tr th {\n",
       "        vertical-align: top;\n",
       "    }\n",
       "\n",
       "    .dataframe thead th {\n",
       "        text-align: right;\n",
       "    }\n",
       "</style>\n",
       "<table border=\"1\" class=\"dataframe\">\n",
       "  <thead>\n",
       "    <tr style=\"text-align: right;\">\n",
       "      <th></th>\n",
       "      <th>Marca</th>\n",
       "      <th>Modelo</th>\n",
       "      <th>Tamaño de la pantalla</th>\n",
       "      <th>Tipo de resolución</th>\n",
       "      <th>Tipo de pantalla</th>\n",
       "      <th>Frecuencia de actualización</th>\n",
       "      <th>Precio</th>\n",
       "      <th>Link</th>\n",
       "    </tr>\n",
       "  </thead>\n",
       "  <tbody>\n",
       "    <tr>\n",
       "      <th>0</th>\n",
       "      <td>Philips</td>\n",
       "      <td>271E1SCA/55</td>\n",
       "      <td>27</td>\n",
       "      <td>FHD</td>\n",
       "      <td>LCD</td>\n",
       "      <td>75</td>\n",
       "      <td>185999</td>\n",
       "      <td>https://www.mercadolibre.com.ar/monitor-gamer-...</td>\n",
       "    </tr>\n",
       "    <tr>\n",
       "      <th>1</th>\n",
       "      <td>Samsung</td>\n",
       "      <td>F24T35</td>\n",
       "      <td>24</td>\n",
       "      <td>FHD</td>\n",
       "      <td>LED</td>\n",
       "      <td>75</td>\n",
       "      <td>86999</td>\n",
       "      <td>https://www.mercadolibre.com.ar/monitor-gamer-...</td>\n",
       "    </tr>\n",
       "    <tr>\n",
       "      <th>2</th>\n",
       "      <td>Samsung</td>\n",
       "      <td>F22T35</td>\n",
       "      <td>22</td>\n",
       "      <td>FHD</td>\n",
       "      <td>LED</td>\n",
       "      <td>75</td>\n",
       "      <td>75999</td>\n",
       "      <td>https://www.mercadolibre.com.ar/monitor-gamer-...</td>\n",
       "    </tr>\n",
       "    <tr>\n",
       "      <th>3</th>\n",
       "      <td>Noblex</td>\n",
       "      <td>MK24X7100</td>\n",
       "      <td>24</td>\n",
       "      <td>FHD</td>\n",
       "      <td>LED</td>\n",
       "      <td>75</td>\n",
       "      <td>66990</td>\n",
       "      <td>https://www.mercadolibre.com.ar/monitor-led-no...</td>\n",
       "    </tr>\n",
       "    <tr>\n",
       "      <th>4</th>\n",
       "      <td>Philips</td>\n",
       "      <td>221V8</td>\n",
       "      <td>22</td>\n",
       "      <td>FHD</td>\n",
       "      <td>LCD</td>\n",
       "      <td>75</td>\n",
       "      <td>51499</td>\n",
       "      <td>https://www.mercadolibre.com.ar/monitor-gamer-...</td>\n",
       "    </tr>\n",
       "  </tbody>\n",
       "</table>\n",
       "</div>"
      ],
      "text/plain": [
       "     Marca       Modelo  Tamaño de la pantalla Tipo de resolución  \\\n",
       "0  Philips  271E1SCA/55                     27                FHD   \n",
       "1  Samsung       F24T35                     24                FHD   \n",
       "2  Samsung       F22T35                     22                FHD   \n",
       "3   Noblex    MK24X7100                     24                FHD   \n",
       "4  Philips        221V8                     22                FHD   \n",
       "\n",
       "  Tipo de pantalla  Frecuencia de actualización  Precio  \\\n",
       "0              LCD                           75  185999   \n",
       "1              LED                           75   86999   \n",
       "2              LED                           75   75999   \n",
       "3              LED                           75   66990   \n",
       "4              LCD                           75   51499   \n",
       "\n",
       "                                                Link  \n",
       "0  https://www.mercadolibre.com.ar/monitor-gamer-...  \n",
       "1  https://www.mercadolibre.com.ar/monitor-gamer-...  \n",
       "2  https://www.mercadolibre.com.ar/monitor-gamer-...  \n",
       "3  https://www.mercadolibre.com.ar/monitor-led-no...  \n",
       "4  https://www.mercadolibre.com.ar/monitor-gamer-...  "
      ]
     },
     "execution_count": 2,
     "metadata": {},
     "output_type": "execute_result"
    }
   ],
   "source": [
    "df = pd.read_csv('Monitores Nuevos - Registros limpios - Mercado Libre Argentina - Agosto 2023.csv', index_col= 0)\n",
    "\n",
    "# Números exhibidos como enteros redondos\n",
    "pd.options.display.float_format = '{:.0f}'.format\n",
    "\n",
    "df.head()"
   ]
  },
  {
   "cell_type": "code",
   "execution_count": 3,
   "id": "dc5a9320",
   "metadata": {
    "scrolled": false
   },
   "outputs": [
    {
     "name": "stdout",
     "output_type": "stream",
     "text": [
      "\n"
     ]
    }
   ],
   "source": [
    "'''df['Marca'].value_counts().plot.bar(figsize=(20,5))\n",
    "df['Tamaño de la pantalla'].value_counts().plot.bar(figsize=(20,5),xlabel='Tamaño de la pantalla',ylabel='Frecuencia')\n",
    "df['Tipo de resolución'].value_counts().plot.bar(figsize=(10,5))\n",
    "df['Tipo de pantalla'].value_counts().plot.bar(figsize=(10,5))\n",
    "df['Frecuencia de actualización'].value_counts().plot.bar(figsize=(10,5))\n",
    "df.groupby('Marca').mean().sort_values(by='Precio', ascending=False).plot.bar(figsize=(20,10))\n",
    "df[(df['Marca']!='Apple')].groupby('Marca').mean().sort_values(by='Precio', ascending=False).plot.bar(figsize=(20,10))\n",
    "df.groupby('Marca').mean().sort_values(by='Precio', ascending=False)'''\n",
    "print()"
   ]
  },
  {
   "cell_type": "markdown",
   "id": "bdeaa005",
   "metadata": {},
   "source": [
    "## Cantidad de registros:"
   ]
  },
  {
   "cell_type": "code",
   "execution_count": 4,
   "id": "31626eac",
   "metadata": {},
   "outputs": [
    {
     "name": "stdout",
     "output_type": "stream",
     "text": [
      "1240\n"
     ]
    }
   ],
   "source": [
    "print(len(df))"
   ]
  },
  {
   "cell_type": "markdown",
   "id": "e3feed50",
   "metadata": {},
   "source": [
    "## Presencia de cada marca en el sitio:"
   ]
  },
  {
   "cell_type": "code",
   "execution_count": 5,
   "id": "e6558642",
   "metadata": {},
   "outputs": [
    {
     "data": {
      "text/plain": [
       "LG              324\n",
       "Samsung         297\n",
       "Philips         138\n",
       "ViewSonic        73\n",
       "Asus             70\n",
       "Acer             39\n",
       "HP               37\n",
       "Gigabyte         31\n",
       "Dell             27\n",
       "Level Up         26\n",
       "BenQ             24\n",
       "Daewoo           20\n",
       "Gfast            20\n",
       "Noblex           16\n",
       "AOC              13\n",
       "Redragon         12\n",
       "MSI               7\n",
       "Lenovo            6\n",
       "iQual             6\n",
       "HKC               5\n",
       "JBMI              4\n",
       "E-View            4\n",
       "Westinghouse      4\n",
       "BeOne             3\n",
       "Noxido            3\n",
       "CX                3\n",
       "Hikvision         3\n",
       "Apple             3\n",
       "Gadnic            3\n",
       "CHECKPOINT        2\n",
       "Enova             2\n",
       "Naxido            2\n",
       "Etheos            2\n",
       "HDC               1\n",
       "G-FAST            1\n",
       "Tedge             1\n",
       "Suono             1\n",
       "Ozone             1\n",
       "Mtek              1\n",
       "Sceptre           1\n",
       "AOpen             1\n",
       "NEC               1\n",
       "Aorus             1\n",
       "Viotek            1\n",
       "Name: Marca, dtype: int64"
      ]
     },
     "execution_count": 5,
     "metadata": {},
     "output_type": "execute_result"
    }
   ],
   "source": [
    "df['Marca'].value_counts()"
   ]
  },
  {
   "cell_type": "markdown",
   "id": "4d1fb45e",
   "metadata": {},
   "source": [
    "## Rango de tamaños para monitores en el sitio:"
   ]
  },
  {
   "cell_type": "code",
   "execution_count": 6,
   "id": "4dc9e5c9",
   "metadata": {},
   "outputs": [
    {
     "name": "stdout",
     "output_type": "stream",
     "text": [
      "Tamaño más pequeño disponible: 15.6\n",
      "Tamaño más grande disponible: 49.0\n"
     ]
    }
   ],
   "source": [
    "tamaniosDeMonitorUnicos = list(df['Tamaño de la pantalla'].unique())\n",
    "tamaniosDeMonitorUnicos.sort()\n",
    "print('Tamaño más pequeño disponible:',tamaniosDeMonitorUnicos[0])\n",
    "print('Tamaño más grande disponible:',tamaniosDeMonitorUnicos[len(tamaniosDeMonitorUnicos)-1])"
   ]
  },
  {
   "cell_type": "markdown",
   "id": "7687b9fb",
   "metadata": {},
   "source": [
    "## Rango de precios para monitores en el sitio:"
   ]
  },
  {
   "cell_type": "code",
   "execution_count": 7,
   "id": "8b4c08c8",
   "metadata": {},
   "outputs": [
    {
     "name": "stdout",
     "output_type": "stream",
     "text": [
      "Precio más barato disponible: 37000\n",
      "Precio más caro disponible: ARS 5999999\n"
     ]
    }
   ],
   "source": [
    "preciosUnicos = list(df['Precio'].unique())\n",
    "preciosUnicos.sort()\n",
    "print('Precio más barato disponible:',preciosUnicos[0])\n",
    "print('Precio más caro disponible: ARS',preciosUnicos[len(preciosUnicos)-1])"
   ]
  },
  {
   "cell_type": "markdown",
   "id": "94ad0554",
   "metadata": {},
   "source": [
    "## Monitor o monitores con la mayor frecuencia de actualización del sitio:"
   ]
  },
  {
   "cell_type": "code",
   "execution_count": 8,
   "id": "117ba689",
   "metadata": {},
   "outputs": [
    {
     "data": {
      "text/html": [
       "<div>\n",
       "<style scoped>\n",
       "    .dataframe tbody tr th:only-of-type {\n",
       "        vertical-align: middle;\n",
       "    }\n",
       "\n",
       "    .dataframe tbody tr th {\n",
       "        vertical-align: top;\n",
       "    }\n",
       "\n",
       "    .dataframe thead th {\n",
       "        text-align: right;\n",
       "    }\n",
       "</style>\n",
       "<table border=\"1\" class=\"dataframe\">\n",
       "  <thead>\n",
       "    <tr style=\"text-align: right;\">\n",
       "      <th></th>\n",
       "      <th>Marca</th>\n",
       "      <th>Modelo</th>\n",
       "      <th>Tamaño de la pantalla</th>\n",
       "      <th>Tipo de resolución</th>\n",
       "      <th>Tipo de pantalla</th>\n",
       "      <th>Frecuencia de actualización</th>\n",
       "      <th>Precio</th>\n",
       "      <th>Link</th>\n",
       "    </tr>\n",
       "  </thead>\n",
       "  <tbody>\n",
       "    <tr>\n",
       "      <th>94</th>\n",
       "      <td>Asus</td>\n",
       "      <td>PG259QNR</td>\n",
       "      <td>24</td>\n",
       "      <td>FHD</td>\n",
       "      <td>LED</td>\n",
       "      <td>360</td>\n",
       "      <td>479000</td>\n",
       "      <td>https://www.mercadolibre.com.ar/monitor-gamer-...</td>\n",
       "    </tr>\n",
       "    <tr>\n",
       "      <th>534</th>\n",
       "      <td>ViewSonic</td>\n",
       "      <td>XG251G</td>\n",
       "      <td>24</td>\n",
       "      <td>FHD</td>\n",
       "      <td>LED</td>\n",
       "      <td>360</td>\n",
       "      <td>461219</td>\n",
       "      <td>https://articulo.mercadolibre.com.ar/MLA-12043...</td>\n",
       "    </tr>\n",
       "    <tr>\n",
       "      <th>844</th>\n",
       "      <td>ViewSonic</td>\n",
       "      <td>XG251G</td>\n",
       "      <td>24</td>\n",
       "      <td>FHD</td>\n",
       "      <td>LED</td>\n",
       "      <td>360</td>\n",
       "      <td>622639</td>\n",
       "      <td>https://articulo.mercadolibre.com.ar/MLA-12036...</td>\n",
       "    </tr>\n",
       "  </tbody>\n",
       "</table>\n",
       "</div>"
      ],
      "text/plain": [
       "         Marca    Modelo  Tamaño de la pantalla Tipo de resolución  \\\n",
       "94        Asus  PG259QNR                     24                FHD   \n",
       "534  ViewSonic    XG251G                     24                FHD   \n",
       "844  ViewSonic    XG251G                     24                FHD   \n",
       "\n",
       "    Tipo de pantalla  Frecuencia de actualización  Precio  \\\n",
       "94               LED                          360  479000   \n",
       "534              LED                          360  461219   \n",
       "844              LED                          360  622639   \n",
       "\n",
       "                                                  Link  \n",
       "94   https://www.mercadolibre.com.ar/monitor-gamer-...  \n",
       "534  https://articulo.mercadolibre.com.ar/MLA-12043...  \n",
       "844  https://articulo.mercadolibre.com.ar/MLA-12036...  "
      ]
     },
     "execution_count": 8,
     "metadata": {},
     "output_type": "execute_result"
    }
   ],
   "source": [
    "frecuenciasUnicas = list(df['Frecuencia de actualización'].unique())\n",
    "frecuenciasUnicas.sort(reverse = True)\n",
    "df[(df['Frecuencia de actualización'] == frecuenciasUnicas[0])]"
   ]
  },
  {
   "cell_type": "markdown",
   "id": "77888301",
   "metadata": {},
   "source": [
    "## Resolución de pantalla más común del sitio: FHD (Full High Definition)"
   ]
  },
  {
   "cell_type": "code",
   "execution_count": 9,
   "id": "aa40ada1",
   "metadata": {},
   "outputs": [
    {
     "data": {
      "text/plain": [
       "<AxesSubplot:>"
      ]
     },
     "execution_count": 9,
     "metadata": {},
     "output_type": "execute_result"
    },
    {
     "data": {
      "image/png": "[encoded data removed]",
      "text/plain": [
       "<Figure size 720x360 with 1 Axes>"
      ]
     },
     "metadata": {
      "needs_background": "light"
     },
     "output_type": "display_data"
    }
   ],
   "source": [
    "df['Tipo de resolución'].value_counts().plot.bar(figsize=(10,5))"
   ]
  },
  {
   "cell_type": "markdown",
   "id": "8f726b3e",
   "metadata": {},
   "source": [
    "## Tipos de pantalla disponibles y su cantidad:"
   ]
  },
  {
   "cell_type": "code",
   "execution_count": 10,
   "id": "55fbb2fb",
   "metadata": {},
   "outputs": [
    {
     "data": {
      "text/plain": [
       "LED        1060\n",
       "LCD         157\n",
       "LCD TFT       8\n",
       "LCD/LED       7\n",
       "LED IPS       4\n",
       "LED VA        3\n",
       "QLED          1\n",
       "Name: Tipo de pantalla, dtype: int64"
      ]
     },
     "execution_count": 10,
     "metadata": {},
     "output_type": "execute_result"
    }
   ],
   "source": [
    "df['Tipo de pantalla'].value_counts()"
   ]
  },
  {
   "cell_type": "markdown",
   "id": "3163b0c9",
   "metadata": {},
   "source": [
    "## Los tres monitores más caros del sitio:"
   ]
  },
  {
   "cell_type": "markdown",
   "id": "698b4d07",
   "metadata": {},
   "source": [
    "<p>Todos coinciden con la marca Apple. Tienen resoluciones UHD (Ultra High Definition) entre 5K y 6K. Y sus precios van entre 5 y s</p>"
   ]
  },
  {
   "cell_type": "code",
   "execution_count": 11,
   "id": "f1f8a814",
   "metadata": {
    "scrolled": true
   },
   "outputs": [
    {
     "data": {
      "text/html": [
       "<div>\n",
       "<style scoped>\n",
       "    .dataframe tbody tr th:only-of-type {\n",
       "        vertical-align: middle;\n",
       "    }\n",
       "\n",
       "    .dataframe tbody tr th {\n",
       "        vertical-align: top;\n",
       "    }\n",
       "\n",
       "    .dataframe thead th {\n",
       "        text-align: right;\n",
       "    }\n",
       "</style>\n",
       "<table border=\"1\" class=\"dataframe\">\n",
       "  <thead>\n",
       "    <tr style=\"text-align: right;\">\n",
       "      <th></th>\n",
       "      <th>Marca</th>\n",
       "      <th>Modelo</th>\n",
       "      <th>Tamaño de la pantalla</th>\n",
       "      <th>Tipo de resolución</th>\n",
       "      <th>Tipo de pantalla</th>\n",
       "      <th>Frecuencia de actualización</th>\n",
       "      <th>Precio</th>\n",
       "      <th>Link</th>\n",
       "    </tr>\n",
       "  </thead>\n",
       "  <tbody>\n",
       "    <tr>\n",
       "      <th>1611</th>\n",
       "      <td>Apple</td>\n",
       "      <td>XDR NANO</td>\n",
       "      <td>32</td>\n",
       "      <td>UHD 6K</td>\n",
       "      <td>LED</td>\n",
       "      <td>47</td>\n",
       "      <td>5999999</td>\n",
       "      <td>https://articulo.mercadolibre.com.ar/MLA-11874...</td>\n",
       "    </tr>\n",
       "    <tr>\n",
       "      <th>1672</th>\n",
       "      <td>Apple</td>\n",
       "      <td>XDR STANDARD</td>\n",
       "      <td>32</td>\n",
       "      <td>UHD 6K</td>\n",
       "      <td>LED</td>\n",
       "      <td>47</td>\n",
       "      <td>5599999</td>\n",
       "      <td>https://articulo.mercadolibre.com.ar/MLA-11874...</td>\n",
       "    </tr>\n",
       "    <tr>\n",
       "      <th>1673</th>\n",
       "      <td>Apple</td>\n",
       "      <td>XDR NANO</td>\n",
       "      <td>27</td>\n",
       "      <td>UHD 5K</td>\n",
       "      <td>LED</td>\n",
       "      <td>47</td>\n",
       "      <td>4999999</td>\n",
       "      <td>https://articulo.mercadolibre.com.ar/MLA-11000...</td>\n",
       "    </tr>\n",
       "  </tbody>\n",
       "</table>\n",
       "</div>"
      ],
      "text/plain": [
       "      Marca        Modelo  Tamaño de la pantalla Tipo de resolución  \\\n",
       "1611  Apple      XDR NANO                     32             UHD 6K   \n",
       "1672  Apple  XDR STANDARD                     32             UHD 6K   \n",
       "1673  Apple      XDR NANO                     27             UHD 5K   \n",
       "\n",
       "     Tipo de pantalla  Frecuencia de actualización   Precio  \\\n",
       "1611              LED                           47  5999999   \n",
       "1672              LED                           47  5599999   \n",
       "1673              LED                           47  4999999   \n",
       "\n",
       "                                                   Link  \n",
       "1611  https://articulo.mercadolibre.com.ar/MLA-11874...  \n",
       "1672  https://articulo.mercadolibre.com.ar/MLA-11874...  \n",
       "1673  https://articulo.mercadolibre.com.ar/MLA-11000...  "
      ]
     },
     "execution_count": 11,
     "metadata": {},
     "output_type": "execute_result"
    }
   ],
   "source": [
    "df.sort_values(by='Precio', ascending = False).head(3)"
   ]
  }
 ],
 "metadata": {
  "kernelspec": {
   "display_name": "Python 3 (ipykernel)",
   "language": "python",
   "name": "python3"
  },
  "language_info": {
   "codemirror_mode": {
    "name": "ipython",
    "version": 3
   },
   "file_extension": ".py",
   "mimetype": "text/x-python",
   "name": "python",
   "nbconvert_exporter": "python",
   "pygments_lexer": "ipython3",
   "version": "3.9.12"
  }
 },
 "nbformat": 4,
 "nbformat_minor": 5
}
