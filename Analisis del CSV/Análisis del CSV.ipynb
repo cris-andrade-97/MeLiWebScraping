{
 "cells": [
  {
   "cell_type": "code",
   "execution_count": 1,
   "id": "3c3126b1",
   "metadata": {},
   "outputs": [],
   "source": [
    "import pandas as pd\n",
    "import matplotlib.pyplot as plt\n",
    "import seaborn as sb"
   ]
  },
  {
   "cell_type": "markdown",
   "id": "a48efb9d",
   "metadata": {},
   "source": [
    "## Importamos los registros limpios y los exhibimos"
   ]
  },
  {
   "cell_type": "code",
   "execution_count": 2,
   "id": "dfb49fa0",
   "metadata": {},
   "outputs": [
    {
     "data": {
      "text/html": [
       "<div>\n",
       "<style scoped>\n",
       "    .dataframe tbody tr th:only-of-type {\n",
       "        vertical-align: middle;\n",
       "    }\n",
       "\n",
       "    .dataframe tbody tr th {\n",
       "        vertical-align: top;\n",
       "    }\n",
       "\n",
       "    .dataframe thead th {\n",
       "        text-align: right;\n",
       "    }\n",
       "</style>\n",
       "<table border=\"1\" class=\"dataframe\">\n",
       "  <thead>\n",
       "    <tr style=\"text-align: right;\">\n",
       "      <th></th>\n",
       "      <th>Marca</th>\n",
       "      <th>Modelo</th>\n",
       "      <th>Tamaño de la pantalla</th>\n",
       "      <th>Tipo de resolución</th>\n",
       "      <th>Tipo de pantalla</th>\n",
       "      <th>Frecuencia de actualización</th>\n",
       "      <th>Precio</th>\n",
       "      <th>Link</th>\n",
       "    </tr>\n",
       "  </thead>\n",
       "  <tbody>\n",
       "    <tr>\n",
       "      <th>0</th>\n",
       "      <td>Philips</td>\n",
       "      <td>271E1SCA/55</td>\n",
       "      <td>27</td>\n",
       "      <td>FHD</td>\n",
       "      <td>LCD</td>\n",
       "      <td>75</td>\n",
       "      <td>185999</td>\n",
       "      <td>https://www.mercadolibre.com.ar/monitor-gamer-...</td>\n",
       "    </tr>\n",
       "    <tr>\n",
       "      <th>1</th>\n",
       "      <td>Samsung</td>\n",
       "      <td>F24T35</td>\n",
       "      <td>24</td>\n",
       "      <td>FHD</td>\n",
       "      <td>LED</td>\n",
       "      <td>75</td>\n",
       "      <td>86999</td>\n",
       "      <td>https://www.mercadolibre.com.ar/monitor-gamer-...</td>\n",
       "    </tr>\n",
       "    <tr>\n",
       "      <th>2</th>\n",
       "      <td>Samsung</td>\n",
       "      <td>F22T35</td>\n",
       "      <td>22</td>\n",
       "      <td>FHD</td>\n",
       "      <td>LED</td>\n",
       "      <td>75</td>\n",
       "      <td>75999</td>\n",
       "      <td>https://www.mercadolibre.com.ar/monitor-gamer-...</td>\n",
       "    </tr>\n",
       "    <tr>\n",
       "      <th>3</th>\n",
       "      <td>Noblex</td>\n",
       "      <td>MK24X7100</td>\n",
       "      <td>24</td>\n",
       "      <td>FHD</td>\n",
       "      <td>LED</td>\n",
       "      <td>75</td>\n",
       "      <td>66990</td>\n",
       "      <td>https://www.mercadolibre.com.ar/monitor-led-no...</td>\n",
       "    </tr>\n",
       "    <tr>\n",
       "      <th>4</th>\n",
       "      <td>Philips</td>\n",
       "      <td>221V8</td>\n",
       "      <td>22</td>\n",
       "      <td>FHD</td>\n",
       "      <td>LCD</td>\n",
       "      <td>75</td>\n",
       "      <td>51499</td>\n",
       "      <td>https://www.mercadolibre.com.ar/monitor-gamer-...</td>\n",
       "    </tr>\n",
       "  </tbody>\n",
       "</table>\n",
       "</div>"
      ],
      "text/plain": [
       "     Marca       Modelo  Tamaño de la pantalla Tipo de resolución  \\\n",
       "0  Philips  271E1SCA/55                     27                FHD   \n",
       "1  Samsung       F24T35                     24                FHD   \n",
       "2  Samsung       F22T35                     22                FHD   \n",
       "3   Noblex    MK24X7100                     24                FHD   \n",
       "4  Philips        221V8                     22                FHD   \n",
       "\n",
       "  Tipo de pantalla  Frecuencia de actualización  Precio  \\\n",
       "0              LCD                           75  185999   \n",
       "1              LED                           75   86999   \n",
       "2              LED                           75   75999   \n",
       "3              LED                           75   66990   \n",
       "4              LCD                           75   51499   \n",
       "\n",
       "                                                Link  \n",
       "0  https://www.mercadolibre.com.ar/monitor-gamer-...  \n",
       "1  https://www.mercadolibre.com.ar/monitor-gamer-...  \n",
       "2  https://www.mercadolibre.com.ar/monitor-gamer-...  \n",
       "3  https://www.mercadolibre.com.ar/monitor-led-no...  \n",
       "4  https://www.mercadolibre.com.ar/monitor-gamer-...  "
      ]
     },
     "execution_count": 2,
     "metadata": {},
     "output_type": "execute_result"
    }
   ],
   "source": [
    "df = pd.read_csv('Monitores Nuevos - Registros limpios - Mercado Libre Argentina - Agosto 2023.csv', index_col= 0)\n",
    "\n",
    "# Números exhibidos como enteros redondos\n",
    "pd.options.display.float_format = '{:.0f}'.format\n",
    "\n",
    "df.head()"
   ]
  },
  {
   "cell_type": "code",
   "execution_count": 3,
   "id": "dc5a9320",
   "metadata": {
    "scrolled": false
   },
   "outputs": [
    {
     "name": "stdout",
     "output_type": "stream",
     "text": [
      "\n"
     ]
    }
   ],
   "source": [
    "'''df['Marca'].value_counts().plot.bar(figsize=(20,5))\n",
    "df['Tamaño de la pantalla'].value_counts().plot.bar(figsize=(20,5),xlabel='Tamaño de la pantalla',ylabel='Frecuencia')\n",
    "df['Tipo de resolución'].value_counts().plot.bar(figsize=(10,5))\n",
    "df['Tipo de pantalla'].value_counts().plot.bar(figsize=(10,5))\n",
    "df['Frecuencia de actualización'].value_counts().plot.bar(figsize=(10,5))\n",
    "df.groupby('Marca').mean().sort_values(by='Precio', ascending=False).plot.bar(figsize=(20,10))\n",
    "df[(df['Marca']!='Apple')].groupby('Marca').mean().sort_values(by='Precio', ascending=False).plot.bar(figsize=(20,10))\n",
    "df.groupby('Marca').mean().sort_values(by='Precio', ascending=False)'''\n",
    "print()"
   ]
  },
  {
   "cell_type": "markdown",
   "id": "ec5bc73c",
   "metadata": {},
   "source": [
    "## Cantidad de registros:"
   ]
  },
  {
   "cell_type": "code",
   "execution_count": 4,
   "id": "fbd806cc",
   "metadata": {},
   "outputs": [
    {
     "name": "stdout",
     "output_type": "stream",
     "text": [
      "1240\n"
     ]
    }
   ],
   "source": [
    "print(len(df))"
   ]
  },
  {
   "cell_type": "markdown",
   "id": "949df24b",
   "metadata": {},
   "source": [
    "## Presencia de cada marca en el sitio:"
   ]
  },
  {
   "cell_type": "code",
   "execution_count": 5,
   "id": "a46dc89f",
   "metadata": {},
   "outputs": [
    {
     "data": {
      "text/plain": [
       "LG              324\n",
       "Samsung         297\n",
       "Philips         138\n",
       "ViewSonic        73\n",
       "Asus             70\n",
       "Acer             39\n",
       "HP               37\n",
       "Gigabyte         31\n",
       "Dell             27\n",
       "Level Up         26\n",
       "BenQ             24\n",
       "Daewoo           20\n",
       "Gfast            20\n",
       "Noblex           16\n",
       "AOC              13\n",
       "Redragon         12\n",
       "MSI               7\n",
       "Lenovo            6\n",
       "iQual             6\n",
       "HKC               5\n",
       "JBMI              4\n",
       "E-View            4\n",
       "Westinghouse      4\n",
       "BeOne             3\n",
       "Noxido            3\n",
       "CX                3\n",
       "Hikvision         3\n",
       "Apple             3\n",
       "Gadnic            3\n",
       "CHECKPOINT        2\n",
       "Enova             2\n",
       "Naxido            2\n",
       "Etheos            2\n",
       "HDC               1\n",
       "G-FAST            1\n",
       "Tedge             1\n",
       "Suono             1\n",
       "Ozone             1\n",
       "Mtek              1\n",
       "Sceptre           1\n",
       "AOpen             1\n",
       "NEC               1\n",
       "Aorus             1\n",
       "Viotek            1\n",
       "Name: Marca, dtype: int64"
      ]
     },
     "execution_count": 5,
     "metadata": {},
     "output_type": "execute_result"
    }
   ],
   "source": [
    "df['Marca'].value_counts()"
   ]
  },
  {
   "cell_type": "markdown",
   "id": "f829879f",
   "metadata": {},
   "source": [
    "## Rango de tamaños para monitores en el sitio:"
   ]
  },
  {
   "cell_type": "code",
   "execution_count": 6,
   "id": "24d868f6",
   "metadata": {},
   "outputs": [
    {
     "name": "stdout",
     "output_type": "stream",
     "text": [
      "Tamaño más pequeño disponible: 15.6\n",
      "Tamaño más grande disponible: 49.0\n"
     ]
    }
   ],
   "source": [
    "tamaniosDeMonitorUnicos = list(df['Tamaño de la pantalla'].unique())\n",
    "tamaniosDeMonitorUnicos.sort()\n",
    "print('Tamaño más pequeño disponible:',tamaniosDeMonitorUnicos[0])\n",
    "print('Tamaño más grande disponible:',tamaniosDeMonitorUnicos[len(tamaniosDeMonitorUnicos)-1])"
   ]
  },
  {
   "cell_type": "markdown",
   "id": "1da61668",
   "metadata": {},
   "source": [
    "## Rango de precios para monitores en el sitio:"
   ]
  },
  {
   "cell_type": "code",
   "execution_count": 7,
   "id": "d06e4912",
   "metadata": {},
   "outputs": [
    {
     "name": "stdout",
     "output_type": "stream",
     "text": [
      "Precio más barato disponible para un monitor: ARS 37000\n",
      "Precio más caro disponible para un monitor: ARS 5999999\n"
     ]
    }
   ],
   "source": [
    "preciosUnicos = list(df['Precio'].unique())\n",
    "preciosUnicos.sort()\n",
    "print('Precio más barato disponible para un monitor: ARS',preciosUnicos[0])\n",
    "print('Precio más caro disponible para un monitor: ARS',preciosUnicos[len(preciosUnicos)-1])"
   ]
  },
  {
   "cell_type": "markdown",
   "id": "a2cbd3da",
   "metadata": {},
   "source": [
    "## Monitor con mayor frecuencia de actualización del sitio:"
   ]
  },
  {
   "cell_type": "code",
   "execution_count": 9,
   "id": "1877ac19",
   "metadata": {},
   "outputs": [
    {
     "data": {
      "text/html": [
       "<div>\n",
       "<style scoped>\n",
       "    .dataframe tbody tr th:only-of-type {\n",
       "        vertical-align: middle;\n",
       "    }\n",
       "\n",
       "    .dataframe tbody tr th {\n",
       "        vertical-align: top;\n",
       "    }\n",
       "\n",
       "    .dataframe thead th {\n",
       "        text-align: right;\n",
       "    }\n",
       "</style>\n",
       "<table border=\"1\" class=\"dataframe\">\n",
       "  <thead>\n",
       "    <tr style=\"text-align: right;\">\n",
       "      <th></th>\n",
       "      <th>Marca</th>\n",
       "      <th>Modelo</th>\n",
       "      <th>Tamaño de la pantalla</th>\n",
       "      <th>Tipo de resolución</th>\n",
       "      <th>Tipo de pantalla</th>\n",
       "      <th>Frecuencia de actualización</th>\n",
       "      <th>Precio</th>\n",
       "      <th>Link</th>\n",
       "    </tr>\n",
       "  </thead>\n",
       "  <tbody>\n",
       "    <tr>\n",
       "      <th>94</th>\n",
       "      <td>Asus</td>\n",
       "      <td>PG259QNR</td>\n",
       "      <td>24</td>\n",
       "      <td>FHD</td>\n",
       "      <td>LED</td>\n",
       "      <td>360</td>\n",
       "      <td>479000</td>\n",
       "      <td>https://www.mercadolibre.com.ar/monitor-gamer-...</td>\n",
       "    </tr>\n",
       "    <tr>\n",
       "      <th>534</th>\n",
       "      <td>ViewSonic</td>\n",
       "      <td>XG251G</td>\n",
       "      <td>24</td>\n",
       "      <td>FHD</td>\n",
       "      <td>LED</td>\n",
       "      <td>360</td>\n",
       "      <td>461219</td>\n",
       "      <td>https://articulo.mercadolibre.com.ar/MLA-12043...</td>\n",
       "    </tr>\n",
       "    <tr>\n",
       "      <th>844</th>\n",
       "      <td>ViewSonic</td>\n",
       "      <td>XG251G</td>\n",
       "      <td>24</td>\n",
       "      <td>FHD</td>\n",
       "      <td>LED</td>\n",
       "      <td>360</td>\n",
       "      <td>622639</td>\n",
       "      <td>https://articulo.mercadolibre.com.ar/MLA-12036...</td>\n",
       "    </tr>\n",
       "  </tbody>\n",
       "</table>\n",
       "</div>"
      ],
      "text/plain": [
       "         Marca    Modelo  Tamaño de la pantalla Tipo de resolución  \\\n",
       "94        Asus  PG259QNR                     24                FHD   \n",
       "534  ViewSonic    XG251G                     24                FHD   \n",
       "844  ViewSonic    XG251G                     24                FHD   \n",
       "\n",
       "    Tipo de pantalla  Frecuencia de actualización  Precio  \\\n",
       "94               LED                          360  479000   \n",
       "534              LED                          360  461219   \n",
       "844              LED                          360  622639   \n",
       "\n",
       "                                                  Link  \n",
       "94   https://www.mercadolibre.com.ar/monitor-gamer-...  \n",
       "534  https://articulo.mercadolibre.com.ar/MLA-12043...  \n",
       "844  https://articulo.mercadolibre.com.ar/MLA-12036...  "
      ]
     },
     "execution_count": 9,
     "metadata": {},
     "output_type": "execute_result"
    }
   ],
   "source": [
    "frecuenciasUnicas = list(df['Frecuencia de actualización'].unique())\n",
    "frecuenciasUnicas.sort()\n",
    "df[(df['Frecuencia de actualización'] == frecuenciasUnicas[len(frecuenciasUnicas)-1])]"
   ]
  },
  {
   "cell_type": "code",
   "execution_count": null,
   "id": "cd075a1b",
   "metadata": {},
   "outputs": [],
   "source": []
  }
 ],
 "metadata": {
  "kernelspec": {
   "display_name": "Python 3 (ipykernel)",
   "language": "python",
   "name": "python3"
  },
  "language_info": {
   "codemirror_mode": {
    "name": "ipython",
    "version": 3
   },
   "file_extension": ".py",
   "mimetype": "text/x-python",
   "name": "python",
   "nbconvert_exporter": "python",
   "pygments_lexer": "ipython3",
   "version": "3.9.12"
  }
 },
 "nbformat": 4,
 "nbformat_minor": 5
}
