{
 "cells": [
  {
   "cell_type": "code",
   "execution_count": 1,
   "id": "3c3126b1",
   "metadata": {},
   "outputs": [],
   "source": [
    "import pandas as pd\n",
    "import matplotlib.pyplot as plt\n",
    "import seaborn as sb"
   ]
  },
  {
   "cell_type": "markdown",
   "id": "a48efb9d",
   "metadata": {},
   "source": [
    "## Importamos los registros limpios y los exhibimos"
   ]
  },
  {
   "cell_type": "code",
   "execution_count": 2,
   "id": "dfb49fa0",
   "metadata": {},
   "outputs": [
    {
     "data": {
      "text/html": [
       "<div>\n",
       "<style scoped>\n",
       "    .dataframe tbody tr th:only-of-type {\n",
       "        vertical-align: middle;\n",
       "    }\n",
       "\n",
       "    .dataframe tbody tr th {\n",
       "        vertical-align: top;\n",
       "    }\n",
       "\n",
       "    .dataframe thead th {\n",
       "        text-align: right;\n",
       "    }\n",
       "</style>\n",
       "<table border=\"1\" class=\"dataframe\">\n",
       "  <thead>\n",
       "    <tr style=\"text-align: right;\">\n",
       "      <th></th>\n",
       "      <th>Marca</th>\n",
       "      <th>Modelo</th>\n",
       "      <th>Tamaño de la pantalla</th>\n",
       "      <th>Tipo de resolución</th>\n",
       "      <th>Tipo de pantalla</th>\n",
       "      <th>Frecuencia de actualización</th>\n",
       "      <th>Precio</th>\n",
       "      <th>Link</th>\n",
       "    </tr>\n",
       "  </thead>\n",
       "  <tbody>\n",
       "    <tr>\n",
       "      <th>0</th>\n",
       "      <td>Philips</td>\n",
       "      <td>271E1SCA/55</td>\n",
       "      <td>27</td>\n",
       "      <td>FHD</td>\n",
       "      <td>LCD</td>\n",
       "      <td>75</td>\n",
       "      <td>185999</td>\n",
       "      <td>https://www.mercadolibre.com.ar/monitor-gamer-...</td>\n",
       "    </tr>\n",
       "    <tr>\n",
       "      <th>1</th>\n",
       "      <td>Samsung</td>\n",
       "      <td>F24T35</td>\n",
       "      <td>24</td>\n",
       "      <td>FHD</td>\n",
       "      <td>LED</td>\n",
       "      <td>75</td>\n",
       "      <td>86999</td>\n",
       "      <td>https://www.mercadolibre.com.ar/monitor-gamer-...</td>\n",
       "    </tr>\n",
       "    <tr>\n",
       "      <th>2</th>\n",
       "      <td>Samsung</td>\n",
       "      <td>F22T35</td>\n",
       "      <td>22</td>\n",
       "      <td>FHD</td>\n",
       "      <td>LED</td>\n",
       "      <td>75</td>\n",
       "      <td>75999</td>\n",
       "      <td>https://www.mercadolibre.com.ar/monitor-gamer-...</td>\n",
       "    </tr>\n",
       "    <tr>\n",
       "      <th>3</th>\n",
       "      <td>Noblex</td>\n",
       "      <td>MK24X7100</td>\n",
       "      <td>24</td>\n",
       "      <td>FHD</td>\n",
       "      <td>LED</td>\n",
       "      <td>75</td>\n",
       "      <td>66990</td>\n",
       "      <td>https://www.mercadolibre.com.ar/monitor-led-no...</td>\n",
       "    </tr>\n",
       "    <tr>\n",
       "      <th>4</th>\n",
       "      <td>Philips</td>\n",
       "      <td>221V8</td>\n",
       "      <td>22</td>\n",
       "      <td>FHD</td>\n",
       "      <td>LCD</td>\n",
       "      <td>75</td>\n",
       "      <td>51499</td>\n",
       "      <td>https://www.mercadolibre.com.ar/monitor-gamer-...</td>\n",
       "    </tr>\n",
       "  </tbody>\n",
       "</table>\n",
       "</div>"
      ],
      "text/plain": [
       "     Marca       Modelo  Tamaño de la pantalla Tipo de resolución  \\\n",
       "0  Philips  271E1SCA/55                     27                FHD   \n",
       "1  Samsung       F24T35                     24                FHD   \n",
       "2  Samsung       F22T35                     22                FHD   \n",
       "3   Noblex    MK24X7100                     24                FHD   \n",
       "4  Philips        221V8                     22                FHD   \n",
       "\n",
       "  Tipo de pantalla  Frecuencia de actualización  Precio  \\\n",
       "0              LCD                           75  185999   \n",
       "1              LED                           75   86999   \n",
       "2              LED                           75   75999   \n",
       "3              LED                           75   66990   \n",
       "4              LCD                           75   51499   \n",
       "\n",
       "                                                Link  \n",
       "0  https://www.mercadolibre.com.ar/monitor-gamer-...  \n",
       "1  https://www.mercadolibre.com.ar/monitor-gamer-...  \n",
       "2  https://www.mercadolibre.com.ar/monitor-gamer-...  \n",
       "3  https://www.mercadolibre.com.ar/monitor-led-no...  \n",
       "4  https://www.mercadolibre.com.ar/monitor-gamer-...  "
      ]
     },
     "execution_count": 2,
     "metadata": {},
     "output_type": "execute_result"
    }
   ],
   "source": [
    "df = pd.read_csv('Monitores Nuevos - Registros limpios - Mercado Libre Argentina - Agosto 2023.csv', index_col= 0)\n",
    "\n",
    "# Números exhibidos como enteros redondos\n",
    "pd.options.display.float_format = '{:.0f}'.format\n",
    "\n",
    "df.head()"
   ]
  },
  {
   "cell_type": "markdown",
   "id": "edbdf33d",
   "metadata": {},
   "source": [
    "## Cantidad de registros: 1240"
   ]
  },
  {
   "cell_type": "code",
   "execution_count": 3,
   "id": "e0b4c4ef",
   "metadata": {},
   "outputs": [
    {
     "name": "stdout",
     "output_type": "stream",
     "text": [
      "1240\n"
     ]
    }
   ],
   "source": [
    "print(len(df))"
   ]
  },
  {
   "cell_type": "markdown",
   "id": "db9ef8dc",
   "metadata": {},
   "source": [
    "## Las cinco marcas con mayor presencia:"
   ]
  },
  {
   "cell_type": "code",
   "execution_count": 4,
   "id": "4ab81099",
   "metadata": {},
   "outputs": [
    {
     "data": {
      "text/plain": [
       "LG           324\n",
       "Samsung      297\n",
       "Philips      138\n",
       "ViewSonic     73\n",
       "Asus          70\n",
       "Name: Marca, dtype: int64"
      ]
     },
     "execution_count": 4,
     "metadata": {},
     "output_type": "execute_result"
    }
   ],
   "source": [
    "df['Marca'].value_counts()[range(5)]"
   ]
  },
  {
   "cell_type": "markdown",
   "id": "2b6ef4f7",
   "metadata": {},
   "source": [
    "## Rango de tamaños para monitores:"
   ]
  },
  {
   "cell_type": "code",
   "execution_count": 5,
   "id": "84be79b4",
   "metadata": {},
   "outputs": [
    {
     "name": "stdout",
     "output_type": "stream",
     "text": [
      "Tamaño más pequeño disponible: 15.6 \"\n",
      "Tamaño más grande disponible: 49.0 \"\n"
     ]
    }
   ],
   "source": [
    "print('Tamaño más pequeño disponible:',df['Tamaño de la pantalla'].min(),'\"')\n",
    "print('Tamaño más grande disponible:',df['Tamaño de la pantalla'].max(),'\"')"
   ]
  },
  {
   "cell_type": "markdown",
   "id": "24b6e0d8",
   "metadata": {},
   "source": [
    "## Rango de precios para monitores:"
   ]
  },
  {
   "cell_type": "code",
   "execution_count": 6,
   "id": "54d58f77",
   "metadata": {},
   "outputs": [
    {
     "name": "stdout",
     "output_type": "stream",
     "text": [
      "Precio más barato disponible: ARS 37000\n",
      "Precio más caro disponible: ARS 5999999\n"
     ]
    }
   ],
   "source": [
    "print('Precio más barato disponible: ARS',df['Precio'].min())\n",
    "print('Precio más caro disponible: ARS',df['Precio'].max())"
   ]
  },
  {
   "cell_type": "markdown",
   "id": "2406750c",
   "metadata": {},
   "source": [
    "## Monitor o monitores con la mayor frecuencia de actualización:"
   ]
  },
  {
   "cell_type": "code",
   "execution_count": 7,
   "id": "00b50190",
   "metadata": {},
   "outputs": [
    {
     "data": {
      "text/html": [
       "<div>\n",
       "<style scoped>\n",
       "    .dataframe tbody tr th:only-of-type {\n",
       "        vertical-align: middle;\n",
       "    }\n",
       "\n",
       "    .dataframe tbody tr th {\n",
       "        vertical-align: top;\n",
       "    }\n",
       "\n",
       "    .dataframe thead th {\n",
       "        text-align: right;\n",
       "    }\n",
       "</style>\n",
       "<table border=\"1\" class=\"dataframe\">\n",
       "  <thead>\n",
       "    <tr style=\"text-align: right;\">\n",
       "      <th></th>\n",
       "      <th>Marca</th>\n",
       "      <th>Modelo</th>\n",
       "      <th>Tamaño de la pantalla</th>\n",
       "      <th>Tipo de resolución</th>\n",
       "      <th>Tipo de pantalla</th>\n",
       "      <th>Frecuencia de actualización</th>\n",
       "      <th>Precio</th>\n",
       "      <th>Link</th>\n",
       "    </tr>\n",
       "  </thead>\n",
       "  <tbody>\n",
       "    <tr>\n",
       "      <th>94</th>\n",
       "      <td>Asus</td>\n",
       "      <td>PG259QNR</td>\n",
       "      <td>24</td>\n",
       "      <td>FHD</td>\n",
       "      <td>LED</td>\n",
       "      <td>360</td>\n",
       "      <td>479000</td>\n",
       "      <td>https://www.mercadolibre.com.ar/monitor-gamer-...</td>\n",
       "    </tr>\n",
       "    <tr>\n",
       "      <th>534</th>\n",
       "      <td>ViewSonic</td>\n",
       "      <td>XG251G</td>\n",
       "      <td>24</td>\n",
       "      <td>FHD</td>\n",
       "      <td>LED</td>\n",
       "      <td>360</td>\n",
       "      <td>461219</td>\n",
       "      <td>https://articulo.mercadolibre.com.ar/MLA-12043...</td>\n",
       "    </tr>\n",
       "    <tr>\n",
       "      <th>844</th>\n",
       "      <td>ViewSonic</td>\n",
       "      <td>XG251G</td>\n",
       "      <td>24</td>\n",
       "      <td>FHD</td>\n",
       "      <td>LED</td>\n",
       "      <td>360</td>\n",
       "      <td>622639</td>\n",
       "      <td>https://articulo.mercadolibre.com.ar/MLA-12036...</td>\n",
       "    </tr>\n",
       "  </tbody>\n",
       "</table>\n",
       "</div>"
      ],
      "text/plain": [
       "         Marca    Modelo  Tamaño de la pantalla Tipo de resolución  \\\n",
       "94        Asus  PG259QNR                     24                FHD   \n",
       "534  ViewSonic    XG251G                     24                FHD   \n",
       "844  ViewSonic    XG251G                     24                FHD   \n",
       "\n",
       "    Tipo de pantalla  Frecuencia de actualización  Precio  \\\n",
       "94               LED                          360  479000   \n",
       "534              LED                          360  461219   \n",
       "844              LED                          360  622639   \n",
       "\n",
       "                                                  Link  \n",
       "94   https://www.mercadolibre.com.ar/monitor-gamer-...  \n",
       "534  https://articulo.mercadolibre.com.ar/MLA-12043...  \n",
       "844  https://articulo.mercadolibre.com.ar/MLA-12036...  "
      ]
     },
     "execution_count": 7,
     "metadata": {},
     "output_type": "execute_result"
    }
   ],
   "source": [
    "df[(df['Frecuencia de actualización']==df['Frecuencia de actualización'].max())]"
   ]
  },
  {
   "cell_type": "markdown",
   "id": "c5d12acb",
   "metadata": {},
   "source": [
    "## Resolución de pantalla más común: FHD (Full High Definition)"
   ]
  },
  {
   "cell_type": "code",
   "execution_count": 8,
   "id": "513ce87a",
   "metadata": {},
   "outputs": [
    {
     "data": {
      "text/plain": [
       "<AxesSubplot:>"
      ]
     },
     "execution_count": 8,
     "metadata": {},
     "output_type": "execute_result"
    },
    {
     "data": {
      "image/png": "[encoded data removed]",
      "text/plain": [
       "<Figure size 720x360 with 1 Axes>"
      ]
     },
     "metadata": {
      "needs_background": "light"
     },
     "output_type": "display_data"
    }
   ],
   "source": [
    "df['Tipo de resolución'].value_counts().plot.bar(figsize=(10,5))"
   ]
  },
  {
   "cell_type": "markdown",
   "id": "9bf373ef",
   "metadata": {},
   "source": [
    "## Tipos de pantalla disponibles y su cantidad:"
   ]
  },
  {
   "cell_type": "code",
   "execution_count": 9,
   "id": "7c2a9079",
   "metadata": {},
   "outputs": [
    {
     "data": {
      "text/plain": [
       "LED        1060\n",
       "LCD         157\n",
       "LCD TFT       8\n",
       "LCD/LED       7\n",
       "LED IPS       4\n",
       "LED VA        3\n",
       "QLED          1\n",
       "Name: Tipo de pantalla, dtype: int64"
      ]
     },
     "execution_count": 9,
     "metadata": {},
     "output_type": "execute_result"
    }
   ],
   "source": [
    "df['Tipo de pantalla'].value_counts()"
   ]
  },
  {
   "cell_type": "markdown",
   "id": "7832b3b4",
   "metadata": {},
   "source": [
    "## Los tres monitores más caros:"
   ]
  },
  {
   "cell_type": "markdown",
   "id": "a7c47b9e",
   "metadata": {},
   "source": [
    "<p>Todos coinciden con la marca Apple. Tienen resoluciones UHD (Ultra High Definition) entre 5K y 6K. Y sus precios van entre ARS 5.000.000 y ARS 6.000.000</p>"
   ]
  },
  {
   "cell_type": "code",
   "execution_count": 10,
   "id": "145cdcd8",
   "metadata": {
    "scrolled": true
   },
   "outputs": [
    {
     "data": {
      "text/html": [
       "<div>\n",
       "<style scoped>\n",
       "    .dataframe tbody tr th:only-of-type {\n",
       "        vertical-align: middle;\n",
       "    }\n",
       "\n",
       "    .dataframe tbody tr th {\n",
       "        vertical-align: top;\n",
       "    }\n",
       "\n",
       "    .dataframe thead th {\n",
       "        text-align: right;\n",
       "    }\n",
       "</style>\n",
       "<table border=\"1\" class=\"dataframe\">\n",
       "  <thead>\n",
       "    <tr style=\"text-align: right;\">\n",
       "      <th></th>\n",
       "      <th>Marca</th>\n",
       "      <th>Modelo</th>\n",
       "      <th>Tamaño de la pantalla</th>\n",
       "      <th>Tipo de resolución</th>\n",
       "      <th>Tipo de pantalla</th>\n",
       "      <th>Frecuencia de actualización</th>\n",
       "      <th>Precio</th>\n",
       "      <th>Link</th>\n",
       "    </tr>\n",
       "  </thead>\n",
       "  <tbody>\n",
       "    <tr>\n",
       "      <th>1611</th>\n",
       "      <td>Apple</td>\n",
       "      <td>XDR NANO</td>\n",
       "      <td>32</td>\n",
       "      <td>UHD 6K</td>\n",
       "      <td>LED</td>\n",
       "      <td>47</td>\n",
       "      <td>5999999</td>\n",
       "      <td>https://articulo.mercadolibre.com.ar/MLA-11874...</td>\n",
       "    </tr>\n",
       "    <tr>\n",
       "      <th>1672</th>\n",
       "      <td>Apple</td>\n",
       "      <td>XDR STANDARD</td>\n",
       "      <td>32</td>\n",
       "      <td>UHD 6K</td>\n",
       "      <td>LED</td>\n",
       "      <td>47</td>\n",
       "      <td>5599999</td>\n",
       "      <td>https://articulo.mercadolibre.com.ar/MLA-11874...</td>\n",
       "    </tr>\n",
       "    <tr>\n",
       "      <th>1673</th>\n",
       "      <td>Apple</td>\n",
       "      <td>XDR NANO</td>\n",
       "      <td>27</td>\n",
       "      <td>UHD 5K</td>\n",
       "      <td>LED</td>\n",
       "      <td>47</td>\n",
       "      <td>4999999</td>\n",
       "      <td>https://articulo.mercadolibre.com.ar/MLA-11000...</td>\n",
       "    </tr>\n",
       "  </tbody>\n",
       "</table>\n",
       "</div>"
      ],
      "text/plain": [
       "      Marca        Modelo  Tamaño de la pantalla Tipo de resolución  \\\n",
       "1611  Apple      XDR NANO                     32             UHD 6K   \n",
       "1672  Apple  XDR STANDARD                     32             UHD 6K   \n",
       "1673  Apple      XDR NANO                     27             UHD 5K   \n",
       "\n",
       "     Tipo de pantalla  Frecuencia de actualización   Precio  \\\n",
       "1611              LED                           47  5999999   \n",
       "1672              LED                           47  5599999   \n",
       "1673              LED                           47  4999999   \n",
       "\n",
       "                                                   Link  \n",
       "1611  https://articulo.mercadolibre.com.ar/MLA-11874...  \n",
       "1672  https://articulo.mercadolibre.com.ar/MLA-11874...  \n",
       "1673  https://articulo.mercadolibre.com.ar/MLA-11000...  "
      ]
     },
     "execution_count": 10,
     "metadata": {},
     "output_type": "execute_result"
    }
   ],
   "source": [
    "df.sort_values(by='Precio', ascending = False).head(3)"
   ]
  },
  {
   "cell_type": "markdown",
   "id": "51743bb6",
   "metadata": {},
   "source": [
    "## Marca con mayor variedad de tamaños:"
   ]
  },
  {
   "cell_type": "code",
   "execution_count": 11,
   "id": "0006bfe8",
   "metadata": {},
   "outputs": [
    {
     "name": "stdout",
     "output_type": "stream",
     "text": [
      "La marca con mayor variedad de tamaños de monitores es LG con 20 variedades diferentes.\n"
     ]
    }
   ],
   "source": [
    "cantidad = 0\n",
    "marcaMayorVariedadTamanio = ''\n",
    "\n",
    "for x in df['Marca'].unique():\n",
    "    \n",
    "    listaTamanios = df[(df['Marca'] == x)]['Tamaño de la pantalla'].unique()\n",
    "    \n",
    "    if len(listaTamanios) > cantidad:\n",
    "        cantidad = len(listaTamanios)\n",
    "        marcaMayorVariedadTamanio = x\n",
    "            \n",
    "print('La marca con mayor variedad de tamaños de monitores es', marcaMayorVariedadTamanio,\"con\",cantidad,\"variedades diferentes.\")"
   ]
  },
  {
   "cell_type": "markdown",
   "id": "77610852",
   "metadata": {},
   "source": [
    "## Marca con mayor variedad de resoluciones de pantalla:"
   ]
  },
  {
   "cell_type": "code",
   "execution_count": 12,
   "id": "c7f55a3e",
   "metadata": {},
   "outputs": [
    {
     "name": "stdout",
     "output_type": "stream",
     "text": [
      "La marca con mayor variedad de resoluciones de pantalla es LG con 7 variedades diferentes.\n"
     ]
    }
   ],
   "source": [
    "cantidad = 0\n",
    "marcaMayorVariedadRes = ''\n",
    "\n",
    "for x in df['Marca'].unique():\n",
    "    \n",
    "    listaResolucion = df[(df['Marca'] == x)]['Tipo de resolución'].unique()\n",
    "    \n",
    "    if len(listaResolucion) > cantidad:\n",
    "        cantidad = len(listaResolucion)\n",
    "        marcaMayorVariedadRes = x\n",
    "            \n",
    "print('La marca con mayor variedad de resoluciones de pantalla es', marcaMayorVariedadRes,\"con\",cantidad,\"variedades diferentes.\")"
   ]
  },
  {
   "cell_type": "markdown",
   "id": "13461093",
   "metadata": {},
   "source": [
    "## Marca con mayor variedad de tipos de pantalla:"
   ]
  },
  {
   "cell_type": "code",
   "execution_count": 13,
   "id": "2cc1a5a1",
   "metadata": {},
   "outputs": [
    {
     "name": "stdout",
     "output_type": "stream",
     "text": [
      "La marca con mayor variedad de tipos de pantalla es Samsung con 5 variedades diferentes.\n"
     ]
    }
   ],
   "source": [
    "cantidad = 0\n",
    "marcaMayorVariedadTipoPantalla = ''\n",
    "\n",
    "for x in df['Marca'].unique():\n",
    "    \n",
    "    listaTipoPantalla = df[(df['Marca'] == x)]['Tipo de pantalla'].unique()\n",
    "    \n",
    "    if len(listaTipoPantalla) > cantidad:\n",
    "        cantidad = len(listaTipoPantalla)\n",
    "        marcaMayorVariedadTipoPantalla = x\n",
    "            \n",
    "print('La marca con mayor variedad de tipos de pantalla es', marcaMayorVariedadTipoPantalla,\"con\",cantidad,\"variedades diferentes.\")"
   ]
  },
  {
   "cell_type": "markdown",
   "id": "aa60ebd4",
   "metadata": {},
   "source": [
    "## Marca con mayor variedad de frecuencias de actualización:"
   ]
  },
  {
   "cell_type": "code",
   "execution_count": 14,
   "id": "953f37e0",
   "metadata": {},
   "outputs": [
    {
     "name": "stdout",
     "output_type": "stream",
     "text": [
      "La marca con mayor variedad de frecuencias de actualización es LG con 7 variedades diferentes.\n"
     ]
    }
   ],
   "source": [
    "cantidad = 0\n",
    "marcaMayorVariedadFrec = ''\n",
    "\n",
    "for x in df['Marca'].unique():\n",
    "    \n",
    "    listaFrecuencias = df[(df['Marca'] == x)]['Frecuencia de actualización'].unique()\n",
    "    \n",
    "    if len(listaFrecuencias) > cantidad:\n",
    "        cantidad = len(listaFrecuencias)\n",
    "        marcaMayorVariedadFrec = x\n",
    "            \n",
    "print('La marca con mayor variedad de frecuencias de actualización es', marcaMayorVariedadFrec,\"con\",cantidad,\"variedades diferentes.\")"
   ]
  },
  {
   "cell_type": "markdown",
   "id": "526bed42",
   "metadata": {},
   "source": [
    "## Monitor o monitores más económicos del mercado:"
   ]
  },
  {
   "cell_type": "code",
   "execution_count": 15,
   "id": "371333c6",
   "metadata": {},
   "outputs": [
    {
     "data": {
      "text/html": [
       "<div>\n",
       "<style scoped>\n",
       "    .dataframe tbody tr th:only-of-type {\n",
       "        vertical-align: middle;\n",
       "    }\n",
       "\n",
       "    .dataframe tbody tr th {\n",
       "        vertical-align: top;\n",
       "    }\n",
       "\n",
       "    .dataframe thead th {\n",
       "        text-align: right;\n",
       "    }\n",
       "</style>\n",
       "<table border=\"1\" class=\"dataframe\">\n",
       "  <thead>\n",
       "    <tr style=\"text-align: right;\">\n",
       "      <th></th>\n",
       "      <th>Marca</th>\n",
       "      <th>Modelo</th>\n",
       "      <th>Tamaño de la pantalla</th>\n",
       "      <th>Tipo de resolución</th>\n",
       "      <th>Tipo de pantalla</th>\n",
       "      <th>Frecuencia de actualización</th>\n",
       "      <th>Precio</th>\n",
       "      <th>Link</th>\n",
       "    </tr>\n",
       "  </thead>\n",
       "  <tbody>\n",
       "    <tr>\n",
       "      <th>1432</th>\n",
       "      <td>iQual</td>\n",
       "      <td>Home19</td>\n",
       "      <td>19</td>\n",
       "      <td>HD</td>\n",
       "      <td>LED</td>\n",
       "      <td>75</td>\n",
       "      <td>37000</td>\n",
       "      <td>https://articulo.mercadolibre.com.ar/MLA-14288...</td>\n",
       "    </tr>\n",
       "  </tbody>\n",
       "</table>\n",
       "</div>"
      ],
      "text/plain": [
       "      Marca  Modelo  Tamaño de la pantalla Tipo de resolución  \\\n",
       "1432  iQual  Home19                     19                 HD   \n",
       "\n",
       "     Tipo de pantalla  Frecuencia de actualización  Precio  \\\n",
       "1432              LED                           75   37000   \n",
       "\n",
       "                                                   Link  \n",
       "1432  https://articulo.mercadolibre.com.ar/MLA-14288...  "
      ]
     },
     "execution_count": 15,
     "metadata": {},
     "output_type": "execute_result"
    }
   ],
   "source": [
    "df[(df['Precio']==df['Precio'].min())]"
   ]
  },
  {
   "cell_type": "markdown",
   "id": "e07eda6f",
   "metadata": {},
   "source": [
    "## Histograma de precios"
   ]
  },
  {
   "cell_type": "code",
   "execution_count": 16,
   "id": "de4fdff0",
   "metadata": {},
   "outputs": [
    {
     "data": {
      "text/plain": [
       "<AxesSubplot:ylabel='Frequency'>"
      ]
     },
     "execution_count": 16,
     "metadata": {},
     "output_type": "execute_result"
    },
    {
     "data": {
      "image/png": "[encoded data removed]",
      "text/plain": [
       "<Figure size 1440x720 with 1 Axes>"
      ]
     },
     "metadata": {
      "needs_background": "light"
     },
     "output_type": "display_data"
    }
   ],
   "source": [
    "df['Precio'].plot.hist(figsize=(20,10),bins = 100)"
   ]
  },
  {
   "cell_type": "markdown",
   "id": "0e18fbbf",
   "metadata": {},
   "source": [
    "## Relación entre precio y tamaño de pantalla"
   ]
  },
  {
   "cell_type": "code",
   "execution_count": 17,
   "id": "1e8027fb",
   "metadata": {
    "scrolled": false
   },
   "outputs": [
    {
     "data": {
      "text/plain": [
       "<AxesSubplot:xlabel='Tamaño de la pantalla', ylabel='Precio'>"
      ]
     },
     "execution_count": 17,
     "metadata": {},
     "output_type": "execute_result"
    },
    {
     "data": {
      "image/png": "[encoded data removed]",
      "text/plain": [
       "<Figure size 1440x720 with 1 Axes>"
      ]
     },
     "metadata": {
      "needs_background": "light"
     },
     "output_type": "display_data"
    }
   ],
   "source": [
    "df[['Tamaño de la pantalla','Precio']].plot.scatter(x=0,y=1,figsize=(20,10))"
   ]
  },
  {
   "cell_type": "markdown",
   "id": "adc88266",
   "metadata": {},
   "source": [
    "## Relación entre precio y frecuencia de actualización"
   ]
  },
  {
   "cell_type": "code",
   "execution_count": 18,
   "id": "4928132a",
   "metadata": {},
   "outputs": [
    {
     "data": {
      "text/plain": [
       "<AxesSubplot:xlabel='Frecuencia de actualización', ylabel='Precio'>"
      ]
     },
     "execution_count": 18,
     "metadata": {},
     "output_type": "execute_result"
    },
    {
     "data": {
      "image/png": "[encoded data removed]",
      "text/plain": [
       "<Figure size 1440x720 with 1 Axes>"
      ]
     },
     "metadata": {
      "needs_background": "light"
     },
     "output_type": "display_data"
    }
   ],
   "source": [
    "df[['Frecuencia de actualización','Precio']].plot.scatter(x=0,y=1,figsize=(20,10))"
   ]
  },
  {
   "cell_type": "markdown",
   "id": "63682b84",
   "metadata": {},
   "source": [
    "## Relación entre precio y tipo de resolución"
   ]
  },
  {
   "cell_type": "code",
   "execution_count": 19,
   "id": "085b3b4d",
   "metadata": {},
   "outputs": [
    {
     "data": {
      "text/plain": [
       "<AxesSubplot:xlabel='Tipo de resolución', ylabel='Precio'>"
      ]
     },
     "execution_count": 19,
     "metadata": {},
     "output_type": "execute_result"
    },
    {
     "data": {
      "image/png": "[encoded data removed]",
      "text/plain": [
       "<Figure size 1440x720 with 1 Axes>"
      ]
     },
     "metadata": {
      "needs_background": "light"
     },
     "output_type": "display_data"
    }
   ],
   "source": [
    "df[['Tipo de resolución','Precio']].plot.scatter(x=0,y=1,figsize=(20,10))"
   ]
  },
  {
   "cell_type": "markdown",
   "id": "2559d105",
   "metadata": {},
   "source": [
    "## La marca más cara en promedio"
   ]
  },
  {
   "cell_type": "markdown",
   "id": "3a04d575",
   "metadata": {},
   "source": [
    "<p>Apple, con un precio promedio de ARS 5.533.332</p>"
   ]
  },
  {
   "cell_type": "code",
   "execution_count": 20,
   "id": "a36bcfb7",
   "metadata": {
    "scrolled": true
   },
   "outputs": [
    {
     "data": {
      "text/plain": [
       "Precio   5533332\n",
       "Name: Apple, dtype: float64"
      ]
     },
     "execution_count": 20,
     "metadata": {},
     "output_type": "execute_result"
    }
   ],
   "source": [
    "df[['Marca','Precio']].groupby('Marca').mean().sort_values(by='Precio', ascending=False).iloc[0]"
   ]
  }
 ],
 "metadata": {
  "kernelspec": {
   "display_name": "Python 3 (ipykernel)",
   "language": "python",
   "name": "python3"
  },
  "language_info": {
   "codemirror_mode": {
    "name": "ipython",
    "version": 3
   },
   "file_extension": ".py",
   "mimetype": "text/x-python",
   "name": "python",
   "nbconvert_exporter": "python",
   "pygments_lexer": "ipython3",
   "version": "3.9.12"
  }
 },
 "nbformat": 4,
 "nbformat_minor": 5
}
